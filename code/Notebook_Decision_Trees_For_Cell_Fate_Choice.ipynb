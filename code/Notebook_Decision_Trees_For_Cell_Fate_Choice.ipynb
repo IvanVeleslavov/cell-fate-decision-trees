{
 "cells": [
  {
   "cell_type": "markdown",
   "metadata": {},
   "source": [
    "# Decision Tree Models for Cell Fate Choice"
   ]
  },
  {
   "cell_type": "markdown",
   "metadata": {},
   "source": [
    "Notebook provided in support of the \"Decision Trees for Cell Fate Choice\" manuscript written by Ivan A. Croydon Veleslavov and Professor Michael P.H. Stumpf. This notebook covers training decision tree models in Julia from single-cell data, assessing their predictive performance on witheld samples as well as providing several model visualisations and extensions.\n",
    "\n",
    "* [Learning decision tree models](#Learning-decision-tree-models)\n",
    "* [Exploring model structure](#Exploring-model-structure)\n",
    "* [Evaluating model performance](#Evaluating-model-performance)\n",
    "* [Designing minimal perturbations for sample reclassification](#Minimal-perturbations-for-sample-reclassification)\n",
    "* [Resolving embryogenesis in Xenopus tropicalis with scaffolded trees](#Resolving-embryogenesis-in-Xenopus-tropicalis)"
   ]
  },
  {
   "cell_type": "markdown",
   "metadata": {},
   "source": [
    "### Package requirements"
   ]
  },
  {
   "cell_type": "code",
   "execution_count": 1,
   "metadata": {},
   "outputs": [],
   "source": [
    "using CSV, DataFrames, DecisionTree, Distributions, Random, StatsPlots"
   ]
  },
  {
   "cell_type": "code",
   "execution_count": 2,
   "metadata": {},
   "outputs": [
    {
     "data": {
      "text/plain": [
       "Main.CellFateDecisionTrees"
      ]
     },
     "execution_count": 2,
     "metadata": {},
     "output_type": "execute_result"
    }
   ],
   "source": [
    "include(\"CellFateDecisionTrees.jl\")"
   ]
  },
  {
   "cell_type": "markdown",
   "metadata": {},
   "source": [
    "### Reading in the data"
   ]
  },
  {
   "cell_type": "code",
   "execution_count": 3,
   "metadata": {},
   "outputs": [
    {
     "name": "stderr",
     "output_type": "stream",
     "text": [
      "┌ Warning: `convert(::Type{Array}, df::AbstractDataFrame)` is deprecated, use `convert(Matrix, df)` instead.\n",
      "│   caller = top-level scope at In[3]:3\n",
      "└ @ Core In[3]:3\n"
     ]
    }
   ],
   "source": [
    "# Read in the murine gene expression and sample labels\n",
    "mur_df = CSV.read(\"../data/murine/murine_expression.csv\");\n",
    "mur_features = deepcopy(convert(Array, mur_df))\n",
    "\n",
    "# Read in the associated annotation data\n",
    "mur_labels = CSV.read(\"../data/murine/murine_annotations.csv\");\n",
    "\n",
    "# Add the class labels as a column \"Classifcation\" to the expression data\n",
    "mur_df[:Classification] = mur_labels[:Class];"
   ]
  },
  {
   "cell_type": "markdown",
   "metadata": {},
   "source": [
    "### Learning decision tree models\n",
    "\n",
    "First, we define a Boolean variable to split the data into training and test sets"
   ]
  },
  {
   "cell_type": "code",
   "execution_count": 4,
   "metadata": {},
   "outputs": [],
   "source": [
    "# Set seed first\n",
    "Random.seed!(1234)\n",
    "\n",
    "mur_train = rand(Bernoulli(0.75), nrow(mur_df)) .== 1;\n",
    "mur_test = map(!, mur_train);"
   ]
  },
  {
   "cell_type": "markdown",
   "metadata": {},
   "source": [
    "Then we can train a decision tree model on the samples contained in this training data to predict cell class labels (ESC, EPI, NPC) from the gene expression data"
   ]
  },
  {
   "cell_type": "code",
   "execution_count": 5,
   "metadata": {},
   "outputs": [],
   "source": [
    "mur_model = build_tree(mur_labels[mur_train,1], mur_features[mur_train,:]);"
   ]
  },
  {
   "cell_type": "markdown",
   "metadata": {},
   "source": [
    "### Exploring model structure"
   ]
  },
  {
   "cell_type": "markdown",
   "metadata": {},
   "source": [
    "A summary of the learnt model's constituent nodes can be generated using the <code>summarise_tree</code> function."
   ]
  },
  {
   "cell_type": "code",
   "execution_count": 6,
   "metadata": {},
   "outputs": [
    {
     "data": {
      "text/html": [
       "<table class=\"data-frame\"><thead><tr><th></th><th>Node_name</th><th>Depth</th><th>Node_type</th><th>Node_size</th><th>Parent_name</th><th>Direction</th><th>Entropy</th></tr><tr><th></th><th>String</th><th>Int64</th><th>String</th><th>Int64</th><th>String</th><th>String</th><th>Float64</th></tr></thead><tbody><p>45 rows × 8 columns (omitted printing of 1 columns)</p><tr><th>1</th><td>Fgf4,1.9</td><td>0</td><td>Internal</td><td>547</td><td>Root</td><td>na</td><td>0.499662</td></tr><tr><th>2</th><td>Pou5f1,7.65</td><td>1</td><td>Internal</td><td>267</td><td>Fgf4,1.9</td><td>L</td><td>0.207404</td></tr><tr><th>3</th><td>Klf4,10.94</td><td>1</td><td>Internal</td><td>280</td><td>Fgf4,1.9</td><td>R</td><td>0.371187</td></tr><tr><th>4</th><td>Esrrb,11.83</td><td>2</td><td>Internal</td><td>193</td><td>Pou5f1,7.65</td><td>L</td><td>0.0486981</td></tr><tr><th>5</th><td>Myst3,12.55</td><td>2</td><td>Internal</td><td>74</td><td>Pou5f1,7.65</td><td>R</td><td>0.333333</td></tr><tr><th>6</th><td>Zfp42,13.7</td><td>2</td><td>Internal</td><td>196</td><td>Klf4,10.94</td><td>L</td><td>0.220749</td></tr><tr><th>7</th><td>Fgf5,9.74</td><td>2</td><td>Internal</td><td>84</td><td>Klf4,10.94</td><td>R</td><td>0.0889217</td></tr><tr><th>8</th><td>Fbxo15,15.45</td><td>3</td><td>Internal</td><td>191</td><td>Esrrb,11.83</td><td>L</td><td>0.0201581</td></tr><tr><th>9</th><td>EPI</td><td>3</td><td>External</td><td>2</td><td>Esrrb,11.83</td><td>R</td><td>0.0</td></tr><tr><th>10</th><td>Dppa4,9.92</td><td>3</td><td>Internal</td><td>43</td><td>Myst3,12.55</td><td>L</td><td>0.26635</td></tr><tr><th>11</th><td>Gdf3,11.79</td><td>3</td><td>Internal</td><td>31</td><td>Myst3,12.55</td><td>R</td><td>0.18621</td></tr><tr><th>12</th><td>Dnmt3b,16.15</td><td>3</td><td>Internal</td><td>152</td><td>Zfp42,13.7</td><td>L</td><td>0.108922</td></tr><tr><th>13</th><td>Gli2,3.05</td><td>3</td><td>Internal</td><td>44</td><td>Zfp42,13.7</td><td>R</td><td>0.309176</td></tr><tr><th>14</th><td>ESC</td><td>3</td><td>External</td><td>78</td><td>Fgf5,9.74</td><td>L</td><td>0.0</td></tr><tr><th>15</th><td>Trp53,13.69</td><td>3</td><td>Internal</td><td>6</td><td>Fgf5,9.74</td><td>R</td><td>0.32365</td></tr><tr><th>16</th><td>NPC</td><td>4</td><td>External</td><td>188</td><td>Fbxo15,15.45</td><td>L</td><td>0.0</td></tr><tr><th>17</th><td>EPI</td><td>4</td><td>External</td><td>3</td><td>Fbxo15,15.45</td><td>R</td><td>0.0</td></tr><tr><th>18</th><td>Bmp7,3.64</td><td>4</td><td>Internal</td><td>22</td><td>Dppa4,9.92</td><td>L</td><td>0.327314</td></tr><tr><th>19</th><td>EPI</td><td>4</td><td>External</td><td>21</td><td>Dppa4,9.92</td><td>R</td><td>0.0</td></tr><tr><th>20</th><td>NPC</td><td>4</td><td>External</td><td>26</td><td>Gdf3,11.79</td><td>L</td><td>0.0</td></tr><tr><th>21</th><td>Smarcc1,14.31</td><td>4</td><td>Internal</td><td>5</td><td>Gdf3,11.79</td><td>R</td><td>0.270426</td></tr><tr><th>22</th><td>Rai1,11.18</td><td>4</td><td>Internal</td><td>30</td><td>Dnmt3b,16.15</td><td>L</td><td>0.306099</td></tr><tr><th>23</th><td>EPI</td><td>4</td><td>External</td><td>122</td><td>Dnmt3b,16.15</td><td>R</td><td>0.0</td></tr><tr><th>24</th><td>Kdm1a,16.53</td><td>4</td><td>Internal</td><td>30</td><td>Gli2,3.05</td><td>L</td><td>0.0860062</td></tr><tr><th>25</th><td>Mef2a,10.93</td><td>4</td><td>Internal</td><td>14</td><td>Gli2,3.05</td><td>R</td><td>0.137939</td></tr><tr><th>26</th><td>ESC</td><td>4</td><td>External</td><td>3</td><td>Trp53,13.69</td><td>L</td><td>0.0</td></tr><tr><th>27</th><td>EPI</td><td>4</td><td>External</td><td>3</td><td>Trp53,13.69</td><td>R</td><td>0.0</td></tr><tr><th>28</th><td>Cdk2,14.57</td><td>5</td><td>Internal</td><td>11</td><td>Bmp7,3.64</td><td>L</td><td>0.156332</td></tr><tr><th>29</th><td>Zfp42,10.8</td><td>5</td><td>Internal</td><td>11</td><td>Bmp7,3.64</td><td>R</td><td>0.254735</td></tr><tr><th>30</th><td>NPC</td><td>5</td><td>External</td><td>2</td><td>Smarcc1,14.31</td><td>L</td><td>0.0</td></tr><tr><th>&vellip;</th><td>&vellip;</td><td>&vellip;</td><td>&vellip;</td><td>&vellip;</td><td>&vellip;</td><td>&vellip;</td><td>&vellip;</td></tr></tbody></table>"
      ],
      "text/latex": [
       "\\begin{tabular}{r|cccccccc}\n",
       "\t& Node\\_name & Depth & Node\\_type & Node\\_size & Parent\\_name & Direction & Entropy & \\\\\n",
       "\t\\hline\n",
       "\t& String & Int64 & String & Int64 & String & String & Float64 & \\\\\n",
       "\t\\hline\n",
       "\t1 & Fgf4,1.9 & 0 & Internal & 547 & Root & na & 0.499662 & $\\dots$ \\\\\n",
       "\t2 & Pou5f1,7.65 & 1 & Internal & 267 & Fgf4,1.9 & L & 0.207404 & $\\dots$ \\\\\n",
       "\t3 & Klf4,10.94 & 1 & Internal & 280 & Fgf4,1.9 & R & 0.371187 & $\\dots$ \\\\\n",
       "\t4 & Esrrb,11.83 & 2 & Internal & 193 & Pou5f1,7.65 & L & 0.0486981 & $\\dots$ \\\\\n",
       "\t5 & Myst3,12.55 & 2 & Internal & 74 & Pou5f1,7.65 & R & 0.333333 & $\\dots$ \\\\\n",
       "\t6 & Zfp42,13.7 & 2 & Internal & 196 & Klf4,10.94 & L & 0.220749 & $\\dots$ \\\\\n",
       "\t7 & Fgf5,9.74 & 2 & Internal & 84 & Klf4,10.94 & R & 0.0889217 & $\\dots$ \\\\\n",
       "\t8 & Fbxo15,15.45 & 3 & Internal & 191 & Esrrb,11.83 & L & 0.0201581 & $\\dots$ \\\\\n",
       "\t9 & EPI & 3 & External & 2 & Esrrb,11.83 & R & 0.0 & $\\dots$ \\\\\n",
       "\t10 & Dppa4,9.92 & 3 & Internal & 43 & Myst3,12.55 & L & 0.26635 & $\\dots$ \\\\\n",
       "\t11 & Gdf3,11.79 & 3 & Internal & 31 & Myst3,12.55 & R & 0.18621 & $\\dots$ \\\\\n",
       "\t12 & Dnmt3b,16.15 & 3 & Internal & 152 & Zfp42,13.7 & L & 0.108922 & $\\dots$ \\\\\n",
       "\t13 & Gli2,3.05 & 3 & Internal & 44 & Zfp42,13.7 & R & 0.309176 & $\\dots$ \\\\\n",
       "\t14 & ESC & 3 & External & 78 & Fgf5,9.74 & L & 0.0 & $\\dots$ \\\\\n",
       "\t15 & Trp53,13.69 & 3 & Internal & 6 & Fgf5,9.74 & R & 0.32365 & $\\dots$ \\\\\n",
       "\t16 & NPC & 4 & External & 188 & Fbxo15,15.45 & L & 0.0 & $\\dots$ \\\\\n",
       "\t17 & EPI & 4 & External & 3 & Fbxo15,15.45 & R & 0.0 & $\\dots$ \\\\\n",
       "\t18 & Bmp7,3.64 & 4 & Internal & 22 & Dppa4,9.92 & L & 0.327314 & $\\dots$ \\\\\n",
       "\t19 & EPI & 4 & External & 21 & Dppa4,9.92 & R & 0.0 & $\\dots$ \\\\\n",
       "\t20 & NPC & 4 & External & 26 & Gdf3,11.79 & L & 0.0 & $\\dots$ \\\\\n",
       "\t21 & Smarcc1,14.31 & 4 & Internal & 5 & Gdf3,11.79 & R & 0.270426 & $\\dots$ \\\\\n",
       "\t22 & Rai1,11.18 & 4 & Internal & 30 & Dnmt3b,16.15 & L & 0.306099 & $\\dots$ \\\\\n",
       "\t23 & EPI & 4 & External & 122 & Dnmt3b,16.15 & R & 0.0 & $\\dots$ \\\\\n",
       "\t24 & Kdm1a,16.53 & 4 & Internal & 30 & Gli2,3.05 & L & 0.0860062 & $\\dots$ \\\\\n",
       "\t25 & Mef2a,10.93 & 4 & Internal & 14 & Gli2,3.05 & R & 0.137939 & $\\dots$ \\\\\n",
       "\t26 & ESC & 4 & External & 3 & Trp53,13.69 & L & 0.0 & $\\dots$ \\\\\n",
       "\t27 & EPI & 4 & External & 3 & Trp53,13.69 & R & 0.0 & $\\dots$ \\\\\n",
       "\t28 & Cdk2,14.57 & 5 & Internal & 11 & Bmp7,3.64 & L & 0.156332 & $\\dots$ \\\\\n",
       "\t29 & Zfp42,10.8 & 5 & Internal & 11 & Bmp7,3.64 & R & 0.254735 & $\\dots$ \\\\\n",
       "\t30 & NPC & 5 & External & 2 & Smarcc1,14.31 & L & 0.0 & $\\dots$ \\\\\n",
       "\t$\\dots$ & $\\dots$ & $\\dots$ & $\\dots$ & $\\dots$ & $\\dots$ & $\\dots$ & $\\dots$ &  \\\\\n",
       "\\end{tabular}\n"
      ],
      "text/plain": [
       "45×8 DataFrame. Omitted printing of 2 columns\n",
       "│ Row │ Node_name    │ Depth │ Node_type │ Node_size │ Parent_name │ Direction │\n",
       "│     │ \u001b[90mString\u001b[39m       │ \u001b[90mInt64\u001b[39m │ \u001b[90mString\u001b[39m    │ \u001b[90mInt64\u001b[39m     │ \u001b[90mString\u001b[39m      │ \u001b[90mString\u001b[39m    │\n",
       "├─────┼──────────────┼───────┼───────────┼───────────┼─────────────┼───────────┤\n",
       "│ 1   │ Fgf4,1.9     │ 0     │ Internal  │ 547       │ Root        │ na        │\n",
       "│ 2   │ Pou5f1,7.65  │ 1     │ Internal  │ 267       │ Fgf4,1.9    │ L         │\n",
       "│ 3   │ Klf4,10.94   │ 1     │ Internal  │ 280       │ Fgf4,1.9    │ R         │\n",
       "│ 4   │ Esrrb,11.83  │ 2     │ Internal  │ 193       │ Pou5f1,7.65 │ L         │\n",
       "│ 5   │ Myst3,12.55  │ 2     │ Internal  │ 74        │ Pou5f1,7.65 │ R         │\n",
       "│ 6   │ Zfp42,13.7   │ 2     │ Internal  │ 196       │ Klf4,10.94  │ L         │\n",
       "│ 7   │ Fgf5,9.74    │ 2     │ Internal  │ 84        │ Klf4,10.94  │ R         │\n",
       "│ 8   │ Fbxo15,15.45 │ 3     │ Internal  │ 191       │ Esrrb,11.83 │ L         │\n",
       "│ 9   │ EPI          │ 3     │ External  │ 2         │ Esrrb,11.83 │ R         │\n",
       "│ 10  │ Dppa4,9.92   │ 3     │ Internal  │ 43        │ Myst3,12.55 │ L         │\n",
       "⋮\n",
       "│ 35  │ ESC          │ 5     │ External  │ 1         │ Kdm1a,16.53 │ R         │\n",
       "│ 36  │ ESC          │ 5     │ External  │ 13        │ Mef2a,10.93 │ L         │\n",
       "│ 37  │ EPI          │ 5     │ External  │ 1         │ Mef2a,10.93 │ R         │\n",
       "│ 38  │ EPI          │ 6     │ External  │ 10        │ Cdk2,14.57  │ L         │\n",
       "│ 39  │ NPC          │ 6     │ External  │ 1         │ Cdk2,14.57  │ R         │\n",
       "│ 40  │ NPC          │ 6     │ External  │ 8         │ Zfp42,10.8  │ L         │\n",
       "│ 41  │ Fgf5,4.78    │ 6     │ Internal  │ 3         │ Zfp42,10.8  │ R         │\n",
       "│ 42  │ NPC          │ 6     │ External  │ 10        │ Gdf3,12.56  │ L         │\n",
       "│ 43  │ EPI          │ 6     │ External  │ 3         │ Gdf3,12.56  │ R         │\n",
       "│ 44  │ NPC          │ 7     │ External  │ 1         │ Fgf5,4.78   │ L         │\n",
       "│ 45  │ EPI          │ 7     │ External  │ 2         │ Fgf5,4.78   │ R         │"
      ]
     },
     "execution_count": 6,
     "metadata": {},
     "output_type": "execute_result"
    }
   ],
   "source": [
    "mur_model_summary = CellFateDecisionTrees.summarise_tree(mur_model, mur_df)"
   ]
  },
  {
   "cell_type": "markdown",
   "metadata": {},
   "source": [
    "We can count the number of internal and external nodes using this model summary"
   ]
  },
  {
   "cell_type": "code",
   "execution_count": 7,
   "metadata": {},
   "outputs": [
    {
     "data": {
      "text/plain": [
       "22"
      ]
     },
     "execution_count": 7,
     "metadata": {},
     "output_type": "execute_result"
    }
   ],
   "source": [
    "sum(mur_model_summary[:Node_type].==\"Internal\")"
   ]
  },
  {
   "cell_type": "markdown",
   "metadata": {},
   "source": [
    "Alternatively, we can get a better idea of the model structure using <code>print_tree</code>, here to an optional depth of 4 nodes"
   ]
  },
  {
   "cell_type": "code",
   "execution_count": 8,
   "metadata": {},
   "outputs": [
    {
     "name": "stdout",
     "output_type": "stream",
     "text": [
      "Feature 22, Threshold 1.90351590275\n",
      "L-> Feature 67, Threshold 7.652433501500001\n",
      "    L-> Feature 19, Threshold 11.833967458250001\n",
      "        L-> Feature 21, Threshold 15.451647809\n",
      "            L-> NPC : 141/141\n",
      "            R-> EPI : 1/1\n",
      "        R-> EPI : 2/2\n",
      "    R-> Feature 55, Threshold 12.5458981325\n",
      "        L-> Feature 17, Threshold 9.918942661500001\n",
      "            L-> \n",
      "            R-> EPI : 14/14\n",
      "        R-> Feature 31, Threshold 11.786733910999999\n",
      "            L-> NPC : 19/19\n",
      "            R-> \n",
      "R-> Feature 45, Threshold 10.9381773055\n",
      "    L-> Feature 96, Threshold 13.697564680500001\n",
      "        L-> Feature 15, Threshold 16.1461143175\n",
      "            L-> \n",
      "            R-> EPI : 96/96\n",
      "        R-> Feature 32, Threshold 3.051485820500001\n",
      "            L-> \n",
      "            R-> \n",
      "    R-> Feature 23, Threshold 9.742399220500001\n",
      "        L-> ESC : 61/61\n",
      "        R-> Feature 88, Threshold 13.69297821025\n",
      "            L-> ESC : 2/2\n",
      "            R-> EPI : 3/3\n"
     ]
    }
   ],
   "source": [
    "print_tree(mur_model, 4)"
   ]
  },
  {
   "cell_type": "markdown",
   "metadata": {},
   "source": [
    "We also provide a function <code>sankey_text</code> which generates output text describing a Decision Tree model, writing it to \n",
    "destination text file. This saved output can be used to generate a sankey diagram visualisation of the model at http://sankeymatic.com/build/"
   ]
  },
  {
   "cell_type": "code",
   "execution_count": 9,
   "metadata": {},
   "outputs": [],
   "source": [
    "CellFateDecisionTrees.sankey_text(\"../supplementary/murine_sankey_output.txt\", mur_model, mur_df);"
   ]
  },
  {
   "cell_type": "markdown",
   "metadata": {},
   "source": [
    "<img src=\"../figures/Figure3b.png\">"
   ]
  },
  {
   "cell_type": "markdown",
   "metadata": {},
   "source": [
    "The Boolean ruleset learnt by the decision tree model to classify the samples can be expressed verbosely too, and we provide this functionality through the <code>get_rules</code> function"
   ]
  },
  {
   "cell_type": "code",
   "execution_count": 10,
   "metadata": {},
   "outputs": [
    {
     "data": {
      "text/plain": [
       "\"If Fgf4 is less than or equal to 1.9 AND if Pou5f1 is less than or equal to 7.65 AND if Esrrb is less than or equal to 11.83 AND if Fbxo15 is less than or equal to 15.45 then sample belongs to class NPC\""
      ]
     },
     "execution_count": 10,
     "metadata": {},
     "output_type": "execute_result"
    }
   ],
   "source": [
    "rules = CellFateDecisionTrees.get_rules(mur_model, mur_df)\n",
    "rules[1]"
   ]
  },
  {
   "cell_type": "markdown",
   "metadata": {},
   "source": [
    "### Evaluating model performance\n",
    "The trained decision tree model can be used to generate predictions for previously unseen data"
   ]
  },
  {
   "cell_type": "code",
   "execution_count": 11,
   "metadata": {},
   "outputs": [],
   "source": [
    "mur_predictions = apply_tree(mur_model, mur_features[mur_test, :]);"
   ]
  },
  {
   "cell_type": "markdown",
   "metadata": {},
   "source": [
    "We can compare these predictions against the true labels that were witheld during model training using a confusion matrix. The accuracy of these predictions can be calculated simply as the proportion of labels attributed by the model that match the true hidden labels. Note that class labels for the confusion matrices shown here ordered alphabetically by default (EPI, ESC, NPC)"
   ]
  },
  {
   "cell_type": "code",
   "execution_count": 12,
   "metadata": {},
   "outputs": [
    {
     "data": {
      "text/plain": [
       "3×3 Array{Int64,2}:\n",
       " 40   1   8\n",
       "  2  18   0\n",
       "  5   0  55"
      ]
     },
     "execution_count": 12,
     "metadata": {},
     "output_type": "execute_result"
    }
   ],
   "source": [
    "mur_confusion_matrix = confusion_matrix(mur_predictions, mur_labels[mur_test,1])\n",
    "mur_confusion_matrix.matrix"
   ]
  },
  {
   "cell_type": "code",
   "execution_count": 13,
   "metadata": {},
   "outputs": [
    {
     "data": {
      "text/plain": [
       "0.875968992248062"
      ]
     },
     "execution_count": 13,
     "metadata": {},
     "output_type": "execute_result"
    }
   ],
   "source": [
    "mur_confusion_matrix.accuracy"
   ]
  },
  {
   "cell_type": "markdown",
   "metadata": {},
   "source": [
    "We also perform cross-validation to consider how models perform over varied training/test splits"
   ]
  },
  {
   "cell_type": "code",
   "execution_count": 14,
   "metadata": {},
   "outputs": [
    {
     "ename": "MethodError",
     "evalue": "MethodError: no method matching nfoldCV_tree(::PooledArrays.PooledArray{String,UInt32,1,Array{UInt32,1}}, ::Array{Float64,2}, ::Int64, ::Float64, ::Int64)\nClosest candidates are:\n  nfoldCV_tree(!Matched::Array{T<:Float64,1}, ::Array{S,2}, ::Integer, ::Float64, ::Integer) where {S, T<:Float64} at /Users/ivanv/.julia/packages/DecisionTree/nfB7O/src/measures.jl:283\n  nfoldCV_tree(!Matched::Array{T<:Float64,1}, ::Array{S,2}, ::Integer, ::Float64, ::Integer, !Matched::Integer) where {S, T<:Float64} at /Users/ivanv/.julia/packages/DecisionTree/nfB7O/src/measures.jl:283\n  nfoldCV_tree(!Matched::Array{T<:Float64,1}, ::Array{S,2}, ::Integer, ::Float64, ::Integer, !Matched::Integer, !Matched::Integer) where {S, T<:Float64} at /Users/ivanv/.julia/packages/DecisionTree/nfB7O/src/measures.jl:283\n  ...",
     "output_type": "error",
     "traceback": [
      "MethodError: no method matching nfoldCV_tree(::PooledArrays.PooledArray{String,UInt32,1,Array{UInt32,1}}, ::Array{Float64,2}, ::Int64, ::Float64, ::Int64)\nClosest candidates are:\n  nfoldCV_tree(!Matched::Array{T<:Float64,1}, ::Array{S,2}, ::Integer, ::Float64, ::Integer) where {S, T<:Float64} at /Users/ivanv/.julia/packages/DecisionTree/nfB7O/src/measures.jl:283\n  nfoldCV_tree(!Matched::Array{T<:Float64,1}, ::Array{S,2}, ::Integer, ::Float64, ::Integer, !Matched::Integer) where {S, T<:Float64} at /Users/ivanv/.julia/packages/DecisionTree/nfB7O/src/measures.jl:283\n  nfoldCV_tree(!Matched::Array{T<:Float64,1}, ::Array{S,2}, ::Integer, ::Float64, ::Integer, !Matched::Integer, !Matched::Integer) where {S, T<:Float64} at /Users/ivanv/.julia/packages/DecisionTree/nfB7O/src/measures.jl:283\n  ...",
      "",
      "Stacktrace:",
      " [1] top-level scope at In[14]:4"
     ]
    }
   ],
   "source": [
    "num_folds = 5\n",
    "prune_purity = 1.0\n",
    "max_depth = 5\n",
    "\n",
    "cm_accuracies, cm_5fold = nfoldCV_tree(mur_labels[:,1], mur_features,\n",
    " num_folds, prune_purity, max_depth)"
   ]
  },
  {
   "cell_type": "markdown",
   "metadata": {},
   "source": [
    "In combination with the ideas explored by n-fold cross-validation, we can directly explore how changes to hyperparemeters affect model training and performance. Here we show the range of model performance at varying tree depths for many random training-test partitions."
   ]
  },
  {
   "cell_type": "code",
   "execution_count": 15,
   "metadata": {},
   "outputs": [
    {
     "data": {
      "image/svg+xml": [
       "<?xml version=\"1.0\" encoding=\"utf-8\"?>\n",
       "<svg xmlns=\"http://www.w3.org/2000/svg\" xmlns:xlink=\"http://www.w3.org/1999/xlink\" width=\"600\" height=\"400\" viewBox=\"0 0 2400 1600\">\n",
       "<defs>\n",
       "  <clipPath id=\"clip2600\">\n",
       "    <rect x=\"0\" y=\"0\" width=\"2400\" height=\"1600\"/>\n",
       "  </clipPath>\n",
       "</defs>\n",
       "<path clip-path=\"url(#clip2600)\" d=\"\n",
       "M0 1600 L2400 1600 L2400 0 L0 0  Z\n",
       "  \" fill=\"#ffffff\" fill-rule=\"evenodd\" fill-opacity=\"1\"/>\n",
       "<defs>\n",
       "  <clipPath id=\"clip2601\">\n",
       "    <rect x=\"480\" y=\"0\" width=\"1681\" height=\"1600\"/>\n",
       "  </clipPath>\n",
       "</defs>\n",
       "<path clip-path=\"url(#clip2600)\" d=\"\n",
       "M215.754 1425.62 L2352.76 1425.62 L2352.76 47.2441 L215.754 47.2441  Z\n",
       "  \" fill=\"#ffffff\" fill-rule=\"evenodd\" fill-opacity=\"1\"/>\n",
       "<defs>\n",
       "  <clipPath id=\"clip2602\">\n",
       "    <rect x=\"215\" y=\"47\" width=\"2138\" height=\"1379\"/>\n",
       "  </clipPath>\n",
       "</defs>\n",
       "<polyline clip-path=\"url(#clip2602)\" style=\"stroke:#000000; stroke-width:2; stroke-opacity:0.1; fill:none\" points=\"\n",
       "  358.523,1425.62 358.523,47.2441 \n",
       "  \"/>\n",
       "<polyline clip-path=\"url(#clip2602)\" style=\"stroke:#000000; stroke-width:2; stroke-opacity:0.1; fill:none\" points=\"\n",
       "  564.241,1425.62 564.241,47.2441 \n",
       "  \"/>\n",
       "<polyline clip-path=\"url(#clip2602)\" style=\"stroke:#000000; stroke-width:2; stroke-opacity:0.1; fill:none\" points=\"\n",
       "  769.959,1425.62 769.959,47.2441 \n",
       "  \"/>\n",
       "<polyline clip-path=\"url(#clip2602)\" style=\"stroke:#000000; stroke-width:2; stroke-opacity:0.1; fill:none\" points=\"\n",
       "  975.678,1425.62 975.678,47.2441 \n",
       "  \"/>\n",
       "<polyline clip-path=\"url(#clip2602)\" style=\"stroke:#000000; stroke-width:2; stroke-opacity:0.1; fill:none\" points=\"\n",
       "  1181.4,1425.62 1181.4,47.2441 \n",
       "  \"/>\n",
       "<polyline clip-path=\"url(#clip2602)\" style=\"stroke:#000000; stroke-width:2; stroke-opacity:0.1; fill:none\" points=\"\n",
       "  1387.11,1425.62 1387.11,47.2441 \n",
       "  \"/>\n",
       "<polyline clip-path=\"url(#clip2602)\" style=\"stroke:#000000; stroke-width:2; stroke-opacity:0.1; fill:none\" points=\"\n",
       "  1592.83,1425.62 1592.83,47.2441 \n",
       "  \"/>\n",
       "<polyline clip-path=\"url(#clip2602)\" style=\"stroke:#000000; stroke-width:2; stroke-opacity:0.1; fill:none\" points=\"\n",
       "  1798.55,1425.62 1798.55,47.2441 \n",
       "  \"/>\n",
       "<polyline clip-path=\"url(#clip2602)\" style=\"stroke:#000000; stroke-width:2; stroke-opacity:0.1; fill:none\" points=\"\n",
       "  2004.27,1425.62 2004.27,47.2441 \n",
       "  \"/>\n",
       "<polyline clip-path=\"url(#clip2602)\" style=\"stroke:#000000; stroke-width:2; stroke-opacity:0.1; fill:none\" points=\"\n",
       "  2209.99,1425.62 2209.99,47.2441 \n",
       "  \"/>\n",
       "<polyline clip-path=\"url(#clip2602)\" style=\"stroke:#000000; stroke-width:2; stroke-opacity:0.1; fill:none\" points=\"\n",
       "  215.754,1425.62 2352.76,1425.62 \n",
       "  \"/>\n",
       "<polyline clip-path=\"url(#clip2602)\" style=\"stroke:#000000; stroke-width:2; stroke-opacity:0.1; fill:none\" points=\"\n",
       "  215.754,1149.94 2352.76,1149.94 \n",
       "  \"/>\n",
       "<polyline clip-path=\"url(#clip2602)\" style=\"stroke:#000000; stroke-width:2; stroke-opacity:0.1; fill:none\" points=\"\n",
       "  215.754,874.269 2352.76,874.269 \n",
       "  \"/>\n",
       "<polyline clip-path=\"url(#clip2602)\" style=\"stroke:#000000; stroke-width:2; stroke-opacity:0.1; fill:none\" points=\"\n",
       "  215.754,598.594 2352.76,598.594 \n",
       "  \"/>\n",
       "<polyline clip-path=\"url(#clip2602)\" style=\"stroke:#000000; stroke-width:2; stroke-opacity:0.1; fill:none\" points=\"\n",
       "  215.754,322.919 2352.76,322.919 \n",
       "  \"/>\n",
       "<polyline clip-path=\"url(#clip2602)\" style=\"stroke:#000000; stroke-width:2; stroke-opacity:0.1; fill:none\" points=\"\n",
       "  215.754,47.2441 2352.76,47.2441 \n",
       "  \"/>\n",
       "<polyline clip-path=\"url(#clip2600)\" style=\"stroke:#000000; stroke-width:4; stroke-opacity:1; fill:none\" points=\"\n",
       "  215.754,1425.62 2352.76,1425.62 \n",
       "  \"/>\n",
       "<polyline clip-path=\"url(#clip2600)\" style=\"stroke:#000000; stroke-width:4; stroke-opacity:1; fill:none\" points=\"\n",
       "  215.754,1425.62 215.754,47.2441 \n",
       "  \"/>\n",
       "<polyline clip-path=\"url(#clip2600)\" style=\"stroke:#000000; stroke-width:4; stroke-opacity:1; fill:none\" points=\"\n",
       "  358.523,1425.62 358.523,1404.94 \n",
       "  \"/>\n",
       "<polyline clip-path=\"url(#clip2600)\" style=\"stroke:#000000; stroke-width:4; stroke-opacity:1; fill:none\" points=\"\n",
       "  564.241,1425.62 564.241,1404.94 \n",
       "  \"/>\n",
       "<polyline clip-path=\"url(#clip2600)\" style=\"stroke:#000000; stroke-width:4; stroke-opacity:1; fill:none\" points=\"\n",
       "  769.959,1425.62 769.959,1404.94 \n",
       "  \"/>\n",
       "<polyline clip-path=\"url(#clip2600)\" style=\"stroke:#000000; stroke-width:4; stroke-opacity:1; fill:none\" points=\"\n",
       "  975.678,1425.62 975.678,1404.94 \n",
       "  \"/>\n",
       "<polyline clip-path=\"url(#clip2600)\" style=\"stroke:#000000; stroke-width:4; stroke-opacity:1; fill:none\" points=\"\n",
       "  1181.4,1425.62 1181.4,1404.94 \n",
       "  \"/>\n",
       "<polyline clip-path=\"url(#clip2600)\" style=\"stroke:#000000; stroke-width:4; stroke-opacity:1; fill:none\" points=\"\n",
       "  1387.11,1425.62 1387.11,1404.94 \n",
       "  \"/>\n",
       "<polyline clip-path=\"url(#clip2600)\" style=\"stroke:#000000; stroke-width:4; stroke-opacity:1; fill:none\" points=\"\n",
       "  1592.83,1425.62 1592.83,1404.94 \n",
       "  \"/>\n",
       "<polyline clip-path=\"url(#clip2600)\" style=\"stroke:#000000; stroke-width:4; stroke-opacity:1; fill:none\" points=\"\n",
       "  1798.55,1425.62 1798.55,1404.94 \n",
       "  \"/>\n",
       "<polyline clip-path=\"url(#clip2600)\" style=\"stroke:#000000; stroke-width:4; stroke-opacity:1; fill:none\" points=\"\n",
       "  2004.27,1425.62 2004.27,1404.94 \n",
       "  \"/>\n",
       "<polyline clip-path=\"url(#clip2600)\" style=\"stroke:#000000; stroke-width:4; stroke-opacity:1; fill:none\" points=\"\n",
       "  2209.99,1425.62 2209.99,1404.94 \n",
       "  \"/>\n",
       "<polyline clip-path=\"url(#clip2600)\" style=\"stroke:#000000; stroke-width:4; stroke-opacity:1; fill:none\" points=\"\n",
       "  215.754,1425.62 247.809,1425.62 \n",
       "  \"/>\n",
       "<polyline clip-path=\"url(#clip2600)\" style=\"stroke:#000000; stroke-width:4; stroke-opacity:1; fill:none\" points=\"\n",
       "  215.754,1149.94 247.809,1149.94 \n",
       "  \"/>\n",
       "<polyline clip-path=\"url(#clip2600)\" style=\"stroke:#000000; stroke-width:4; stroke-opacity:1; fill:none\" points=\"\n",
       "  215.754,874.269 247.809,874.269 \n",
       "  \"/>\n",
       "<polyline clip-path=\"url(#clip2600)\" style=\"stroke:#000000; stroke-width:4; stroke-opacity:1; fill:none\" points=\"\n",
       "  215.754,598.594 247.809,598.594 \n",
       "  \"/>\n",
       "<polyline clip-path=\"url(#clip2600)\" style=\"stroke:#000000; stroke-width:4; stroke-opacity:1; fill:none\" points=\"\n",
       "  215.754,322.919 247.809,322.919 \n",
       "  \"/>\n",
       "<polyline clip-path=\"url(#clip2600)\" style=\"stroke:#000000; stroke-width:4; stroke-opacity:1; fill:none\" points=\"\n",
       "  215.754,47.2441 247.809,47.2441 \n",
       "  \"/>\n",
       "<g clip-path=\"url(#clip2600)\">\n",
       "<text style=\"fill:#000000; fill-opacity:1; font-family:Arial,Helvetica Neue,Helvetica,sans-serif; font-size:48px; text-anchor:middle;\" transform=\"rotate(0, 358.523, 1479.62)\" x=\"358.523\" y=\"1479.62\">1</text>\n",
       "</g>\n",
       "<g clip-path=\"url(#clip2600)\">\n",
       "<text style=\"fill:#000000; fill-opacity:1; font-family:Arial,Helvetica Neue,Helvetica,sans-serif; font-size:48px; text-anchor:middle;\" transform=\"rotate(0, 564.241, 1479.62)\" x=\"564.241\" y=\"1479.62\">2</text>\n",
       "</g>\n",
       "<g clip-path=\"url(#clip2600)\">\n",
       "<text style=\"fill:#000000; fill-opacity:1; font-family:Arial,Helvetica Neue,Helvetica,sans-serif; font-size:48px; text-anchor:middle;\" transform=\"rotate(0, 769.959, 1479.62)\" x=\"769.959\" y=\"1479.62\">3</text>\n",
       "</g>\n",
       "<g clip-path=\"url(#clip2600)\">\n",
       "<text style=\"fill:#000000; fill-opacity:1; font-family:Arial,Helvetica Neue,Helvetica,sans-serif; font-size:48px; text-anchor:middle;\" transform=\"rotate(0, 975.678, 1479.62)\" x=\"975.678\" y=\"1479.62\">4</text>\n",
       "</g>\n",
       "<g clip-path=\"url(#clip2600)\">\n",
       "<text style=\"fill:#000000; fill-opacity:1; font-family:Arial,Helvetica Neue,Helvetica,sans-serif; font-size:48px; text-anchor:middle;\" transform=\"rotate(0, 1181.4, 1479.62)\" x=\"1181.4\" y=\"1479.62\">5</text>\n",
       "</g>\n",
       "<g clip-path=\"url(#clip2600)\">\n",
       "<text style=\"fill:#000000; fill-opacity:1; font-family:Arial,Helvetica Neue,Helvetica,sans-serif; font-size:48px; text-anchor:middle;\" transform=\"rotate(0, 1387.11, 1479.62)\" x=\"1387.11\" y=\"1479.62\">6</text>\n",
       "</g>\n",
       "<g clip-path=\"url(#clip2600)\">\n",
       "<text style=\"fill:#000000; fill-opacity:1; font-family:Arial,Helvetica Neue,Helvetica,sans-serif; font-size:48px; text-anchor:middle;\" transform=\"rotate(0, 1592.83, 1479.62)\" x=\"1592.83\" y=\"1479.62\">7</text>\n",
       "</g>\n",
       "<g clip-path=\"url(#clip2600)\">\n",
       "<text style=\"fill:#000000; fill-opacity:1; font-family:Arial,Helvetica Neue,Helvetica,sans-serif; font-size:48px; text-anchor:middle;\" transform=\"rotate(0, 1798.55, 1479.62)\" x=\"1798.55\" y=\"1479.62\">8</text>\n",
       "</g>\n",
       "<g clip-path=\"url(#clip2600)\">\n",
       "<text style=\"fill:#000000; fill-opacity:1; font-family:Arial,Helvetica Neue,Helvetica,sans-serif; font-size:48px; text-anchor:middle;\" transform=\"rotate(0, 2004.27, 1479.62)\" x=\"2004.27\" y=\"1479.62\">9</text>\n",
       "</g>\n",
       "<g clip-path=\"url(#clip2600)\">\n",
       "<text style=\"fill:#000000; fill-opacity:1; font-family:Arial,Helvetica Neue,Helvetica,sans-serif; font-size:48px; text-anchor:middle;\" transform=\"rotate(0, 2209.99, 1479.62)\" x=\"2209.99\" y=\"1479.62\">Inf</text>\n",
       "</g>\n",
       "<g clip-path=\"url(#clip2600)\">\n",
       "<text style=\"fill:#000000; fill-opacity:1; font-family:Arial,Helvetica Neue,Helvetica,sans-serif; font-size:48px; text-anchor:end;\" transform=\"rotate(0, 191.754, 1443.12)\" x=\"191.754\" y=\"1443.12\">0.5</text>\n",
       "</g>\n",
       "<g clip-path=\"url(#clip2600)\">\n",
       "<text style=\"fill:#000000; fill-opacity:1; font-family:Arial,Helvetica Neue,Helvetica,sans-serif; font-size:48px; text-anchor:end;\" transform=\"rotate(0, 191.754, 1167.44)\" x=\"191.754\" y=\"1167.44\">0.6</text>\n",
       "</g>\n",
       "<g clip-path=\"url(#clip2600)\">\n",
       "<text style=\"fill:#000000; fill-opacity:1; font-family:Arial,Helvetica Neue,Helvetica,sans-serif; font-size:48px; text-anchor:end;\" transform=\"rotate(0, 191.754, 891.769)\" x=\"191.754\" y=\"891.769\">0.7</text>\n",
       "</g>\n",
       "<g clip-path=\"url(#clip2600)\">\n",
       "<text style=\"fill:#000000; fill-opacity:1; font-family:Arial,Helvetica Neue,Helvetica,sans-serif; font-size:48px; text-anchor:end;\" transform=\"rotate(0, 191.754, 616.094)\" x=\"191.754\" y=\"616.094\">0.8</text>\n",
       "</g>\n",
       "<g clip-path=\"url(#clip2600)\">\n",
       "<text style=\"fill:#000000; fill-opacity:1; font-family:Arial,Helvetica Neue,Helvetica,sans-serif; font-size:48px; text-anchor:end;\" transform=\"rotate(0, 191.754, 340.419)\" x=\"191.754\" y=\"340.419\">0.9</text>\n",
       "</g>\n",
       "<g clip-path=\"url(#clip2600)\">\n",
       "<text style=\"fill:#000000; fill-opacity:1; font-family:Arial,Helvetica Neue,Helvetica,sans-serif; font-size:48px; text-anchor:end;\" transform=\"rotate(0, 191.754, 64.7441)\" x=\"191.754\" y=\"64.7441\">1.0</text>\n",
       "</g>\n",
       "<g clip-path=\"url(#clip2600)\">\n",
       "<text style=\"fill:#000000; fill-opacity:1; font-family:Arial,Helvetica Neue,Helvetica,sans-serif; font-size:66px; text-anchor:middle;\" transform=\"rotate(0, 1284.25, 1559.48)\" x=\"1284.25\" y=\"1559.48\">Maximum tree depth</text>\n",
       "</g>\n",
       "<g clip-path=\"url(#clip2600)\">\n",
       "<text style=\"fill:#000000; fill-opacity:1; font-family:Arial,Helvetica Neue,Helvetica,sans-serif; font-size:66px; text-anchor:middle;\" transform=\"rotate(-90, 89.2861, 736.431)\" x=\"89.2861\" y=\"736.431\">Accuracy on witheld test data</text>\n",
       "</g>\n",
       "<circle clip-path=\"url(#clip2602)\" style=\"fill:#000000; stroke:none; fill-opacity:1\" cx=\"358.523\" cy=\"564.135\" r=\"18\"/>\n",
       "<circle clip-path=\"url(#clip2602)\" style=\"fill:#009af9; stroke:none; fill-opacity:1\" cx=\"358.523\" cy=\"564.135\" r=\"14\"/>\n",
       "<circle clip-path=\"url(#clip2602)\" style=\"fill:#000000; stroke:none; fill-opacity:1\" cx=\"358.523\" cy=\"566.632\" r=\"18\"/>\n",
       "<circle clip-path=\"url(#clip2602)\" style=\"fill:#009af9; stroke:none; fill-opacity:1\" cx=\"358.523\" cy=\"566.632\" r=\"14\"/>\n",
       "<circle clip-path=\"url(#clip2602)\" style=\"fill:#000000; stroke:none; fill-opacity:1\" cx=\"358.523\" cy=\"528.288\" r=\"18\"/>\n",
       "<circle clip-path=\"url(#clip2602)\" style=\"fill:#009af9; stroke:none; fill-opacity:1\" cx=\"358.523\" cy=\"528.288\" r=\"14\"/>\n",
       "<circle clip-path=\"url(#clip2602)\" style=\"fill:#000000; stroke:none; fill-opacity:1\" cx=\"358.523\" cy=\"1055.81\" r=\"18\"/>\n",
       "<circle clip-path=\"url(#clip2602)\" style=\"fill:#009af9; stroke:none; fill-opacity:1\" cx=\"358.523\" cy=\"1055.81\" r=\"14\"/>\n",
       "<path clip-path=\"url(#clip2602)\" d=\"\n",
       "M358.523 1035.87 L276.235 1035.87 L440.81 1035.87 L358.523 1035.87 L358.523 872.257 L358.523 1035.87  Z\n",
       "  \" fill=\"#009af9\" fill-rule=\"evenodd\" fill-opacity=\"1\"/>\n",
       "<polyline clip-path=\"url(#clip2602)\" style=\"stroke:#000000; stroke-width:4; stroke-opacity:1; fill:none\" points=\"\n",
       "  358.523,1035.87 276.235,1035.87 440.81,1035.87 358.523,1035.87 358.523,872.257 358.523,1035.87 \n",
       "  \"/>\n",
       "<path clip-path=\"url(#clip2602)\" d=\"\n",
       "M276.235 872.257 L276.235 815.196 L440.81 815.196 L440.81 872.257 L276.235 872.257 L276.235 872.257  Z\n",
       "  \" fill=\"#009af9\" fill-rule=\"evenodd\" fill-opacity=\"1\"/>\n",
       "<polyline clip-path=\"url(#clip2602)\" style=\"stroke:#000000; stroke-width:4; stroke-opacity:1; fill:none\" points=\"\n",
       "  276.235,872.257 276.235,815.196 440.81,815.196 440.81,872.257 276.235,872.257 \n",
       "  \"/>\n",
       "<path clip-path=\"url(#clip2602)\" d=\"\n",
       "M276.235 752.844 L276.235 815.196 L440.81 815.196 L440.81 752.844 L276.235 752.844 L276.235 752.844  Z\n",
       "  \" fill=\"#009af9\" fill-rule=\"evenodd\" fill-opacity=\"1\"/>\n",
       "<polyline clip-path=\"url(#clip2602)\" style=\"stroke:#000000; stroke-width:4; stroke-opacity:1; fill:none\" points=\"\n",
       "  276.235,752.844 276.235,815.196 440.81,815.196 440.81,752.844 276.235,752.844 \n",
       "  \"/>\n",
       "<path clip-path=\"url(#clip2602)\" d=\"\n",
       "M358.523 587.783 L276.235 587.783 L440.81 587.783 L358.523 587.783 L358.523 752.844 L358.523 587.783  Z\n",
       "  \" fill=\"#009af9\" fill-rule=\"evenodd\" fill-opacity=\"1\"/>\n",
       "<polyline clip-path=\"url(#clip2602)\" style=\"stroke:#000000; stroke-width:4; stroke-opacity:1; fill:none\" points=\"\n",
       "  358.523,587.783 276.235,587.783 440.81,587.783 358.523,587.783 358.523,752.844 358.523,587.783 \n",
       "  \"/>\n",
       "<circle clip-path=\"url(#clip2602)\" style=\"fill:#000000; stroke:none; fill-opacity:1\" cx=\"564.241\" cy=\"698.445\" r=\"18\"/>\n",
       "<circle clip-path=\"url(#clip2602)\" style=\"fill:#e26f46; stroke:none; fill-opacity:1\" cx=\"564.241\" cy=\"698.445\" r=\"14\"/>\n",
       "<circle clip-path=\"url(#clip2602)\" style=\"fill:#000000; stroke:none; fill-opacity:1\" cx=\"564.241\" cy=\"280.507\" r=\"18\"/>\n",
       "<circle clip-path=\"url(#clip2602)\" style=\"fill:#e26f46; stroke:none; fill-opacity:1\" cx=\"564.241\" cy=\"280.507\" r=\"14\"/>\n",
       "<circle clip-path=\"url(#clip2602)\" style=\"fill:#000000; stroke:none; fill-opacity:1\" cx=\"564.241\" cy=\"751.977\" r=\"18\"/>\n",
       "<circle clip-path=\"url(#clip2602)\" style=\"fill:#e26f46; stroke:none; fill-opacity:1\" cx=\"564.241\" cy=\"751.977\" r=\"14\"/>\n",
       "<circle clip-path=\"url(#clip2602)\" style=\"fill:#000000; stroke:none; fill-opacity:1\" cx=\"564.241\" cy=\"694.662\" r=\"18\"/>\n",
       "<circle clip-path=\"url(#clip2602)\" style=\"fill:#e26f46; stroke:none; fill-opacity:1\" cx=\"564.241\" cy=\"694.662\" r=\"14\"/>\n",
       "<circle clip-path=\"url(#clip2602)\" style=\"fill:#000000; stroke:none; fill-opacity:1\" cx=\"564.241\" cy=\"681.891\" r=\"18\"/>\n",
       "<circle clip-path=\"url(#clip2602)\" style=\"fill:#e26f46; stroke:none; fill-opacity:1\" cx=\"564.241\" cy=\"681.891\" r=\"14\"/>\n",
       "<circle clip-path=\"url(#clip2602)\" style=\"fill:#000000; stroke:none; fill-opacity:1\" cx=\"564.241\" cy=\"678.561\" r=\"18\"/>\n",
       "<circle clip-path=\"url(#clip2602)\" style=\"fill:#e26f46; stroke:none; fill-opacity:1\" cx=\"564.241\" cy=\"678.561\" r=\"14\"/>\n",
       "<circle clip-path=\"url(#clip2602)\" style=\"fill:#000000; stroke:none; fill-opacity:1\" cx=\"564.241\" cy=\"306.938\" r=\"18\"/>\n",
       "<circle clip-path=\"url(#clip2602)\" style=\"fill:#e26f46; stroke:none; fill-opacity:1\" cx=\"564.241\" cy=\"306.938\" r=\"14\"/>\n",
       "<circle clip-path=\"url(#clip2602)\" style=\"fill:#000000; stroke:none; fill-opacity:1\" cx=\"564.241\" cy=\"697.209\" r=\"18\"/>\n",
       "<circle clip-path=\"url(#clip2602)\" style=\"fill:#e26f46; stroke:none; fill-opacity:1\" cx=\"564.241\" cy=\"697.209\" r=\"14\"/>\n",
       "<circle clip-path=\"url(#clip2602)\" style=\"fill:#000000; stroke:none; fill-opacity:1\" cx=\"564.241\" cy=\"698.445\" r=\"18\"/>\n",
       "<circle clip-path=\"url(#clip2602)\" style=\"fill:#e26f46; stroke:none; fill-opacity:1\" cx=\"564.241\" cy=\"698.445\" r=\"14\"/>\n",
       "<circle clip-path=\"url(#clip2602)\" style=\"fill:#000000; stroke:none; fill-opacity:1\" cx=\"564.241\" cy=\"705.572\" r=\"18\"/>\n",
       "<circle clip-path=\"url(#clip2602)\" style=\"fill:#e26f46; stroke:none; fill-opacity:1\" cx=\"564.241\" cy=\"705.572\" r=\"14\"/>\n",
       "<circle clip-path=\"url(#clip2602)\" style=\"fill:#000000; stroke:none; fill-opacity:1\" cx=\"564.241\" cy=\"688.901\" r=\"18\"/>\n",
       "<circle clip-path=\"url(#clip2602)\" style=\"fill:#e26f46; stroke:none; fill-opacity:1\" cx=\"564.241\" cy=\"688.901\" r=\"14\"/>\n",
       "<circle clip-path=\"url(#clip2602)\" style=\"fill:#000000; stroke:none; fill-opacity:1\" cx=\"564.241\" cy=\"731.089\" r=\"18\"/>\n",
       "<circle clip-path=\"url(#clip2602)\" style=\"fill:#e26f46; stroke:none; fill-opacity:1\" cx=\"564.241\" cy=\"731.089\" r=\"14\"/>\n",
       "<path clip-path=\"url(#clip2602)\" d=\"\n",
       "M564.241 669.736 L481.954 669.736 L646.528 669.736 L564.241 669.736 L564.241 540.321 L564.241 669.736  Z\n",
       "  \" fill=\"#e26f46\" fill-rule=\"evenodd\" fill-opacity=\"1\"/>\n",
       "<polyline clip-path=\"url(#clip2602)\" style=\"stroke:#000000; stroke-width:4; stroke-opacity:1; fill:none\" points=\"\n",
       "  564.241,669.736 481.954,669.736 646.528,669.736 564.241,669.736 564.241,540.321 564.241,669.736 \n",
       "  \"/>\n",
       "<path clip-path=\"url(#clip2602)\" d=\"\n",
       "M481.954 540.321 L481.954 492.565 L646.528 492.565 L646.528 540.321 L481.954 540.321 L481.954 540.321  Z\n",
       "  \" fill=\"#e26f46\" fill-rule=\"evenodd\" fill-opacity=\"1\"/>\n",
       "<polyline clip-path=\"url(#clip2602)\" style=\"stroke:#000000; stroke-width:4; stroke-opacity:1; fill:none\" points=\"\n",
       "  481.954,540.321 481.954,492.565 646.528,492.565 646.528,540.321 481.954,540.321 \n",
       "  \"/>\n",
       "<path clip-path=\"url(#clip2602)\" d=\"\n",
       "M481.954 450.154 L481.954 492.565 L646.528 492.565 L646.528 450.154 L481.954 450.154 L481.954 450.154  Z\n",
       "  \" fill=\"#e26f46\" fill-rule=\"evenodd\" fill-opacity=\"1\"/>\n",
       "<polyline clip-path=\"url(#clip2602)\" style=\"stroke:#000000; stroke-width:4; stroke-opacity:1; fill:none\" points=\"\n",
       "  481.954,450.154 481.954,492.565 646.528,492.565 646.528,450.154 481.954,450.154 \n",
       "  \"/>\n",
       "<path clip-path=\"url(#clip2602)\" d=\"\n",
       "M564.241 320.964 L481.954 320.964 L646.528 320.964 L564.241 320.964 L564.241 450.154 L564.241 320.964  Z\n",
       "  \" fill=\"#e26f46\" fill-rule=\"evenodd\" fill-opacity=\"1\"/>\n",
       "<polyline clip-path=\"url(#clip2602)\" style=\"stroke:#000000; stroke-width:4; stroke-opacity:1; fill:none\" points=\"\n",
       "  564.241,320.964 481.954,320.964 646.528,320.964 564.241,320.964 564.241,450.154 564.241,320.964 \n",
       "  \"/>\n",
       "<circle clip-path=\"url(#clip2602)\" style=\"fill:#000000; stroke:none; fill-opacity:1\" cx=\"769.959\" cy=\"645.608\" r=\"18\"/>\n",
       "<circle clip-path=\"url(#clip2602)\" style=\"fill:#3da44d; stroke:none; fill-opacity:1\" cx=\"769.959\" cy=\"645.608\" r=\"14\"/>\n",
       "<circle clip-path=\"url(#clip2602)\" style=\"fill:#000000; stroke:none; fill-opacity:1\" cx=\"769.959\" cy=\"623.281\" r=\"18\"/>\n",
       "<circle clip-path=\"url(#clip2602)\" style=\"fill:#3da44d; stroke:none; fill-opacity:1\" cx=\"769.959\" cy=\"623.281\" r=\"14\"/>\n",
       "<circle clip-path=\"url(#clip2602)\" style=\"fill:#000000; stroke:none; fill-opacity:1\" cx=\"769.959\" cy=\"625.583\" r=\"18\"/>\n",
       "<circle clip-path=\"url(#clip2602)\" style=\"fill:#3da44d; stroke:none; fill-opacity:1\" cx=\"769.959\" cy=\"625.583\" r=\"14\"/>\n",
       "<path clip-path=\"url(#clip2602)\" d=\"\n",
       "M769.959 611.618 L687.672 611.618 L852.247 611.618 L769.959 611.618 L769.959 449.689 L769.959 611.618  Z\n",
       "  \" fill=\"#3da44d\" fill-rule=\"evenodd\" fill-opacity=\"1\"/>\n",
       "<polyline clip-path=\"url(#clip2602)\" style=\"stroke:#000000; stroke-width:4; stroke-opacity:1; fill:none\" points=\"\n",
       "  769.959,611.618 687.672,611.618 852.247,611.618 769.959,611.618 769.959,449.689 769.959,611.618 \n",
       "  \"/>\n",
       "<path clip-path=\"url(#clip2602)\" d=\"\n",
       "M687.672 449.689 L687.672 391.838 L852.247 391.838 L852.247 449.689 L687.672 449.689 L687.672 449.689  Z\n",
       "  \" fill=\"#3da44d\" fill-rule=\"evenodd\" fill-opacity=\"1\"/>\n",
       "<polyline clip-path=\"url(#clip2602)\" style=\"stroke:#000000; stroke-width:4; stroke-opacity:1; fill:none\" points=\"\n",
       "  687.672,449.689 687.672,391.838 852.247,391.838 852.247,449.689 687.672,449.689 \n",
       "  \"/>\n",
       "<path clip-path=\"url(#clip2602)\" d=\"\n",
       "M687.672 341.102 L687.672 391.838 L852.247 391.838 L852.247 341.102 L687.672 341.102 L687.672 341.102  Z\n",
       "  \" fill=\"#3da44d\" fill-rule=\"evenodd\" fill-opacity=\"1\"/>\n",
       "<polyline clip-path=\"url(#clip2602)\" style=\"stroke:#000000; stroke-width:4; stroke-opacity:1; fill:none\" points=\"\n",
       "  687.672,341.102 687.672,391.838 852.247,391.838 852.247,341.102 687.672,341.102 \n",
       "  \"/>\n",
       "<path clip-path=\"url(#clip2602)\" d=\"\n",
       "M769.959 196.835 L687.672 196.835 L852.247 196.835 L769.959 196.835 L769.959 341.102 L769.959 196.835  Z\n",
       "  \" fill=\"#3da44d\" fill-rule=\"evenodd\" fill-opacity=\"1\"/>\n",
       "<polyline clip-path=\"url(#clip2602)\" style=\"stroke:#000000; stroke-width:4; stroke-opacity:1; fill:none\" points=\"\n",
       "  769.959,196.835 687.672,196.835 852.247,196.835 769.959,196.835 769.959,341.102 769.959,196.835 \n",
       "  \"/>\n",
       "<circle clip-path=\"url(#clip2602)\" style=\"fill:#000000; stroke:none; fill-opacity:1\" cx=\"975.678\" cy=\"574.27\" r=\"18\"/>\n",
       "<circle clip-path=\"url(#clip2602)\" style=\"fill:#c271d2; stroke:none; fill-opacity:1\" cx=\"975.678\" cy=\"574.27\" r=\"14\"/>\n",
       "<circle clip-path=\"url(#clip2602)\" style=\"fill:#000000; stroke:none; fill-opacity:1\" cx=\"975.678\" cy=\"603.04\" r=\"18\"/>\n",
       "<circle clip-path=\"url(#clip2602)\" style=\"fill:#c271d2; stroke:none; fill-opacity:1\" cx=\"975.678\" cy=\"603.04\" r=\"14\"/>\n",
       "<circle clip-path=\"url(#clip2602)\" style=\"fill:#000000; stroke:none; fill-opacity:1\" cx=\"975.678\" cy=\"187.079\" r=\"18\"/>\n",
       "<circle clip-path=\"url(#clip2602)\" style=\"fill:#c271d2; stroke:none; fill-opacity:1\" cx=\"975.678\" cy=\"187.079\" r=\"14\"/>\n",
       "<circle clip-path=\"url(#clip2602)\" style=\"fill:#000000; stroke:none; fill-opacity:1\" cx=\"975.678\" cy=\"623.281\" r=\"18\"/>\n",
       "<circle clip-path=\"url(#clip2602)\" style=\"fill:#c271d2; stroke:none; fill-opacity:1\" cx=\"975.678\" cy=\"623.281\" r=\"14\"/>\n",
       "<circle clip-path=\"url(#clip2602)\" style=\"fill:#000000; stroke:none; fill-opacity:1\" cx=\"975.678\" cy=\"558.577\" r=\"18\"/>\n",
       "<circle clip-path=\"url(#clip2602)\" style=\"fill:#c271d2; stroke:none; fill-opacity:1\" cx=\"975.678\" cy=\"558.577\" r=\"14\"/>\n",
       "<circle clip-path=\"url(#clip2602)\" style=\"fill:#000000; stroke:none; fill-opacity:1\" cx=\"975.678\" cy=\"565.43\" r=\"18\"/>\n",
       "<circle clip-path=\"url(#clip2602)\" style=\"fill:#c271d2; stroke:none; fill-opacity:1\" cx=\"975.678\" cy=\"565.43\" r=\"14\"/>\n",
       "<circle clip-path=\"url(#clip2602)\" style=\"fill:#000000; stroke:none; fill-opacity:1\" cx=\"975.678\" cy=\"569.356\" r=\"18\"/>\n",
       "<circle clip-path=\"url(#clip2602)\" style=\"fill:#c271d2; stroke:none; fill-opacity:1\" cx=\"975.678\" cy=\"569.356\" r=\"14\"/>\n",
       "<circle clip-path=\"url(#clip2602)\" style=\"fill:#000000; stroke:none; fill-opacity:1\" cx=\"975.678\" cy=\"569.356\" r=\"18\"/>\n",
       "<circle clip-path=\"url(#clip2602)\" style=\"fill:#c271d2; stroke:none; fill-opacity:1\" cx=\"975.678\" cy=\"569.356\" r=\"14\"/>\n",
       "<circle clip-path=\"url(#clip2602)\" style=\"fill:#000000; stroke:none; fill-opacity:1\" cx=\"975.678\" cy=\"641.005\" r=\"18\"/>\n",
       "<circle clip-path=\"url(#clip2602)\" style=\"fill:#c271d2; stroke:none; fill-opacity:1\" cx=\"975.678\" cy=\"641.005\" r=\"14\"/>\n",
       "<circle clip-path=\"url(#clip2602)\" style=\"fill:#000000; stroke:none; fill-opacity:1\" cx=\"975.678\" cy=\"176.215\" r=\"18\"/>\n",
       "<circle clip-path=\"url(#clip2602)\" style=\"fill:#c271d2; stroke:none; fill-opacity:1\" cx=\"975.678\" cy=\"176.215\" r=\"14\"/>\n",
       "<circle clip-path=\"url(#clip2602)\" style=\"fill:#000000; stroke:none; fill-opacity:1\" cx=\"975.678\" cy=\"572.339\" r=\"18\"/>\n",
       "<circle clip-path=\"url(#clip2602)\" style=\"fill:#c271d2; stroke:none; fill-opacity:1\" cx=\"975.678\" cy=\"572.339\" r=\"14\"/>\n",
       "<circle clip-path=\"url(#clip2602)\" style=\"fill:#000000; stroke:none; fill-opacity:1\" cx=\"975.678\" cy=\"564.135\" r=\"18\"/>\n",
       "<circle clip-path=\"url(#clip2602)\" style=\"fill:#c271d2; stroke:none; fill-opacity:1\" cx=\"975.678\" cy=\"564.135\" r=\"14\"/>\n",
       "<circle clip-path=\"url(#clip2602)\" style=\"fill:#000000; stroke:none; fill-opacity:1\" cx=\"975.678\" cy=\"180.635\" r=\"18\"/>\n",
       "<circle clip-path=\"url(#clip2602)\" style=\"fill:#c271d2; stroke:none; fill-opacity:1\" cx=\"975.678\" cy=\"180.635\" r=\"14\"/>\n",
       "<circle clip-path=\"url(#clip2602)\" style=\"fill:#000000; stroke:none; fill-opacity:1\" cx=\"975.678\" cy=\"609.476\" r=\"18\"/>\n",
       "<circle clip-path=\"url(#clip2602)\" style=\"fill:#c271d2; stroke:none; fill-opacity:1\" cx=\"975.678\" cy=\"609.476\" r=\"14\"/>\n",
       "<circle clip-path=\"url(#clip2602)\" style=\"fill:#000000; stroke:none; fill-opacity:1\" cx=\"975.678\" cy=\"561.563\" r=\"18\"/>\n",
       "<circle clip-path=\"url(#clip2602)\" style=\"fill:#c271d2; stroke:none; fill-opacity:1\" cx=\"975.678\" cy=\"561.563\" r=\"14\"/>\n",
       "<circle clip-path=\"url(#clip2602)\" style=\"fill:#000000; stroke:none; fill-opacity:1\" cx=\"975.678\" cy=\"666.978\" r=\"18\"/>\n",
       "<circle clip-path=\"url(#clip2602)\" style=\"fill:#c271d2; stroke:none; fill-opacity:1\" cx=\"975.678\" cy=\"666.978\" r=\"14\"/>\n",
       "<path clip-path=\"url(#clip2602)\" d=\"\n",
       "M975.678 553.586 L893.39 553.586 L1057.96 553.586 L975.678 553.586 L975.678 419.918 L975.678 553.586  Z\n",
       "  \" fill=\"#c271d2\" fill-rule=\"evenodd\" fill-opacity=\"1\"/>\n",
       "<polyline clip-path=\"url(#clip2602)\" style=\"stroke:#000000; stroke-width:4; stroke-opacity:1; fill:none\" points=\"\n",
       "  975.678,553.586 893.39,553.586 1057.96,553.586 975.678,553.586 975.678,419.918 975.678,553.586 \n",
       "  \"/>\n",
       "<path clip-path=\"url(#clip2602)\" d=\"\n",
       "M893.39 419.918 L893.39 374.643 L1057.96 374.643 L1057.96 419.918 L893.39 419.918 L893.39 419.918  Z\n",
       "  \" fill=\"#c271d2\" fill-rule=\"evenodd\" fill-opacity=\"1\"/>\n",
       "<polyline clip-path=\"url(#clip2602)\" style=\"stroke:#000000; stroke-width:4; stroke-opacity:1; fill:none\" points=\"\n",
       "  893.39,419.918 893.39,374.643 1057.96,374.643 1057.96,419.918 893.39,419.918 \n",
       "  \"/>\n",
       "<path clip-path=\"url(#clip2602)\" d=\"\n",
       "M893.39 328.956 L893.39 374.643 L1057.96 374.643 L1057.96 328.956 L893.39 328.956 L893.39 328.956  Z\n",
       "  \" fill=\"#c271d2\" fill-rule=\"evenodd\" fill-opacity=\"1\"/>\n",
       "<polyline clip-path=\"url(#clip2602)\" style=\"stroke:#000000; stroke-width:4; stroke-opacity:1; fill:none\" points=\"\n",
       "  893.39,328.956 893.39,374.643 1057.96,374.643 1057.96,328.956 893.39,328.956 \n",
       "  \"/>\n",
       "<path clip-path=\"url(#clip2602)\" d=\"\n",
       "M975.678 198.004 L893.39 198.004 L1057.96 198.004 L975.678 198.004 L975.678 328.956 L975.678 198.004  Z\n",
       "  \" fill=\"#c271d2\" fill-rule=\"evenodd\" fill-opacity=\"1\"/>\n",
       "<polyline clip-path=\"url(#clip2602)\" style=\"stroke:#000000; stroke-width:4; stroke-opacity:1; fill:none\" points=\"\n",
       "  975.678,198.004 893.39,198.004 1057.96,198.004 975.678,198.004 975.678,328.956 975.678,198.004 \n",
       "  \"/>\n",
       "<circle clip-path=\"url(#clip2602)\" style=\"fill:#000000; stroke:none; fill-opacity:1\" cx=\"1181.4\" cy=\"655.351\" r=\"18\"/>\n",
       "<circle clip-path=\"url(#clip2602)\" style=\"fill:#ac8d18; stroke:none; fill-opacity:1\" cx=\"1181.4\" cy=\"655.351\" r=\"14\"/>\n",
       "<circle clip-path=\"url(#clip2602)\" style=\"fill:#000000; stroke:none; fill-opacity:1\" cx=\"1181.4\" cy=\"606.885\" r=\"18\"/>\n",
       "<circle clip-path=\"url(#clip2602)\" style=\"fill:#ac8d18; stroke:none; fill-opacity:1\" cx=\"1181.4\" cy=\"606.885\" r=\"14\"/>\n",
       "<circle clip-path=\"url(#clip2602)\" style=\"fill:#000000; stroke:none; fill-opacity:1\" cx=\"1181.4\" cy=\"647.504\" r=\"18\"/>\n",
       "<circle clip-path=\"url(#clip2602)\" style=\"fill:#ac8d18; stroke:none; fill-opacity:1\" cx=\"1181.4\" cy=\"647.504\" r=\"14\"/>\n",
       "<circle clip-path=\"url(#clip2602)\" style=\"fill:#000000; stroke:none; fill-opacity:1\" cx=\"1181.4\" cy=\"570.423\" r=\"18\"/>\n",
       "<circle clip-path=\"url(#clip2602)\" style=\"fill:#ac8d18; stroke:none; fill-opacity:1\" cx=\"1181.4\" cy=\"570.423\" r=\"14\"/>\n",
       "<circle clip-path=\"url(#clip2602)\" style=\"fill:#000000; stroke:none; fill-opacity:1\" cx=\"1181.4\" cy=\"565.43\" r=\"18\"/>\n",
       "<circle clip-path=\"url(#clip2602)\" style=\"fill:#ac8d18; stroke:none; fill-opacity:1\" cx=\"1181.4\" cy=\"565.43\" r=\"14\"/>\n",
       "<circle clip-path=\"url(#clip2602)\" style=\"fill:#000000; stroke:none; fill-opacity:1\" cx=\"1181.4\" cy=\"164.553\" r=\"18\"/>\n",
       "<circle clip-path=\"url(#clip2602)\" style=\"fill:#ac8d18; stroke:none; fill-opacity:1\" cx=\"1181.4\" cy=\"164.553\" r=\"14\"/>\n",
       "<circle clip-path=\"url(#clip2602)\" style=\"fill:#000000; stroke:none; fill-opacity:1\" cx=\"1181.4\" cy=\"565.43\" r=\"18\"/>\n",
       "<circle clip-path=\"url(#clip2602)\" style=\"fill:#ac8d18; stroke:none; fill-opacity:1\" cx=\"1181.4\" cy=\"565.43\" r=\"14\"/>\n",
       "<circle clip-path=\"url(#clip2602)\" style=\"fill:#000000; stroke:none; fill-opacity:1\" cx=\"1181.4\" cy=\"616.097\" r=\"18\"/>\n",
       "<circle clip-path=\"url(#clip2602)\" style=\"fill:#ac8d18; stroke:none; fill-opacity:1\" cx=\"1181.4\" cy=\"616.097\" r=\"14\"/>\n",
       "<circle clip-path=\"url(#clip2602)\" style=\"fill:#000000; stroke:none; fill-opacity:1\" cx=\"1181.4\" cy=\"607.559\" r=\"18\"/>\n",
       "<circle clip-path=\"url(#clip2602)\" style=\"fill:#ac8d18; stroke:none; fill-opacity:1\" cx=\"1181.4\" cy=\"607.559\" r=\"14\"/>\n",
       "<circle clip-path=\"url(#clip2602)\" style=\"fill:#000000; stroke:none; fill-opacity:1\" cx=\"1181.4\" cy=\"583.279\" r=\"18\"/>\n",
       "<circle clip-path=\"url(#clip2602)\" style=\"fill:#ac8d18; stroke:none; fill-opacity:1\" cx=\"1181.4\" cy=\"583.279\" r=\"14\"/>\n",
       "<circle clip-path=\"url(#clip2602)\" style=\"fill:#000000; stroke:none; fill-opacity:1\" cx=\"1181.4\" cy=\"582.136\" r=\"18\"/>\n",
       "<circle clip-path=\"url(#clip2602)\" style=\"fill:#ac8d18; stroke:none; fill-opacity:1\" cx=\"1181.4\" cy=\"582.136\" r=\"14\"/>\n",
       "<circle clip-path=\"url(#clip2602)\" style=\"fill:#000000; stroke:none; fill-opacity:1\" cx=\"1181.4\" cy=\"587.027\" r=\"18\"/>\n",
       "<circle clip-path=\"url(#clip2602)\" style=\"fill:#ac8d18; stroke:none; fill-opacity:1\" cx=\"1181.4\" cy=\"587.027\" r=\"14\"/>\n",
       "<circle clip-path=\"url(#clip2602)\" style=\"fill:#000000; stroke:none; fill-opacity:1\" cx=\"1181.4\" cy=\"637.976\" r=\"18\"/>\n",
       "<circle clip-path=\"url(#clip2602)\" style=\"fill:#ac8d18; stroke:none; fill-opacity:1\" cx=\"1181.4\" cy=\"637.976\" r=\"14\"/>\n",
       "<path clip-path=\"url(#clip2602)\" d=\"\n",
       "M1181.4 560.128 L1099.11 560.128 L1263.68 560.128 L1181.4 560.128 L1181.4 421.374 L1181.4 560.128  Z\n",
       "  \" fill=\"#ac8d18\" fill-rule=\"evenodd\" fill-opacity=\"1\"/>\n",
       "<polyline clip-path=\"url(#clip2602)\" style=\"stroke:#000000; stroke-width:4; stroke-opacity:1; fill:none\" points=\"\n",
       "  1181.4,560.128 1099.11,560.128 1263.68,560.128 1181.4,560.128 1181.4,421.374 1181.4,560.128 \n",
       "  \"/>\n",
       "<path clip-path=\"url(#clip2602)\" d=\"\n",
       "M1099.11 421.374 L1099.11 374.97 L1263.68 374.97 L1263.68 421.374 L1099.11 421.374 L1099.11 421.374  Z\n",
       "  \" fill=\"#ac8d18\" fill-rule=\"evenodd\" fill-opacity=\"1\"/>\n",
       "<polyline clip-path=\"url(#clip2602)\" style=\"stroke:#000000; stroke-width:4; stroke-opacity:1; fill:none\" points=\"\n",
       "  1099.11,421.374 1099.11,374.97 1263.68,374.97 1263.68,421.374 1099.11,421.374 \n",
       "  \"/>\n",
       "<path clip-path=\"url(#clip2602)\" d=\"\n",
       "M1099.11 326.914 L1099.11 374.97 L1263.68 374.97 L1263.68 326.914 L1099.11 326.914 L1099.11 326.914  Z\n",
       "  \" fill=\"#ac8d18\" fill-rule=\"evenodd\" fill-opacity=\"1\"/>\n",
       "<polyline clip-path=\"url(#clip2602)\" style=\"stroke:#000000; stroke-width:4; stroke-opacity:1; fill:none\" points=\"\n",
       "  1099.11,326.914 1099.11,374.97 1263.68,374.97 1263.68,326.914 1099.11,326.914 \n",
       "  \"/>\n",
       "<path clip-path=\"url(#clip2602)\" d=\"\n",
       "M1181.4 192.336 L1099.11 192.336 L1263.68 192.336 L1181.4 192.336 L1181.4 326.914 L1181.4 192.336  Z\n",
       "  \" fill=\"#ac8d18\" fill-rule=\"evenodd\" fill-opacity=\"1\"/>\n",
       "<polyline clip-path=\"url(#clip2602)\" style=\"stroke:#000000; stroke-width:4; stroke-opacity:1; fill:none\" points=\"\n",
       "  1181.4,192.336 1099.11,192.336 1263.68,192.336 1181.4,192.336 1181.4,326.914 1181.4,192.336 \n",
       "  \"/>\n",
       "<circle clip-path=\"url(#clip2602)\" style=\"fill:#000000; stroke:none; fill-opacity:1\" cx=\"1387.11\" cy=\"575.132\" r=\"18\"/>\n",
       "<circle clip-path=\"url(#clip2602)\" style=\"fill:#00a9ad; stroke:none; fill-opacity:1\" cx=\"1387.11\" cy=\"575.132\" r=\"14\"/>\n",
       "<circle clip-path=\"url(#clip2602)\" style=\"fill:#000000; stroke:none; fill-opacity:1\" cx=\"1387.11\" cy=\"586.608\" r=\"18\"/>\n",
       "<circle clip-path=\"url(#clip2602)\" style=\"fill:#00a9ad; stroke:none; fill-opacity:1\" cx=\"1387.11\" cy=\"586.608\" r=\"14\"/>\n",
       "<circle clip-path=\"url(#clip2602)\" style=\"fill:#000000; stroke:none; fill-opacity:1\" cx=\"1387.11\" cy=\"585.672\" r=\"18\"/>\n",
       "<circle clip-path=\"url(#clip2602)\" style=\"fill:#00a9ad; stroke:none; fill-opacity:1\" cx=\"1387.11\" cy=\"585.672\" r=\"14\"/>\n",
       "<circle clip-path=\"url(#clip2602)\" style=\"fill:#000000; stroke:none; fill-opacity:1\" cx=\"1387.11\" cy=\"602.868\" r=\"18\"/>\n",
       "<circle clip-path=\"url(#clip2602)\" style=\"fill:#00a9ad; stroke:none; fill-opacity:1\" cx=\"1387.11\" cy=\"602.868\" r=\"14\"/>\n",
       "<path clip-path=\"url(#clip2602)\" d=\"\n",
       "M1387.11 572.339 L1304.83 572.339 L1469.4 572.339 L1387.11 572.339 L1387.11 423.164 L1387.11 572.339  Z\n",
       "  \" fill=\"#00a9ad\" fill-rule=\"evenodd\" fill-opacity=\"1\"/>\n",
       "<polyline clip-path=\"url(#clip2602)\" style=\"stroke:#000000; stroke-width:4; stroke-opacity:1; fill:none\" points=\"\n",
       "  1387.11,572.339 1304.83,572.339 1469.4,572.339 1387.11,572.339 1387.11,423.164 1387.11,572.339 \n",
       "  \"/>\n",
       "<path clip-path=\"url(#clip2602)\" d=\"\n",
       "M1304.83 423.164 L1304.83 371.568 L1469.4 371.568 L1469.4 423.164 L1304.83 423.164 L1304.83 423.164  Z\n",
       "  \" fill=\"#00a9ad\" fill-rule=\"evenodd\" fill-opacity=\"1\"/>\n",
       "<polyline clip-path=\"url(#clip2602)\" style=\"stroke:#000000; stroke-width:4; stroke-opacity:1; fill:none\" points=\"\n",
       "  1304.83,423.164 1304.83,371.568 1469.4,371.568 1469.4,423.164 1304.83,423.164 \n",
       "  \"/>\n",
       "<path clip-path=\"url(#clip2602)\" d=\"\n",
       "M1304.83 322.919 L1304.83 371.568 L1469.4 371.568 L1469.4 322.919 L1304.83 322.919 L1304.83 322.919  Z\n",
       "  \" fill=\"#00a9ad\" fill-rule=\"evenodd\" fill-opacity=\"1\"/>\n",
       "<polyline clip-path=\"url(#clip2602)\" style=\"stroke:#000000; stroke-width:4; stroke-opacity:1; fill:none\" points=\"\n",
       "  1304.83,322.919 1304.83,371.568 1469.4,371.568 1469.4,322.919 1304.83,322.919 \n",
       "  \"/>\n",
       "<path clip-path=\"url(#clip2602)\" d=\"\n",
       "M1387.11 187.079 L1304.83 187.079 L1469.4 187.079 L1387.11 187.079 L1387.11 322.919 L1387.11 187.079  Z\n",
       "  \" fill=\"#00a9ad\" fill-rule=\"evenodd\" fill-opacity=\"1\"/>\n",
       "<polyline clip-path=\"url(#clip2602)\" style=\"stroke:#000000; stroke-width:4; stroke-opacity:1; fill:none\" points=\"\n",
       "  1387.11,187.079 1304.83,187.079 1469.4,187.079 1387.11,187.079 1387.11,322.919 1387.11,187.079 \n",
       "  \"/>\n",
       "<circle clip-path=\"url(#clip2602)\" style=\"fill:#000000; stroke:none; fill-opacity:1\" cx=\"1592.83\" cy=\"635.08\" r=\"18\"/>\n",
       "<circle clip-path=\"url(#clip2602)\" style=\"fill:#ed5d92; stroke:none; fill-opacity:1\" cx=\"1592.83\" cy=\"635.08\" r=\"14\"/>\n",
       "<circle clip-path=\"url(#clip2602)\" style=\"fill:#000000; stroke:none; fill-opacity:1\" cx=\"1592.83\" cy=\"606.305\" r=\"18\"/>\n",
       "<circle clip-path=\"url(#clip2602)\" style=\"fill:#ed5d92; stroke:none; fill-opacity:1\" cx=\"1592.83\" cy=\"606.305\" r=\"14\"/>\n",
       "<circle clip-path=\"url(#clip2602)\" style=\"fill:#000000; stroke:none; fill-opacity:1\" cx=\"1592.83\" cy=\"580.808\" r=\"18\"/>\n",
       "<circle clip-path=\"url(#clip2602)\" style=\"fill:#ed5d92; stroke:none; fill-opacity:1\" cx=\"1592.83\" cy=\"580.808\" r=\"14\"/>\n",
       "<circle clip-path=\"url(#clip2602)\" style=\"fill:#000000; stroke:none; fill-opacity:1\" cx=\"1592.83\" cy=\"176.467\" r=\"18\"/>\n",
       "<circle clip-path=\"url(#clip2602)\" style=\"fill:#ed5d92; stroke:none; fill-opacity:1\" cx=\"1592.83\" cy=\"176.467\" r=\"14\"/>\n",
       "<circle clip-path=\"url(#clip2602)\" style=\"fill:#000000; stroke:none; fill-opacity:1\" cx=\"1592.83\" cy=\"167.978\" r=\"18\"/>\n",
       "<circle clip-path=\"url(#clip2602)\" style=\"fill:#ed5d92; stroke:none; fill-opacity:1\" cx=\"1592.83\" cy=\"167.978\" r=\"14\"/>\n",
       "<circle clip-path=\"url(#clip2602)\" style=\"fill:#000000; stroke:none; fill-opacity:1\" cx=\"1592.83\" cy=\"572.339\" r=\"18\"/>\n",
       "<circle clip-path=\"url(#clip2602)\" style=\"fill:#ed5d92; stroke:none; fill-opacity:1\" cx=\"1592.83\" cy=\"572.339\" r=\"14\"/>\n",
       "<circle clip-path=\"url(#clip2602)\" style=\"fill:#000000; stroke:none; fill-opacity:1\" cx=\"1592.83\" cy=\"569.356\" r=\"18\"/>\n",
       "<circle clip-path=\"url(#clip2602)\" style=\"fill:#ed5d92; stroke:none; fill-opacity:1\" cx=\"1592.83\" cy=\"569.356\" r=\"14\"/>\n",
       "<circle clip-path=\"url(#clip2602)\" style=\"fill:#000000; stroke:none; fill-opacity:1\" cx=\"1592.83\" cy=\"594.218\" r=\"18\"/>\n",
       "<circle clip-path=\"url(#clip2602)\" style=\"fill:#ed5d92; stroke:none; fill-opacity:1\" cx=\"1592.83\" cy=\"594.218\" r=\"14\"/>\n",
       "<circle clip-path=\"url(#clip2602)\" style=\"fill:#000000; stroke:none; fill-opacity:1\" cx=\"1592.83\" cy=\"180.635\" r=\"18\"/>\n",
       "<circle clip-path=\"url(#clip2602)\" style=\"fill:#ed5d92; stroke:none; fill-opacity:1\" cx=\"1592.83\" cy=\"180.635\" r=\"14\"/>\n",
       "<circle clip-path=\"url(#clip2602)\" style=\"fill:#000000; stroke:none; fill-opacity:1\" cx=\"1592.83\" cy=\"581.498\" r=\"18\"/>\n",
       "<circle clip-path=\"url(#clip2602)\" style=\"fill:#ed5d92; stroke:none; fill-opacity:1\" cx=\"1592.83\" cy=\"581.498\" r=\"14\"/>\n",
       "<circle clip-path=\"url(#clip2602)\" style=\"fill:#000000; stroke:none; fill-opacity:1\" cx=\"1592.83\" cy=\"581.498\" r=\"18\"/>\n",
       "<circle clip-path=\"url(#clip2602)\" style=\"fill:#ed5d92; stroke:none; fill-opacity:1\" cx=\"1592.83\" cy=\"581.498\" r=\"14\"/>\n",
       "<circle clip-path=\"url(#clip2602)\" style=\"fill:#000000; stroke:none; fill-opacity:1\" cx=\"1592.83\" cy=\"578.174\" r=\"18\"/>\n",
       "<circle clip-path=\"url(#clip2602)\" style=\"fill:#ed5d92; stroke:none; fill-opacity:1\" cx=\"1592.83\" cy=\"578.174\" r=\"14\"/>\n",
       "<path clip-path=\"url(#clip2602)\" d=\"\n",
       "M1592.83 561.563 L1510.55 561.563 L1675.12 561.563 L1592.83 561.563 L1592.83 421.041 L1592.83 561.563  Z\n",
       "  \" fill=\"#ed5d92\" fill-rule=\"evenodd\" fill-opacity=\"1\"/>\n",
       "<polyline clip-path=\"url(#clip2602)\" style=\"stroke:#000000; stroke-width:4; stroke-opacity:1; fill:none\" points=\"\n",
       "  1592.83,561.563 1510.55,561.563 1675.12,561.563 1592.83,561.563 1592.83,421.041 1592.83,561.563 \n",
       "  \"/>\n",
       "<path clip-path=\"url(#clip2602)\" d=\"\n",
       "M1510.55 421.041 L1510.55 371.568 L1675.12 371.568 L1675.12 421.041 L1510.55 421.041 L1510.55 421.041  Z\n",
       "  \" fill=\"#ed5d92\" fill-rule=\"evenodd\" fill-opacity=\"1\"/>\n",
       "<polyline clip-path=\"url(#clip2602)\" style=\"stroke:#000000; stroke-width:4; stroke-opacity:1; fill:none\" points=\"\n",
       "  1510.55,421.041 1510.55,371.568 1675.12,371.568 1675.12,421.041 1510.55,421.041 \n",
       "  \"/>\n",
       "<path clip-path=\"url(#clip2602)\" d=\"\n",
       "M1510.55 326.914 L1510.55 371.568 L1675.12 371.568 L1675.12 326.914 L1510.55 326.914 L1510.55 326.914  Z\n",
       "  \" fill=\"#ed5d92\" fill-rule=\"evenodd\" fill-opacity=\"1\"/>\n",
       "<polyline clip-path=\"url(#clip2602)\" style=\"stroke:#000000; stroke-width:4; stroke-opacity:1; fill:none\" points=\"\n",
       "  1510.55,326.914 1510.55,371.568 1675.12,371.568 1675.12,326.914 1510.55,326.914 \n",
       "  \"/>\n",
       "<path clip-path=\"url(#clip2602)\" d=\"\n",
       "M1592.83 199.191 L1510.55 199.191 L1675.12 199.191 L1592.83 199.191 L1592.83 326.914 L1592.83 199.191  Z\n",
       "  \" fill=\"#ed5d92\" fill-rule=\"evenodd\" fill-opacity=\"1\"/>\n",
       "<polyline clip-path=\"url(#clip2602)\" style=\"stroke:#000000; stroke-width:4; stroke-opacity:1; fill:none\" points=\"\n",
       "  1592.83,199.191 1510.55,199.191 1675.12,199.191 1592.83,199.191 1592.83,326.914 1592.83,199.191 \n",
       "  \"/>\n",
       "<circle clip-path=\"url(#clip2602)\" style=\"fill:#000000; stroke:none; fill-opacity:1\" cx=\"1798.55\" cy=\"580.808\" r=\"18\"/>\n",
       "<circle clip-path=\"url(#clip2602)\" style=\"fill:#c68125; stroke:none; fill-opacity:1\" cx=\"1798.55\" cy=\"580.808\" r=\"14\"/>\n",
       "<circle clip-path=\"url(#clip2602)\" style=\"fill:#000000; stroke:none; fill-opacity:1\" cx=\"1798.55\" cy=\"611.125\" r=\"18\"/>\n",
       "<circle clip-path=\"url(#clip2602)\" style=\"fill:#c68125; stroke:none; fill-opacity:1\" cx=\"1798.55\" cy=\"611.125\" r=\"14\"/>\n",
       "<circle clip-path=\"url(#clip2602)\" style=\"fill:#000000; stroke:none; fill-opacity:1\" cx=\"1798.55\" cy=\"585.672\" r=\"18\"/>\n",
       "<circle clip-path=\"url(#clip2602)\" style=\"fill:#c68125; stroke:none; fill-opacity:1\" cx=\"1798.55\" cy=\"585.672\" r=\"14\"/>\n",
       "<circle clip-path=\"url(#clip2602)\" style=\"fill:#000000; stroke:none; fill-opacity:1\" cx=\"1798.55\" cy=\"616.097\" r=\"18\"/>\n",
       "<circle clip-path=\"url(#clip2602)\" style=\"fill:#c68125; stroke:none; fill-opacity:1\" cx=\"1798.55\" cy=\"616.097\" r=\"14\"/>\n",
       "<circle clip-path=\"url(#clip2602)\" style=\"fill:#000000; stroke:none; fill-opacity:1\" cx=\"1798.55\" cy=\"582.136\" r=\"18\"/>\n",
       "<circle clip-path=\"url(#clip2602)\" style=\"fill:#c68125; stroke:none; fill-opacity:1\" cx=\"1798.55\" cy=\"582.136\" r=\"14\"/>\n",
       "<circle clip-path=\"url(#clip2602)\" style=\"fill:#000000; stroke:none; fill-opacity:1\" cx=\"1798.55\" cy=\"645.608\" r=\"18\"/>\n",
       "<circle clip-path=\"url(#clip2602)\" style=\"fill:#c68125; stroke:none; fill-opacity:1\" cx=\"1798.55\" cy=\"645.608\" r=\"14\"/>\n",
       "<circle clip-path=\"url(#clip2602)\" style=\"fill:#000000; stroke:none; fill-opacity:1\" cx=\"1798.55\" cy=\"581.498\" r=\"18\"/>\n",
       "<circle clip-path=\"url(#clip2602)\" style=\"fill:#c68125; stroke:none; fill-opacity:1\" cx=\"1798.55\" cy=\"581.498\" r=\"14\"/>\n",
       "<path clip-path=\"url(#clip2602)\" d=\"\n",
       "M1798.55 570.076 L1716.26 570.076 L1880.84 570.076 L1798.55 570.076 L1798.55 428.111 L1798.55 570.076  Z\n",
       "  \" fill=\"#c68125\" fill-rule=\"evenodd\" fill-opacity=\"1\"/>\n",
       "<polyline clip-path=\"url(#clip2602)\" style=\"stroke:#000000; stroke-width:4; stroke-opacity:1; fill:none\" points=\"\n",
       "  1798.55,570.076 1716.26,570.076 1880.84,570.076 1798.55,570.076 1798.55,428.111 1798.55,570.076 \n",
       "  \"/>\n",
       "<path clip-path=\"url(#clip2602)\" d=\"\n",
       "M1716.26 428.111 L1716.26 374.643 L1880.84 374.643 L1880.84 428.111 L1716.26 428.111 L1716.26 428.111  Z\n",
       "  \" fill=\"#c68125\" fill-rule=\"evenodd\" fill-opacity=\"1\"/>\n",
       "<polyline clip-path=\"url(#clip2602)\" style=\"stroke:#000000; stroke-width:4; stroke-opacity:1; fill:none\" points=\"\n",
       "  1716.26,428.111 1716.26,374.643 1880.84,374.643 1880.84,428.111 1716.26,428.111 \n",
       "  \"/>\n",
       "<path clip-path=\"url(#clip2602)\" d=\"\n",
       "M1716.26 326.914 L1716.26 374.643 L1880.84 374.643 L1880.84 326.914 L1716.26 326.914 L1716.26 326.914  Z\n",
       "  \" fill=\"#c68125\" fill-rule=\"evenodd\" fill-opacity=\"1\"/>\n",
       "<polyline clip-path=\"url(#clip2602)\" style=\"stroke:#000000; stroke-width:4; stroke-opacity:1; fill:none\" points=\"\n",
       "  1716.26,326.914 1716.26,374.643 1880.84,374.643 1880.84,326.914 1716.26,326.914 \n",
       "  \"/>\n",
       "<path clip-path=\"url(#clip2602)\" d=\"\n",
       "M1798.55 176.467 L1716.26 176.467 L1880.84 176.467 L1798.55 176.467 L1798.55 326.914 L1798.55 176.467  Z\n",
       "  \" fill=\"#c68125\" fill-rule=\"evenodd\" fill-opacity=\"1\"/>\n",
       "<polyline clip-path=\"url(#clip2602)\" style=\"stroke:#000000; stroke-width:4; stroke-opacity:1; fill:none\" points=\"\n",
       "  1798.55,176.467 1716.26,176.467 1880.84,176.467 1798.55,176.467 1798.55,326.914 1798.55,176.467 \n",
       "  \"/>\n",
       "<circle clip-path=\"url(#clip2602)\" style=\"fill:#000000; stroke:none; fill-opacity:1\" cx=\"2004.27\" cy=\"167.103\" r=\"18\"/>\n",
       "<circle clip-path=\"url(#clip2602)\" style=\"fill:#00a98d; stroke:none; fill-opacity:1\" cx=\"2004.27\" cy=\"167.103\" r=\"14\"/>\n",
       "<circle clip-path=\"url(#clip2602)\" style=\"fill:#000000; stroke:none; fill-opacity:1\" cx=\"2004.27\" cy=\"590.24\" r=\"18\"/>\n",
       "<circle clip-path=\"url(#clip2602)\" style=\"fill:#00a98d; stroke:none; fill-opacity:1\" cx=\"2004.27\" cy=\"590.24\" r=\"14\"/>\n",
       "<circle clip-path=\"url(#clip2602)\" style=\"fill:#000000; stroke:none; fill-opacity:1\" cx=\"2004.27\" cy=\"586.608\" r=\"18\"/>\n",
       "<circle clip-path=\"url(#clip2602)\" style=\"fill:#00a98d; stroke:none; fill-opacity:1\" cx=\"2004.27\" cy=\"586.608\" r=\"14\"/>\n",
       "<circle clip-path=\"url(#clip2602)\" style=\"fill:#000000; stroke:none; fill-opacity:1\" cx=\"2004.27\" cy=\"616.097\" r=\"18\"/>\n",
       "<circle clip-path=\"url(#clip2602)\" style=\"fill:#00a98d; stroke:none; fill-opacity:1\" cx=\"2004.27\" cy=\"616.097\" r=\"14\"/>\n",
       "<circle clip-path=\"url(#clip2602)\" style=\"fill:#000000; stroke:none; fill-opacity:1\" cx=\"2004.27\" cy=\"180.635\" r=\"18\"/>\n",
       "<circle clip-path=\"url(#clip2602)\" style=\"fill:#00a98d; stroke:none; fill-opacity:1\" cx=\"2004.27\" cy=\"180.635\" r=\"14\"/>\n",
       "<circle clip-path=\"url(#clip2602)\" style=\"fill:#000000; stroke:none; fill-opacity:1\" cx=\"2004.27\" cy=\"567.749\" r=\"18\"/>\n",
       "<circle clip-path=\"url(#clip2602)\" style=\"fill:#00a98d; stroke:none; fill-opacity:1\" cx=\"2004.27\" cy=\"567.749\" r=\"14\"/>\n",
       "<circle clip-path=\"url(#clip2602)\" style=\"fill:#000000; stroke:none; fill-opacity:1\" cx=\"2004.27\" cy=\"624.238\" r=\"18\"/>\n",
       "<circle clip-path=\"url(#clip2602)\" style=\"fill:#00a98d; stroke:none; fill-opacity:1\" cx=\"2004.27\" cy=\"624.238\" r=\"14\"/>\n",
       "<circle clip-path=\"url(#clip2602)\" style=\"fill:#000000; stroke:none; fill-opacity:1\" cx=\"2004.27\" cy=\"581.498\" r=\"18\"/>\n",
       "<circle clip-path=\"url(#clip2602)\" style=\"fill:#00a98d; stroke:none; fill-opacity:1\" cx=\"2004.27\" cy=\"581.498\" r=\"14\"/>\n",
       "<path clip-path=\"url(#clip2602)\" d=\"\n",
       "M2004.27 564.135 L1921.98 564.135 L2086.56 564.135 L2004.27 564.135 L2004.27 422.199 L2004.27 564.135  Z\n",
       "  \" fill=\"#00a98d\" fill-rule=\"evenodd\" fill-opacity=\"1\"/>\n",
       "<polyline clip-path=\"url(#clip2602)\" style=\"stroke:#000000; stroke-width:4; stroke-opacity:1; fill:none\" points=\"\n",
       "  2004.27,564.135 1921.98,564.135 2086.56,564.135 2004.27,564.135 2004.27,422.199 2004.27,564.135 \n",
       "  \"/>\n",
       "<path clip-path=\"url(#clip2602)\" d=\"\n",
       "M1921.98 422.199 L1921.98 372.694 L2086.56 372.694 L2086.56 422.199 L1921.98 422.199 L1921.98 422.199  Z\n",
       "  \" fill=\"#00a98d\" fill-rule=\"evenodd\" fill-opacity=\"1\"/>\n",
       "<polyline clip-path=\"url(#clip2602)\" style=\"stroke:#000000; stroke-width:4; stroke-opacity:1; fill:none\" points=\"\n",
       "  1921.98,422.199 1921.98,372.694 2086.56,372.694 2086.56,422.199 1921.98,422.199 \n",
       "  \"/>\n",
       "<path clip-path=\"url(#clip2602)\" d=\"\n",
       "M1921.98 326.914 L1921.98 372.694 L2086.56 372.694 L2086.56 326.914 L1921.98 326.914 L1921.98 326.914  Z\n",
       "  \" fill=\"#00a98d\" fill-rule=\"evenodd\" fill-opacity=\"1\"/>\n",
       "<polyline clip-path=\"url(#clip2602)\" style=\"stroke:#000000; stroke-width:4; stroke-opacity:1; fill:none\" points=\"\n",
       "  1921.98,326.914 1921.98,372.694 2086.56,372.694 2086.56,326.914 1921.98,326.914 \n",
       "  \"/>\n",
       "<path clip-path=\"url(#clip2602)\" d=\"\n",
       "M2004.27 198.004 L1921.98 198.004 L2086.56 198.004 L2004.27 198.004 L2004.27 326.914 L2004.27 198.004  Z\n",
       "  \" fill=\"#00a98d\" fill-rule=\"evenodd\" fill-opacity=\"1\"/>\n",
       "<polyline clip-path=\"url(#clip2602)\" style=\"stroke:#000000; stroke-width:4; stroke-opacity:1; fill:none\" points=\"\n",
       "  2004.27,198.004 1921.98,198.004 2086.56,198.004 2004.27,198.004 2004.27,326.914 2004.27,198.004 \n",
       "  \"/>\n",
       "<circle clip-path=\"url(#clip2602)\" style=\"fill:#000000; stroke:none; fill-opacity:1\" cx=\"2209.99\" cy=\"594.54\" r=\"18\"/>\n",
       "<circle clip-path=\"url(#clip2602)\" style=\"fill:#8e971d; stroke:none; fill-opacity:1\" cx=\"2209.99\" cy=\"594.54\" r=\"14\"/>\n",
       "<circle clip-path=\"url(#clip2602)\" style=\"fill:#000000; stroke:none; fill-opacity:1\" cx=\"2209.99\" cy=\"568.205\" r=\"18\"/>\n",
       "<circle clip-path=\"url(#clip2602)\" style=\"fill:#8e971d; stroke:none; fill-opacity:1\" cx=\"2209.99\" cy=\"568.205\" r=\"14\"/>\n",
       "<circle clip-path=\"url(#clip2602)\" style=\"fill:#000000; stroke:none; fill-opacity:1\" cx=\"2209.99\" cy=\"587.027\" r=\"18\"/>\n",
       "<circle clip-path=\"url(#clip2602)\" style=\"fill:#8e971d; stroke:none; fill-opacity:1\" cx=\"2209.99\" cy=\"587.027\" r=\"14\"/>\n",
       "<circle clip-path=\"url(#clip2602)\" style=\"fill:#000000; stroke:none; fill-opacity:1\" cx=\"2209.99\" cy=\"582.136\" r=\"18\"/>\n",
       "<circle clip-path=\"url(#clip2602)\" style=\"fill:#8e971d; stroke:none; fill-opacity:1\" cx=\"2209.99\" cy=\"582.136\" r=\"14\"/>\n",
       "<circle clip-path=\"url(#clip2602)\" style=\"fill:#000000; stroke:none; fill-opacity:1\" cx=\"2209.99\" cy=\"575.132\" r=\"18\"/>\n",
       "<circle clip-path=\"url(#clip2602)\" style=\"fill:#8e971d; stroke:none; fill-opacity:1\" cx=\"2209.99\" cy=\"575.132\" r=\"14\"/>\n",
       "<circle clip-path=\"url(#clip2602)\" style=\"fill:#000000; stroke:none; fill-opacity:1\" cx=\"2209.99\" cy=\"595.273\" r=\"18\"/>\n",
       "<circle clip-path=\"url(#clip2602)\" style=\"fill:#8e971d; stroke:none; fill-opacity:1\" cx=\"2209.99\" cy=\"595.273\" r=\"14\"/>\n",
       "<circle clip-path=\"url(#clip2602)\" style=\"fill:#000000; stroke:none; fill-opacity:1\" cx=\"2209.99\" cy=\"569.356\" r=\"18\"/>\n",
       "<circle clip-path=\"url(#clip2602)\" style=\"fill:#8e971d; stroke:none; fill-opacity:1\" cx=\"2209.99\" cy=\"569.356\" r=\"14\"/>\n",
       "<circle clip-path=\"url(#clip2602)\" style=\"fill:#000000; stroke:none; fill-opacity:1\" cx=\"2209.99\" cy=\"637.976\" r=\"18\"/>\n",
       "<circle clip-path=\"url(#clip2602)\" style=\"fill:#8e971d; stroke:none; fill-opacity:1\" cx=\"2209.99\" cy=\"637.976\" r=\"14\"/>\n",
       "<circle clip-path=\"url(#clip2602)\" style=\"fill:#000000; stroke:none; fill-opacity:1\" cx=\"2209.99\" cy=\"582.136\" r=\"18\"/>\n",
       "<circle clip-path=\"url(#clip2602)\" style=\"fill:#8e971d; stroke:none; fill-opacity:1\" cx=\"2209.99\" cy=\"582.136\" r=\"14\"/>\n",
       "<circle clip-path=\"url(#clip2602)\" style=\"fill:#000000; stroke:none; fill-opacity:1\" cx=\"2209.99\" cy=\"624.238\" r=\"18\"/>\n",
       "<circle clip-path=\"url(#clip2602)\" style=\"fill:#8e971d; stroke:none; fill-opacity:1\" cx=\"2209.99\" cy=\"624.238\" r=\"14\"/>\n",
       "<circle clip-path=\"url(#clip2602)\" style=\"fill:#000000; stroke:none; fill-opacity:1\" cx=\"2209.99\" cy=\"581.498\" r=\"18\"/>\n",
       "<circle clip-path=\"url(#clip2602)\" style=\"fill:#8e971d; stroke:none; fill-opacity:1\" cx=\"2209.99\" cy=\"581.498\" r=\"14\"/>\n",
       "<path clip-path=\"url(#clip2602)\" d=\"\n",
       "M2209.99 567.749 L2127.7 567.749 L2292.27 567.749 L2209.99 567.749 L2209.99 422.199 L2209.99 567.749  Z\n",
       "  \" fill=\"#8e971d\" fill-rule=\"evenodd\" fill-opacity=\"1\"/>\n",
       "<polyline clip-path=\"url(#clip2602)\" style=\"stroke:#000000; stroke-width:4; stroke-opacity:1; fill:none\" points=\"\n",
       "  2209.99,567.749 2127.7,567.749 2292.27,567.749 2209.99,567.749 2209.99,422.199 2209.99,567.749 \n",
       "  \"/>\n",
       "<path clip-path=\"url(#clip2602)\" d=\"\n",
       "M2127.7 422.199 L2127.7 372.769 L2292.27 372.769 L2292.27 422.199 L2127.7 422.199 L2127.7 422.199  Z\n",
       "  \" fill=\"#8e971d\" fill-rule=\"evenodd\" fill-opacity=\"1\"/>\n",
       "<polyline clip-path=\"url(#clip2602)\" style=\"stroke:#000000; stroke-width:4; stroke-opacity:1; fill:none\" points=\"\n",
       "  2127.7,422.199 2127.7,372.769 2292.27,372.769 2292.27,422.199 2127.7,422.199 \n",
       "  \"/>\n",
       "<path clip-path=\"url(#clip2602)\" d=\"\n",
       "M2127.7 325.056 L2127.7 372.769 L2292.27 372.769 L2292.27 325.056 L2127.7 325.056 L2127.7 325.056  Z\n",
       "  \" fill=\"#8e971d\" fill-rule=\"evenodd\" fill-opacity=\"1\"/>\n",
       "<polyline clip-path=\"url(#clip2602)\" style=\"stroke:#000000; stroke-width:4; stroke-opacity:1; fill:none\" points=\"\n",
       "  2127.7,325.056 2127.7,372.769 2292.27,372.769 2292.27,325.056 2127.7,325.056 \n",
       "  \"/>\n",
       "<path clip-path=\"url(#clip2602)\" d=\"\n",
       "M2209.99 184.225 L2127.7 184.225 L2292.27 184.225 L2209.99 184.225 L2209.99 325.056 L2209.99 184.225  Z\n",
       "  \" fill=\"#8e971d\" fill-rule=\"evenodd\" fill-opacity=\"1\"/>\n",
       "<polyline clip-path=\"url(#clip2602)\" style=\"stroke:#000000; stroke-width:4; stroke-opacity:1; fill:none\" points=\"\n",
       "  2209.99,184.225 2127.7,184.225 2292.27,184.225 2209.99,184.225 2209.99,325.056 2209.99,184.225 \n",
       "  \"/>\n",
       "</svg>\n"
      ]
     },
     "execution_count": 15,
     "metadata": {},
     "output_type": "execute_result"
    }
   ],
   "source": [
    "num_trials_per_depth = 1000\n",
    "tree_depths = [1,2,3,4,5,6,7,8,9,-1]\n",
    "\n",
    "accuracies = zeros(num_trials_per_depth,length(tree_depths));\n",
    "\n",
    "for trial in 1:num_trials_per_depth\n",
    "    \n",
    "    training_filter = rand(Bernoulli(0.75), nrow(mur_df)) .== 1;\n",
    "    test_filter = map(!, training_filter);\n",
    "    \n",
    "    for (depth_ii, depth_limit) in enumerate(tree_depths)\n",
    "           \n",
    "        trained_model = build_tree(mur_labels[training_filter,1], mur_features[training_filter,:], 0, depth_limit);\n",
    "        mur_predictions = apply_tree(trained_model, mur_features[test_filter, :]);\n",
    "        trained_model_accuracy = confusion_matrix(mur_predictions, mur_labels[test_filter,1]).accuracy\n",
    "\n",
    "        accuracies[trial, depth_ii] = trained_model_accuracy\n",
    "    end\n",
    "end\n",
    "\n",
    "series_labels = map(string, tree_depths)\n",
    "series_labels[series_labels.==\"-1\"] .= \"Inf\"\n",
    "\n",
    "boxplot(accuracies,leg=false, xlabel = \"Maximum tree depth\", ylabel= \"Accuracy on witheld test data\", ylim = (0.5,1.0))\n",
    "xticks!([1:length(tree_depths);], series_labels)"
   ]
  },
  {
   "cell_type": "markdown",
   "metadata": {},
   "source": [
    "### Minimal perturbations for sample reclassification\n",
    "\n",
    "First, we pull out a single sample not used in training (here, test sample #10)."
   ]
  },
  {
   "cell_type": "code",
   "execution_count": 16,
   "metadata": {},
   "outputs": [],
   "source": [
    "sample = mur_features[mur_test,:][10,:];"
   ]
  },
  {
   "cell_type": "markdown",
   "metadata": {},
   "source": [
    "We can see that the model's initial classification of this sample is ESC, and that in this case the model's prediction agrees with the sample's true (hidden) label"
   ]
  },
  {
   "cell_type": "code",
   "execution_count": 17,
   "metadata": {},
   "outputs": [
    {
     "data": {
      "text/plain": [
       "\"ESC\""
      ]
     },
     "execution_count": 17,
     "metadata": {},
     "output_type": "execute_result"
    }
   ],
   "source": [
    "# Model's initial classification of the sample returns ESC\n",
    "og_label = apply_tree(mur_model, sample)"
   ]
  },
  {
   "cell_type": "code",
   "execution_count": 18,
   "metadata": {},
   "outputs": [
    {
     "data": {
      "text/plain": [
       "true"
      ]
     },
     "execution_count": 18,
     "metadata": {},
     "output_type": "execute_result"
    }
   ],
   "source": [
    "# Compare to hidden (real) label\n",
    "og_label == mur_df[:Classification][10]"
   ]
  },
  {
   "cell_type": "markdown",
   "metadata": {},
   "source": [
    "We then stipulate a target label that we wish the sample to be reclassified as"
   ]
  },
  {
   "cell_type": "code",
   "execution_count": 19,
   "metadata": {},
   "outputs": [
    {
     "data": {
      "text/plain": [
       "\"EPI\""
      ]
     },
     "execution_count": 19,
     "metadata": {},
     "output_type": "execute_result"
    }
   ],
   "source": [
    "target_label = \"EPI\""
   ]
  },
  {
   "cell_type": "markdown",
   "metadata": {},
   "source": [
    "Now given the learnt decision tree model, the sample and the target label for that sample we can generate the minimal sets of perturbations which would cause the model to reclassify the sample appropriately."
   ]
  },
  {
   "cell_type": "code",
   "execution_count": 20,
   "metadata": {
    "scrolled": true
   },
   "outputs": [
    {
     "data": {
      "text/html": [
       "<table class=\"data-frame\"><thead><tr><th></th><th>Factor</th><th>Nodes</th><th>Genes</th><th>Gene_ids</th></tr><tr><th></th><th>Int64</th><th>Array…</th><th>Array…</th><th>Array…</th></tr></thead><tbody><p>12 rows × 8 columns (omitted printing of 4 columns)</p><tr><th>1</th><td>2</td><td>[25, 3]</td><td>[\"Mef2a\", \"Klf4\"]</td><td>[51, 45]</td></tr><tr><th>2</th><td>2</td><td>[6, 3]</td><td>[\"Zfp42\", \"Klf4\"]</td><td>[96, 45]</td></tr><tr><th>3</th><td>3</td><td>[12, 6, 3]</td><td>[\"Dnmt3b\", \"Zfp42\", \"Klf4\"]</td><td>[15, 96, 45]</td></tr><tr><th>4</th><td>3</td><td>[22, 6, 3]</td><td>[\"Rai1\", \"Zfp42\", \"Klf4\"]</td><td>[71, 96, 45]</td></tr><tr><th>5</th><td>2</td><td>[13, 3]</td><td>[\"Gli2\", \"Klf4\"]</td><td>[32, 45]</td></tr><tr><th>6</th><td>1</td><td>[7]</td><td>[\"Fgf5\"]</td><td>[23]</td></tr><tr><th>7</th><td>1</td><td>[1]</td><td>[\"Fgf4\"]</td><td>[22]</td></tr><tr><th>8</th><td>2</td><td>[5, 1]</td><td>[\"Myst3\", \"Fgf4\"]</td><td>[55, 22]</td></tr><tr><th>9</th><td>3</td><td>[10, 5, 1]</td><td>[\"Dppa4\", \"Myst3\", \"Fgf4\"]</td><td>[17, 55, 22]</td></tr><tr><th>10</th><td>2</td><td>[2, 1]</td><td>[\"Pou5f1\", \"Fgf4\"]</td><td>[67, 22]</td></tr><tr><th>11</th><td>4</td><td>[8, 4, 2, 1]</td><td>[\"Fbxo15\", \"Esrrb\", \"Pou5f1\", \"Fgf4\"]</td><td>[21, 19, 67, 22]</td></tr><tr><th>12</th><td>5</td><td>[41, 18, 10, 5, 1]</td><td>[\"Fgf5\", \"Bmp7\", \"Dppa4\", \"Myst3\", \"Fgf4\"]</td><td>[23, 4, 17, 55, 22]</td></tr></tbody></table>"
      ],
      "text/latex": [
       "\\begin{tabular}{r|ccccc}\n",
       "\t& Factor & Nodes & Genes & Gene\\_ids & \\\\\n",
       "\t\\hline\n",
       "\t& Int64 & Array… & Array… & Array… & \\\\\n",
       "\t\\hline\n",
       "\t1 & 2 & [25, 3] & [\"Mef2a\", \"Klf4\"] & [51, 45] & $\\dots$ \\\\\n",
       "\t2 & 2 & [6, 3] & [\"Zfp42\", \"Klf4\"] & [96, 45] & $\\dots$ \\\\\n",
       "\t3 & 3 & [12, 6, 3] & [\"Dnmt3b\", \"Zfp42\", \"Klf4\"] & [15, 96, 45] & $\\dots$ \\\\\n",
       "\t4 & 3 & [22, 6, 3] & [\"Rai1\", \"Zfp42\", \"Klf4\"] & [71, 96, 45] & $\\dots$ \\\\\n",
       "\t5 & 2 & [13, 3] & [\"Gli2\", \"Klf4\"] & [32, 45] & $\\dots$ \\\\\n",
       "\t6 & 1 & [7] & [\"Fgf5\"] & [23] & $\\dots$ \\\\\n",
       "\t7 & 1 & [1] & [\"Fgf4\"] & [22] & $\\dots$ \\\\\n",
       "\t8 & 2 & [5, 1] & [\"Myst3\", \"Fgf4\"] & [55, 22] & $\\dots$ \\\\\n",
       "\t9 & 3 & [10, 5, 1] & [\"Dppa4\", \"Myst3\", \"Fgf4\"] & [17, 55, 22] & $\\dots$ \\\\\n",
       "\t10 & 2 & [2, 1] & [\"Pou5f1\", \"Fgf4\"] & [67, 22] & $\\dots$ \\\\\n",
       "\t11 & 4 & [8, 4, 2, 1] & [\"Fbxo15\", \"Esrrb\", \"Pou5f1\", \"Fgf4\"] & [21, 19, 67, 22] & $\\dots$ \\\\\n",
       "\t12 & 5 & [41, 18, 10, 5, 1] & [\"Fgf5\", \"Bmp7\", \"Dppa4\", \"Myst3\", \"Fgf4\"] & [23, 4, 17, 55, 22] & $\\dots$ \\\\\n",
       "\\end{tabular}\n"
      ],
      "text/plain": [
       "12×8 DataFrame. Omitted printing of 6 columns\n",
       "│ Row │ Factor │ Nodes              │\n",
       "│     │ \u001b[90mInt64\u001b[39m  │ \u001b[90mArray{Int64,1}\u001b[39m     │\n",
       "├─────┼────────┼────────────────────┤\n",
       "│ 1   │ 2      │ [25, 3]            │\n",
       "│ 2   │ 2      │ [6, 3]             │\n",
       "│ 3   │ 3      │ [12, 6, 3]         │\n",
       "│ 4   │ 3      │ [22, 6, 3]         │\n",
       "│ 5   │ 2      │ [13, 3]            │\n",
       "│ 6   │ 1      │ [7]                │\n",
       "│ 7   │ 1      │ [1]                │\n",
       "│ 8   │ 2      │ [5, 1]             │\n",
       "│ 9   │ 3      │ [10, 5, 1]         │\n",
       "│ 10  │ 2      │ [2, 1]             │\n",
       "│ 11  │ 4      │ [8, 4, 2, 1]       │\n",
       "│ 12  │ 5      │ [41, 18, 10, 5, 1] │"
      ]
     },
     "execution_count": 20,
     "metadata": {},
     "output_type": "execute_result"
    }
   ],
   "source": [
    "perturbations = CellFateDecisionTrees.generate_sample_mutations(mur_df, mur_model, sample, target_label)"
   ]
  },
  {
   "cell_type": "markdown",
   "metadata": {},
   "source": [
    "These sets of perturbations are ranked by sum absolute path edit distance. We see that the topmost ranked set requires *Mef2a* expression in the sample to be increased by +1.29.. and for *Klf4* expression to be reduced by 1.28.. in order for the sample to be reclassified as EPI. Note that each set of perturbations (each row in the returned dataframe) corresponds to each unique path through the learnt decision tree model ending with a leaf node of the target class.\n",
    "\n",
    "We can confirm that the adjusted samples are appropriately reclassified by the learnt model"
   ]
  },
  {
   "cell_type": "code",
   "execution_count": 21,
   "metadata": {
    "scrolled": true
   },
   "outputs": [
    {
     "data": {
      "text/plain": [
       "true"
      ]
     },
     "execution_count": 21,
     "metadata": {},
     "output_type": "execute_result"
    }
   ],
   "source": [
    "altered_sample = convert(typeof(sample), perturbations[:Altered_sample][1])\n",
    "target_label == apply_tree(mur_model, altered_sample)"
   ]
  },
  {
   "cell_type": "markdown",
   "metadata": {},
   "source": [
    "### Resolving embryogenesis in *Xenopus tropicalis*\n",
    "\n",
    "Blah Blah *Xenopus tropicalis* blah blah. Firstly, we need to read in the larger *Xenopus* dataset to a Julia Dataframe (this takes ~10 minutes, much longer than all subsequent model generation from the data) "
   ]
  },
  {
   "cell_type": "code",
   "execution_count": 22,
   "metadata": {},
   "outputs": [
    {
     "data": {
      "text/html": [
       "<table class=\"data-frame\"><thead><tr><th></th><th>x42Sp43_42SP43</th><th>x42Sp50_42SP50</th><th>x6330408a02rik_like_1_LOC100145494</th><th>x6330408a02rik_like_2_LOC100145494</th></tr><tr><th></th><th>Float64</th><th>Float64</th><th>Float64</th><th>Float64</th></tr></thead><tbody><p>16,506 rows × 25,802 columns (omitted printing of 25798 columns)</p><tr><th>1</th><td>0.995256</td><td>0.248814</td><td>0.0</td><td>0.0</td></tr><tr><th>2</th><td>0.302317</td><td>0.0</td><td>0.0</td><td>0.0</td></tr><tr><th>3</th><td>0.31748</td><td>2.22236</td><td>0.0</td><td>0.0</td></tr><tr><th>4</th><td>2.62714</td><td>0.0</td><td>0.0</td><td>0.0</td></tr><tr><th>5</th><td>1.07644</td><td>0.358813</td><td>0.0</td><td>0.0</td></tr><tr><th>6</th><td>1.2182</td><td>0.812135</td><td>0.0</td><td>0.0</td></tr><tr><th>7</th><td>0.467273</td><td>1.40182</td><td>0.0</td><td>0.0</td></tr><tr><th>8</th><td>2.38382</td><td>0.953529</td><td>0.0</td><td>0.0</td></tr><tr><th>9</th><td>0.759344</td><td>0.0</td><td>0.0</td><td>0.0</td></tr><tr><th>10</th><td>0.396881</td><td>1.19064</td><td>0.0</td><td>0.396881</td></tr><tr><th>11</th><td>0.514463</td><td>0.0</td><td>0.0</td><td>0.0</td></tr><tr><th>12</th><td>0.932173</td><td>0.932173</td><td>0.0</td><td>0.0</td></tr><tr><th>13</th><td>0.0</td><td>0.545648</td><td>0.0</td><td>0.0</td></tr><tr><th>14</th><td>0.588707</td><td>0.0</td><td>0.0</td><td>0.0</td></tr><tr><th>15</th><td>1.00449</td><td>0.0</td><td>0.0</td><td>0.502247</td></tr><tr><th>16</th><td>0.0</td><td>0.0</td><td>0.0</td><td>0.0</td></tr><tr><th>17</th><td>3.16535</td><td>1.05512</td><td>0.0</td><td>0.0</td></tr><tr><th>18</th><td>2.46334</td><td>0.0</td><td>0.0</td><td>0.492667</td></tr><tr><th>19</th><td>0.496714</td><td>0.0</td><td>0.0</td><td>0.0</td></tr><tr><th>20</th><td>0.0</td><td>0.0</td><td>0.0</td><td>0.0</td></tr><tr><th>21</th><td>0.535528</td><td>0.0</td><td>0.0</td><td>0.0</td></tr><tr><th>22</th><td>0.0</td><td>0.0</td><td>0.0</td><td>0.0</td></tr><tr><th>23</th><td>0.0</td><td>0.0</td><td>0.0</td><td>0.0</td></tr><tr><th>24</th><td>0.622879</td><td>0.0</td><td>0.0</td><td>0.0</td></tr><tr><th>25</th><td>2.48459</td><td>0.0</td><td>0.0</td><td>0.0</td></tr><tr><th>26</th><td>0.0</td><td>0.0</td><td>0.0</td><td>0.0</td></tr><tr><th>27</th><td>1.2671</td><td>0.0</td><td>0.0</td><td>0.0</td></tr><tr><th>28</th><td>0.0</td><td>0.0</td><td>0.0</td><td>0.0</td></tr><tr><th>29</th><td>1.25381</td><td>0.626906</td><td>0.0</td><td>0.0</td></tr><tr><th>30</th><td>0.0</td><td>0.0</td><td>0.0</td><td>0.0</td></tr><tr><th>&vellip;</th><td>&vellip;</td><td>&vellip;</td><td>&vellip;</td><td>&vellip;</td></tr></tbody></table>"
      ],
      "text/latex": [
       "\\begin{tabular}{r|ccccc}\n",
       "\t& x42Sp43\\_42SP43 & x42Sp50\\_42SP50 & x6330408a02rik\\_like\\_1\\_LOC100145494 & x6330408a02rik\\_like\\_2\\_LOC100145494 & \\\\\n",
       "\t\\hline\n",
       "\t& Float64 & Float64 & Float64 & Float64 & \\\\\n",
       "\t\\hline\n",
       "\t1 & 0.995256 & 0.248814 & 0.0 & 0.0 & $\\dots$ \\\\\n",
       "\t2 & 0.302317 & 0.0 & 0.0 & 0.0 & $\\dots$ \\\\\n",
       "\t3 & 0.31748 & 2.22236 & 0.0 & 0.0 & $\\dots$ \\\\\n",
       "\t4 & 2.62714 & 0.0 & 0.0 & 0.0 & $\\dots$ \\\\\n",
       "\t5 & 1.07644 & 0.358813 & 0.0 & 0.0 & $\\dots$ \\\\\n",
       "\t6 & 1.2182 & 0.812135 & 0.0 & 0.0 & $\\dots$ \\\\\n",
       "\t7 & 0.467273 & 1.40182 & 0.0 & 0.0 & $\\dots$ \\\\\n",
       "\t8 & 2.38382 & 0.953529 & 0.0 & 0.0 & $\\dots$ \\\\\n",
       "\t9 & 0.759344 & 0.0 & 0.0 & 0.0 & $\\dots$ \\\\\n",
       "\t10 & 0.396881 & 1.19064 & 0.0 & 0.396881 & $\\dots$ \\\\\n",
       "\t11 & 0.514463 & 0.0 & 0.0 & 0.0 & $\\dots$ \\\\\n",
       "\t12 & 0.932173 & 0.932173 & 0.0 & 0.0 & $\\dots$ \\\\\n",
       "\t13 & 0.0 & 0.545648 & 0.0 & 0.0 & $\\dots$ \\\\\n",
       "\t14 & 0.588707 & 0.0 & 0.0 & 0.0 & $\\dots$ \\\\\n",
       "\t15 & 1.00449 & 0.0 & 0.0 & 0.502247 & $\\dots$ \\\\\n",
       "\t16 & 0.0 & 0.0 & 0.0 & 0.0 & $\\dots$ \\\\\n",
       "\t17 & 3.16535 & 1.05512 & 0.0 & 0.0 & $\\dots$ \\\\\n",
       "\t18 & 2.46334 & 0.0 & 0.0 & 0.492667 & $\\dots$ \\\\\n",
       "\t19 & 0.496714 & 0.0 & 0.0 & 0.0 & $\\dots$ \\\\\n",
       "\t20 & 0.0 & 0.0 & 0.0 & 0.0 & $\\dots$ \\\\\n",
       "\t21 & 0.535528 & 0.0 & 0.0 & 0.0 & $\\dots$ \\\\\n",
       "\t22 & 0.0 & 0.0 & 0.0 & 0.0 & $\\dots$ \\\\\n",
       "\t23 & 0.0 & 0.0 & 0.0 & 0.0 & $\\dots$ \\\\\n",
       "\t24 & 0.622879 & 0.0 & 0.0 & 0.0 & $\\dots$ \\\\\n",
       "\t25 & 2.48459 & 0.0 & 0.0 & 0.0 & $\\dots$ \\\\\n",
       "\t26 & 0.0 & 0.0 & 0.0 & 0.0 & $\\dots$ \\\\\n",
       "\t27 & 1.2671 & 0.0 & 0.0 & 0.0 & $\\dots$ \\\\\n",
       "\t28 & 0.0 & 0.0 & 0.0 & 0.0 & $\\dots$ \\\\\n",
       "\t29 & 1.25381 & 0.626906 & 0.0 & 0.0 & $\\dots$ \\\\\n",
       "\t30 & 0.0 & 0.0 & 0.0 & 0.0 & $\\dots$ \\\\\n",
       "\t$\\dots$ & $\\dots$ & $\\dots$ & $\\dots$ & $\\dots$ &  \\\\\n",
       "\\end{tabular}\n"
      ],
      "text/plain": [
       "16506×25802 DataFrame. Omitted printing of 25799 columns\n",
       "│ Row   │ x42Sp43_42SP43 │ x42Sp50_42SP50 │ x6330408a02rik_like_1_LOC100145494 │\n",
       "│       │ \u001b[90mFloat64\u001b[39m        │ \u001b[90mFloat64\u001b[39m        │ \u001b[90mFloat64\u001b[39m                            │\n",
       "├───────┼────────────────┼────────────────┼────────────────────────────────────┤\n",
       "│ 1     │ 0.995256       │ 0.248814       │ 0.0                                │\n",
       "│ 2     │ 0.302317       │ 0.0            │ 0.0                                │\n",
       "│ 3     │ 0.31748        │ 2.22236        │ 0.0                                │\n",
       "│ 4     │ 2.62714        │ 0.0            │ 0.0                                │\n",
       "│ 5     │ 1.07644        │ 0.358813       │ 0.0                                │\n",
       "│ 6     │ 1.2182         │ 0.812135       │ 0.0                                │\n",
       "│ 7     │ 0.467273       │ 1.40182        │ 0.0                                │\n",
       "│ 8     │ 2.38382        │ 0.953529       │ 0.0                                │\n",
       "│ 9     │ 0.759344       │ 0.0            │ 0.0                                │\n",
       "│ 10    │ 0.396881       │ 1.19064        │ 0.0                                │\n",
       "⋮\n",
       "│ 16496 │ 0.0            │ 0.0            │ 0.0                                │\n",
       "│ 16497 │ 0.0            │ 0.0            │ 0.0                                │\n",
       "│ 16498 │ 0.0            │ 0.0            │ 0.0                                │\n",
       "│ 16499 │ 0.0            │ 0.0            │ 0.0                                │\n",
       "│ 16500 │ 0.0            │ 0.0            │ 0.0                                │\n",
       "│ 16501 │ 0.0            │ 0.0            │ 0.0                                │\n",
       "│ 16502 │ 3.38381        │ 0.0            │ 0.0                                │\n",
       "│ 16503 │ 0.0            │ 0.0            │ 0.0                                │\n",
       "│ 16504 │ 0.0            │ 0.0            │ 0.0                                │\n",
       "│ 16505 │ 0.0            │ 0.0            │ 0.0                                │\n",
       "│ 16506 │ 0.0            │ 0.0            │ 0.0                                │"
      ]
     },
     "execution_count": 22,
     "metadata": {},
     "output_type": "execute_result"
    }
   ],
   "source": [
    "xen_df = CSV.read(\"../data/xenopus/xenopus_expression.csv\")"
   ]
  },
  {
   "cell_type": "markdown",
   "metadata": {},
   "source": [
    "Next, read in the associated annotations, adding the Celltype label to the xen_df"
   ]
  },
  {
   "cell_type": "code",
   "execution_count": 23,
   "metadata": {},
   "outputs": [],
   "source": [
    "xen_annotations = CSV.read(\"../data/xenopus/xenopus_annotations.csv\");\n",
    "xen_df[:Classification] = xen_annotations[:Cluster_Label];"
   ]
  },
  {
   "cell_type": "markdown",
   "metadata": {},
   "source": [
    "Read in the known hierarchy information linking the different cell classes. We can pull out the hierarchical relationships for the developmental stages that we are interested in e.g. here Stage08 - Stage14 (the full dataset extends to stage 22)"
   ]
  },
  {
   "cell_type": "code",
   "execution_count": 24,
   "metadata": {},
   "outputs": [
    {
     "data": {
      "text/html": [
       "<table class=\"data-frame\"><thead><tr><th></th><th>Cluster_id</th><th>Stage</th><th>Cluster_name</th><th>Parent</th><th>Node_class</th></tr><tr><th></th><th>Int64</th><th>Int64</th><th>String</th><th>Int64</th><th>String</th></tr></thead><tbody><p>46 rows × 5 columns</p><tr><th>1</th><td>1</td><td>8</td><td>S08-blastula</td><td>0</td><td>internal</td></tr><tr><th>2</th><td>2</td><td>10</td><td>S10-neuroectoderm</td><td>1</td><td>internal</td></tr><tr><th>3</th><td>3</td><td>10</td><td>S10-non-neural ectoderm</td><td>1</td><td>internal</td></tr><tr><th>4</th><td>4</td><td>10</td><td>S10-marginal zone</td><td>1</td><td>internal</td></tr><tr><th>5</th><td>5</td><td>10</td><td>S10-Spemann organizer (mesoderm)</td><td>1</td><td>internal</td></tr><tr><th>6</th><td>6</td><td>10</td><td>S10-Spemann organizer (endoderm)</td><td>1</td><td>internal</td></tr><tr><th>7</th><td>7</td><td>10</td><td>S10-endoderm</td><td>1</td><td>internal</td></tr><tr><th>8</th><td>8</td><td>12</td><td>S12-neural plate</td><td>2</td><td>internal</td></tr><tr><th>9</th><td>9</td><td>12</td><td>S12-non-neural ectoderm</td><td>3</td><td>internal</td></tr><tr><th>10</th><td>10</td><td>12</td><td>S12-ciliated epidermal progenitor</td><td>3</td><td>internal</td></tr><tr><th>11</th><td>11</td><td>12</td><td>S12-ionocyte</td><td>3</td><td>internal</td></tr><tr><th>12</th><td>12</td><td>12</td><td>S12-notochord</td><td>5</td><td>internal</td></tr><tr><th>13</th><td>13</td><td>12</td><td>S12-involuted dorsal mesoderm</td><td>4</td><td>internal</td></tr><tr><th>14</th><td>14</td><td>12</td><td>S12-tail bud</td><td>4</td><td>internal</td></tr><tr><th>15</th><td>15</td><td>12</td><td>S12-involuted ventral mesoderm</td><td>4</td><td>internal</td></tr><tr><th>16</th><td>16</td><td>12</td><td>S12-Spemann organizer (endoderm)</td><td>6</td><td>internal</td></tr><tr><th>17</th><td>17</td><td>12</td><td>S12-endoderm</td><td>7</td><td>internal</td></tr><tr><th>18</th><td>18</td><td>14</td><td>S14-goblet cell</td><td>9</td><td>internal</td></tr><tr><th>19</th><td>19</td><td>14</td><td>S14-neural crest</td><td>8</td><td>internal</td></tr><tr><th>20</th><td>20</td><td>14</td><td>S14-early neuron</td><td>8</td><td>internal</td></tr><tr><th>21</th><td>21</td><td>14</td><td>S14-chordal neural plate</td><td>8</td><td>internal</td></tr><tr><th>22</th><td>22</td><td>14</td><td>S14-notoplate</td><td>8</td><td>internal</td></tr><tr><th>23</th><td>23</td><td>14</td><td>S14-anterior placodal area</td><td>9</td><td>internal</td></tr><tr><th>24</th><td>24</td><td>14</td><td>S14-epidermal - ctbs</td><td>9</td><td>internal</td></tr><tr><th>25</th><td>25</td><td>14</td><td>S14-eye primordium</td><td>8</td><td>internal</td></tr><tr><th>26</th><td>26</td><td>14</td><td>S14-anterior neural plate - nkx2-1/nkx2-4</td><td>8</td><td>internal</td></tr><tr><th>27</th><td>27</td><td>14</td><td>S14-epidermal - collagen</td><td>9</td><td>internal</td></tr><tr><th>28</th><td>28</td><td>14</td><td>S14-hatching gland</td><td>9</td><td>internal</td></tr><tr><th>29</th><td>29</td><td>14</td><td>S14-tail bud</td><td>14</td><td>internal</td></tr><tr><th>30</th><td>30</td><td>14</td><td>S14-anterior neural plate - fezf1</td><td>8</td><td>internal</td></tr><tr><th>&vellip;</th><td>&vellip;</td><td>&vellip;</td><td>&vellip;</td><td>&vellip;</td><td>&vellip;</td></tr></tbody></table>"
      ],
      "text/latex": [
       "\\begin{tabular}{r|ccccc}\n",
       "\t& Cluster\\_id & Stage & Cluster\\_name & Parent & Node\\_class\\\\\n",
       "\t\\hline\n",
       "\t& Int64 & Int64 & String & Int64 & String\\\\\n",
       "\t\\hline\n",
       "\t1 & 1 & 8 & S08-blastula & 0 & internal \\\\\n",
       "\t2 & 2 & 10 & S10-neuroectoderm & 1 & internal \\\\\n",
       "\t3 & 3 & 10 & S10-non-neural ectoderm & 1 & internal \\\\\n",
       "\t4 & 4 & 10 & S10-marginal zone & 1 & internal \\\\\n",
       "\t5 & 5 & 10 & S10-Spemann organizer (mesoderm) & 1 & internal \\\\\n",
       "\t6 & 6 & 10 & S10-Spemann organizer (endoderm) & 1 & internal \\\\\n",
       "\t7 & 7 & 10 & S10-endoderm & 1 & internal \\\\\n",
       "\t8 & 8 & 12 & S12-neural plate & 2 & internal \\\\\n",
       "\t9 & 9 & 12 & S12-non-neural ectoderm & 3 & internal \\\\\n",
       "\t10 & 10 & 12 & S12-ciliated epidermal progenitor & 3 & internal \\\\\n",
       "\t11 & 11 & 12 & S12-ionocyte & 3 & internal \\\\\n",
       "\t12 & 12 & 12 & S12-notochord & 5 & internal \\\\\n",
       "\t13 & 13 & 12 & S12-involuted dorsal mesoderm & 4 & internal \\\\\n",
       "\t14 & 14 & 12 & S12-tail bud & 4 & internal \\\\\n",
       "\t15 & 15 & 12 & S12-involuted ventral mesoderm & 4 & internal \\\\\n",
       "\t16 & 16 & 12 & S12-Spemann organizer (endoderm) & 6 & internal \\\\\n",
       "\t17 & 17 & 12 & S12-endoderm & 7 & internal \\\\\n",
       "\t18 & 18 & 14 & S14-goblet cell & 9 & internal \\\\\n",
       "\t19 & 19 & 14 & S14-neural crest & 8 & internal \\\\\n",
       "\t20 & 20 & 14 & S14-early neuron & 8 & internal \\\\\n",
       "\t21 & 21 & 14 & S14-chordal neural plate & 8 & internal \\\\\n",
       "\t22 & 22 & 14 & S14-notoplate & 8 & internal \\\\\n",
       "\t23 & 23 & 14 & S14-anterior placodal area & 9 & internal \\\\\n",
       "\t24 & 24 & 14 & S14-epidermal - ctbs & 9 & internal \\\\\n",
       "\t25 & 25 & 14 & S14-eye primordium & 8 & internal \\\\\n",
       "\t26 & 26 & 14 & S14-anterior neural plate - nkx2-1/nkx2-4 & 8 & internal \\\\\n",
       "\t27 & 27 & 14 & S14-epidermal - collagen & 9 & internal \\\\\n",
       "\t28 & 28 & 14 & S14-hatching gland & 9 & internal \\\\\n",
       "\t29 & 29 & 14 & S14-tail bud & 14 & internal \\\\\n",
       "\t30 & 30 & 14 & S14-anterior neural plate - fezf1 & 8 & internal \\\\\n",
       "\t$\\dots$ & $\\dots$ & $\\dots$ & $\\dots$ & $\\dots$ & $\\dots$ \\\\\n",
       "\\end{tabular}\n"
      ],
      "text/plain": [
       "46×5 DataFrame. Omitted printing of 1 columns\n",
       "│ Row │ Cluster_id │ Stage │ Cluster_name                      │ Parent │\n",
       "│     │ \u001b[90mInt64\u001b[39m      │ \u001b[90mInt64\u001b[39m │ \u001b[90mString\u001b[39m                            │ \u001b[90mInt64\u001b[39m  │\n",
       "├─────┼────────────┼───────┼───────────────────────────────────┼────────┤\n",
       "│ 1   │ 1          │ 8     │ S08-blastula                      │ 0      │\n",
       "│ 2   │ 2          │ 10    │ S10-neuroectoderm                 │ 1      │\n",
       "│ 3   │ 3          │ 10    │ S10-non-neural ectoderm           │ 1      │\n",
       "│ 4   │ 4          │ 10    │ S10-marginal zone                 │ 1      │\n",
       "│ 5   │ 5          │ 10    │ S10-Spemann organizer (mesoderm)  │ 1      │\n",
       "│ 6   │ 6          │ 10    │ S10-Spemann organizer (endoderm)  │ 1      │\n",
       "│ 7   │ 7          │ 10    │ S10-endoderm                      │ 1      │\n",
       "│ 8   │ 8          │ 12    │ S12-neural plate                  │ 2      │\n",
       "│ 9   │ 9          │ 12    │ S12-non-neural ectoderm           │ 3      │\n",
       "│ 10  │ 10         │ 12    │ S12-ciliated epidermal progenitor │ 3      │\n",
       "⋮\n",
       "│ 36  │ 36         │ 14    │ S14-chordal neural plate border   │ 8      │\n",
       "│ 37  │ 37         │ 14    │ S14-ciliated epidermal progenitor │ 10     │\n",
       "│ 38  │ 38         │ 14    │ S14-lateral plate mesoderm        │ 15     │\n",
       "│ 39  │ 39         │ 14    │ S14-intermediate mesoderm         │ 13     │\n",
       "│ 40  │ 40         │ 14    │ S14-neuroendocrine cell           │ 9      │\n",
       "│ 41  │ 41         │ 14    │ S14-notochord                     │ 12     │\n",
       "│ 42  │ 42         │ 14    │ S14-somite                        │ 13     │\n",
       "│ 43  │ 43         │ 14    │ S14-migrating myeloid progenitors │ 15     │\n",
       "│ 44  │ 44         │ 14    │ S14-intermediate mesoderm -ssg1   │ 13     │\n",
       "│ 45  │ 45         │ 14    │ S14-Spemann organizer (endoderm)  │ 16     │\n",
       "│ 46  │ 46         │ 14    │ S14-endoderm                      │ 17     │"
      ]
     },
     "execution_count": 24,
     "metadata": {},
     "output_type": "execute_result"
    }
   ],
   "source": [
    "hierarchy = CSV.read(\"../data/xenopus/xenopus_known_lineage.csv\")\n",
    "hierarchy_early = hierarchy[hierarchy[:Stage].<= 14,:]"
   ]
  },
  {
   "cell_type": "markdown",
   "metadata": {},
   "source": [
    "Now we can generate the individual decision trees for each branching point in the known hierarchy and stitch them together using the <code>lineage_map</code> function. The resulting text output can be used for visualisation at http://sankeymatic.com/build/"
   ]
  },
  {
   "cell_type": "code",
   "execution_count": 25,
   "metadata": {},
   "outputs": [
    {
     "name": "stderr",
     "output_type": "stream",
     "text": [
      "┌ Warning: `convert(::Type{Array{T}}, df::AbstractDataFrame) where T` is deprecated, use `convert(Matrix{T}, df)` instead.\n",
      "│   caller = lineage_map(::DataFrame, ::DataFrame, ::DataFrame, ::String, ::Int64) at CellFateDecisionTrees.jl:252\n",
      "└ @ Main.CellFateDecisionTrees /Users/ivanv/Documents/julia_code/CellFateDecisionTrees/code/CellFateDecisionTrees.jl:252\n"
     ]
    }
   ],
   "source": [
    "output_filename = \"../supplementary/xenopus_sankey_output_text.txt\"\n",
    "individual_tree_depth_limit = 6\n",
    "\n",
    "individual_trees = CellFateDecisionTrees.lineage_map(xen_df, xen_annotations, hierarchy_early, output_filename, individual_tree_depth_limit);"
   ]
  },
  {
   "cell_type": "markdown",
   "metadata": {},
   "source": [
    "For legibility, here we show the assembled figure with integer encodings for the nodes. The corresponding node information (features, thresholds, cell class) are provided in the supplementary [node encodings file](../supplementary/xenopus_sankey_node_codes.txt). <img src=\"../figures/Figure4b.png\">"
   ]
  },
  {
   "cell_type": "markdown",
   "metadata": {},
   "source": [
    "Any of the resulting trees can be pulled out to e.g. explore, learn rules, classify new samples e.g."
   ]
  },
  {
   "cell_type": "code",
   "execution_count": 26,
   "metadata": {},
   "outputs": [
    {
     "data": {
      "text/plain": [
       "Decision Tree\n",
       "Leaves: 62\n",
       "Depth:  6"
      ]
     },
     "execution_count": 26,
     "metadata": {},
     "output_type": "execute_result"
    }
   ],
   "source": [
    "individual_trees[1]"
   ]
  },
  {
   "cell_type": "code",
   "execution_count": null,
   "metadata": {},
   "outputs": [],
   "source": []
  }
 ],
 "metadata": {
  "@webio": {
   "lastCommId": null,
   "lastKernelId": null
  },
  "kernelspec": {
   "display_name": "Julia 1.1.1",
   "language": "julia",
   "name": "julia-1.1"
  },
  "language_info": {
   "file_extension": ".jl",
   "mimetype": "application/julia",
   "name": "julia",
   "version": "1.1.1"
  }
 },
 "nbformat": 4,
 "nbformat_minor": 2
}
