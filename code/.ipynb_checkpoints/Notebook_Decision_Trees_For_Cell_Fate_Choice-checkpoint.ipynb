{
 "cells": [
  {
   "cell_type": "markdown",
   "metadata": {},
   "source": [
    "# Decision Tree Models for Cell Fate Choice"
   ]
  },
  {
   "cell_type": "markdown",
   "metadata": {},
   "source": [
    "Notebook provided in support of the \"Decision Trees for Cell Fate Choice\" manuscript written by Ivan A. Croydon Veleslavov and Professor Michael P.H. Stumpf. This notebook covers training decision tree models in Julia from single-cell data, assessing their predictive performance on witheld samples as well as providing several model visualisations and extensions.\n",
    "\n",
    "* [Learning decision tree models](#Learning-decision-tree-models)\n",
    "* [Exploring model structure](#Exploring-model-structure)\n",
    "* [Evaluating model performance](#Evaluating-model-performance)\n",
    "* [Designing minimal perturbations for sample reclassification](#Minimal-perturbations-for-sample-reclassification)\n",
    "* [Resolving embryogenesis in Xenopus tropicalis with scaffolded trees](#Resolving-embryogenesis-in-Xenopus-tropicalis)"
   ]
  },
  {
   "cell_type": "markdown",
   "metadata": {},
   "source": [
    "### Package requirements"
   ]
  },
  {
   "cell_type": "code",
   "execution_count": 1,
   "metadata": {},
   "outputs": [],
   "source": [
    "using DataFrames, DecisionTree, Distributions, Random, StatsPlots"
   ]
  },
  {
   "cell_type": "code",
   "execution_count": 51,
   "metadata": {},
   "outputs": [
    {
     "name": "stderr",
     "output_type": "stream",
     "text": [
      "WARNING: replacing module CellFateDecisionTrees.\n"
     ]
    },
    {
     "data": {
      "text/plain": [
       "Main.CellFateDecisionTrees"
      ]
     },
     "execution_count": 51,
     "metadata": {},
     "output_type": "execute_result"
    }
   ],
   "source": [
    "include(\"CellFateDecisionTrees.jl\")"
   ]
  },
  {
   "cell_type": "markdown",
   "metadata": {},
   "source": [
    "### Reading in the data"
   ]
  },
  {
   "cell_type": "code",
   "execution_count": 3,
   "metadata": {},
   "outputs": [
    {
     "name": "stderr",
     "output_type": "stream",
     "text": [
      "┌ Warning: readtable is deprecated, use CSV.read from the CSV package instead\n",
      "│   caller = top-level scope at In[3]:1\n",
      "└ @ Core In[3]:1\n",
      "┌ Warning: `convert(::Type{Array}, df::AbstractDataFrame)` is deprecated, use `convert(Matrix, df)` instead.\n",
      "│   caller = top-level scope at In[3]:3\n",
      "└ @ Core In[3]:3\n",
      "┌ Warning: readtable is deprecated, use CSV.read from the CSV package instead\n",
      "│   caller = top-level scope at In[3]:4\n",
      "└ @ Core In[3]:4\n"
     ]
    }
   ],
   "source": [
    "# Read in the murine gene expression and sample labels\n",
    "mur_df = readtable(\"../data/murine/murine_expression.csv\");\n",
    "mur_features = deepcopy(convert(Array, mur_df))\n",
    "\n",
    "# Read in the associated annotation data\n",
    "mur_labels = readtable(\"../data/murine/murine_annotations.csv\");\n",
    "\n",
    "# Add the class labels as a column \"Classifcation\" to the expression data\n",
    "mur_df[:Classification] = mur_labels[:Class];"
   ]
  },
  {
   "cell_type": "markdown",
   "metadata": {},
   "source": [
    "### Learning decision tree models\n",
    "\n",
    "First, we define a Boolean variable to split the data into training and test sets"
   ]
  },
  {
   "cell_type": "code",
   "execution_count": 4,
   "metadata": {},
   "outputs": [],
   "source": [
    "# Set seed first\n",
    "Random.seed!(1234)\n",
    "\n",
    "mur_train = rand(Bernoulli(0.75), nrow(mur_df)) .== 1;\n",
    "mur_test = map(!, mur_train);"
   ]
  },
  {
   "cell_type": "markdown",
   "metadata": {},
   "source": [
    "Then we can train a decision tree model on the samples contained in this training data to predict cell class labels (ESC, EPI, NPC) from the gene expression data"
   ]
  },
  {
   "cell_type": "code",
   "execution_count": 5,
   "metadata": {},
   "outputs": [],
   "source": [
    "mur_model = build_tree(mur_labels[mur_train,1], mur_features[mur_train,:]);"
   ]
  },
  {
   "cell_type": "markdown",
   "metadata": {},
   "source": [
    "### Exploring model structure"
   ]
  },
  {
   "cell_type": "markdown",
   "metadata": {},
   "source": [
    "A summary of the learnt model's constituent nodes can be generated using the <code>summarise_tree</code> function."
   ]
  },
  {
   "cell_type": "code",
   "execution_count": 6,
   "metadata": {},
   "outputs": [
    {
     "data": {
      "text/html": [
       "<table class=\"data-frame\"><thead><tr><th></th><th>Node_name</th><th>Depth</th><th>Node_type</th><th>Node_size</th><th>Parent_name</th><th>Direction</th><th>Entropy</th></tr><tr><th></th><th>String</th><th>Int64</th><th>String</th><th>Int64</th><th>String</th><th>String</th><th>Float64</th></tr></thead><tbody><p>45 rows × 8 columns (omitted printing of 1 columns)</p><tr><th>1</th><td>Fgf4,1.9</td><td>0</td><td>Internal</td><td>547</td><td>Root</td><td>na</td><td>0.499662</td></tr><tr><th>2</th><td>Pou5f1,7.65</td><td>1</td><td>Internal</td><td>267</td><td>Fgf4,1.9</td><td>L</td><td>0.207404</td></tr><tr><th>3</th><td>Klf4,10.94</td><td>1</td><td>Internal</td><td>280</td><td>Fgf4,1.9</td><td>R</td><td>0.371187</td></tr><tr><th>4</th><td>Esrrb,11.83</td><td>2</td><td>Internal</td><td>193</td><td>Pou5f1,7.65</td><td>L</td><td>0.0486981</td></tr><tr><th>5</th><td>Myst3,12.55</td><td>2</td><td>Internal</td><td>74</td><td>Pou5f1,7.65</td><td>R</td><td>0.333333</td></tr><tr><th>6</th><td>Zfp42,13.7</td><td>2</td><td>Internal</td><td>196</td><td>Klf4,10.94</td><td>L</td><td>0.220749</td></tr><tr><th>7</th><td>Fgf5,9.74</td><td>2</td><td>Internal</td><td>84</td><td>Klf4,10.94</td><td>R</td><td>0.0889217</td></tr><tr><th>8</th><td>Fbxo15,15.45</td><td>3</td><td>Internal</td><td>191</td><td>Esrrb,11.83</td><td>L</td><td>0.0201581</td></tr><tr><th>9</th><td>EPI</td><td>3</td><td>External</td><td>2</td><td>Esrrb,11.83</td><td>R</td><td>0.0</td></tr><tr><th>10</th><td>Dppa4,9.92</td><td>3</td><td>Internal</td><td>43</td><td>Myst3,12.55</td><td>L</td><td>0.26635</td></tr><tr><th>11</th><td>Gdf3,11.79</td><td>3</td><td>Internal</td><td>31</td><td>Myst3,12.55</td><td>R</td><td>0.18621</td></tr><tr><th>12</th><td>Dnmt3b,16.15</td><td>3</td><td>Internal</td><td>152</td><td>Zfp42,13.7</td><td>L</td><td>0.108922</td></tr><tr><th>13</th><td>Gli2,3.05</td><td>3</td><td>Internal</td><td>44</td><td>Zfp42,13.7</td><td>R</td><td>0.309176</td></tr><tr><th>14</th><td>ESC</td><td>3</td><td>External</td><td>78</td><td>Fgf5,9.74</td><td>L</td><td>0.0</td></tr><tr><th>15</th><td>Trp53,13.69</td><td>3</td><td>Internal</td><td>6</td><td>Fgf5,9.74</td><td>R</td><td>0.32365</td></tr><tr><th>16</th><td>NPC</td><td>4</td><td>External</td><td>188</td><td>Fbxo15,15.45</td><td>L</td><td>0.0</td></tr><tr><th>17</th><td>EPI</td><td>4</td><td>External</td><td>3</td><td>Fbxo15,15.45</td><td>R</td><td>0.0</td></tr><tr><th>18</th><td>Bmp7,3.64</td><td>4</td><td>Internal</td><td>22</td><td>Dppa4,9.92</td><td>L</td><td>0.327314</td></tr><tr><th>19</th><td>EPI</td><td>4</td><td>External</td><td>21</td><td>Dppa4,9.92</td><td>R</td><td>0.0</td></tr><tr><th>20</th><td>NPC</td><td>4</td><td>External</td><td>26</td><td>Gdf3,11.79</td><td>L</td><td>0.0</td></tr><tr><th>21</th><td>Smarcc1,14.31</td><td>4</td><td>Internal</td><td>5</td><td>Gdf3,11.79</td><td>R</td><td>0.270426</td></tr><tr><th>22</th><td>Rai1,11.18</td><td>4</td><td>Internal</td><td>30</td><td>Dnmt3b,16.15</td><td>L</td><td>0.306099</td></tr><tr><th>23</th><td>EPI</td><td>4</td><td>External</td><td>122</td><td>Dnmt3b,16.15</td><td>R</td><td>0.0</td></tr><tr><th>24</th><td>Kdm1a,16.53</td><td>4</td><td>Internal</td><td>30</td><td>Gli2,3.05</td><td>L</td><td>0.0860062</td></tr><tr><th>25</th><td>Mef2a,10.93</td><td>4</td><td>Internal</td><td>14</td><td>Gli2,3.05</td><td>R</td><td>0.137939</td></tr><tr><th>26</th><td>ESC</td><td>4</td><td>External</td><td>3</td><td>Trp53,13.69</td><td>L</td><td>0.0</td></tr><tr><th>27</th><td>EPI</td><td>4</td><td>External</td><td>3</td><td>Trp53,13.69</td><td>R</td><td>0.0</td></tr><tr><th>28</th><td>Cdk2,14.57</td><td>5</td><td>Internal</td><td>11</td><td>Bmp7,3.64</td><td>L</td><td>0.156332</td></tr><tr><th>29</th><td>Zfp42,10.8</td><td>5</td><td>Internal</td><td>11</td><td>Bmp7,3.64</td><td>R</td><td>0.254735</td></tr><tr><th>30</th><td>NPC</td><td>5</td><td>External</td><td>2</td><td>Smarcc1,14.31</td><td>L</td><td>0.0</td></tr><tr><th>&vellip;</th><td>&vellip;</td><td>&vellip;</td><td>&vellip;</td><td>&vellip;</td><td>&vellip;</td><td>&vellip;</td><td>&vellip;</td></tr></tbody></table>"
      ],
      "text/latex": [
       "\\begin{tabular}{r|cccccccc}\n",
       "\t& Node\\_name & Depth & Node\\_type & Node\\_size & Parent\\_name & Direction & Entropy & \\\\\n",
       "\t\\hline\n",
       "\t& String & Int64 & String & Int64 & String & String & Float64 & \\\\\n",
       "\t\\hline\n",
       "\t1 & Fgf4,1.9 & 0 & Internal & 547 & Root & na & 0.499662 & $\\dots$ \\\\\n",
       "\t2 & Pou5f1,7.65 & 1 & Internal & 267 & Fgf4,1.9 & L & 0.207404 & $\\dots$ \\\\\n",
       "\t3 & Klf4,10.94 & 1 & Internal & 280 & Fgf4,1.9 & R & 0.371187 & $\\dots$ \\\\\n",
       "\t4 & Esrrb,11.83 & 2 & Internal & 193 & Pou5f1,7.65 & L & 0.0486981 & $\\dots$ \\\\\n",
       "\t5 & Myst3,12.55 & 2 & Internal & 74 & Pou5f1,7.65 & R & 0.333333 & $\\dots$ \\\\\n",
       "\t6 & Zfp42,13.7 & 2 & Internal & 196 & Klf4,10.94 & L & 0.220749 & $\\dots$ \\\\\n",
       "\t7 & Fgf5,9.74 & 2 & Internal & 84 & Klf4,10.94 & R & 0.0889217 & $\\dots$ \\\\\n",
       "\t8 & Fbxo15,15.45 & 3 & Internal & 191 & Esrrb,11.83 & L & 0.0201581 & $\\dots$ \\\\\n",
       "\t9 & EPI & 3 & External & 2 & Esrrb,11.83 & R & 0.0 & $\\dots$ \\\\\n",
       "\t10 & Dppa4,9.92 & 3 & Internal & 43 & Myst3,12.55 & L & 0.26635 & $\\dots$ \\\\\n",
       "\t11 & Gdf3,11.79 & 3 & Internal & 31 & Myst3,12.55 & R & 0.18621 & $\\dots$ \\\\\n",
       "\t12 & Dnmt3b,16.15 & 3 & Internal & 152 & Zfp42,13.7 & L & 0.108922 & $\\dots$ \\\\\n",
       "\t13 & Gli2,3.05 & 3 & Internal & 44 & Zfp42,13.7 & R & 0.309176 & $\\dots$ \\\\\n",
       "\t14 & ESC & 3 & External & 78 & Fgf5,9.74 & L & 0.0 & $\\dots$ \\\\\n",
       "\t15 & Trp53,13.69 & 3 & Internal & 6 & Fgf5,9.74 & R & 0.32365 & $\\dots$ \\\\\n",
       "\t16 & NPC & 4 & External & 188 & Fbxo15,15.45 & L & 0.0 & $\\dots$ \\\\\n",
       "\t17 & EPI & 4 & External & 3 & Fbxo15,15.45 & R & 0.0 & $\\dots$ \\\\\n",
       "\t18 & Bmp7,3.64 & 4 & Internal & 22 & Dppa4,9.92 & L & 0.327314 & $\\dots$ \\\\\n",
       "\t19 & EPI & 4 & External & 21 & Dppa4,9.92 & R & 0.0 & $\\dots$ \\\\\n",
       "\t20 & NPC & 4 & External & 26 & Gdf3,11.79 & L & 0.0 & $\\dots$ \\\\\n",
       "\t21 & Smarcc1,14.31 & 4 & Internal & 5 & Gdf3,11.79 & R & 0.270426 & $\\dots$ \\\\\n",
       "\t22 & Rai1,11.18 & 4 & Internal & 30 & Dnmt3b,16.15 & L & 0.306099 & $\\dots$ \\\\\n",
       "\t23 & EPI & 4 & External & 122 & Dnmt3b,16.15 & R & 0.0 & $\\dots$ \\\\\n",
       "\t24 & Kdm1a,16.53 & 4 & Internal & 30 & Gli2,3.05 & L & 0.0860062 & $\\dots$ \\\\\n",
       "\t25 & Mef2a,10.93 & 4 & Internal & 14 & Gli2,3.05 & R & 0.137939 & $\\dots$ \\\\\n",
       "\t26 & ESC & 4 & External & 3 & Trp53,13.69 & L & 0.0 & $\\dots$ \\\\\n",
       "\t27 & EPI & 4 & External & 3 & Trp53,13.69 & R & 0.0 & $\\dots$ \\\\\n",
       "\t28 & Cdk2,14.57 & 5 & Internal & 11 & Bmp7,3.64 & L & 0.156332 & $\\dots$ \\\\\n",
       "\t29 & Zfp42,10.8 & 5 & Internal & 11 & Bmp7,3.64 & R & 0.254735 & $\\dots$ \\\\\n",
       "\t30 & NPC & 5 & External & 2 & Smarcc1,14.31 & L & 0.0 & $\\dots$ \\\\\n",
       "\t$\\dots$ & $\\dots$ & $\\dots$ & $\\dots$ & $\\dots$ & $\\dots$ & $\\dots$ & $\\dots$ &  \\\\\n",
       "\\end{tabular}\n"
      ],
      "text/plain": [
       "45×8 DataFrame. Omitted printing of 2 columns\n",
       "│ Row │ Node_name    │ Depth │ Node_type │ Node_size │ Parent_name │ Direction │\n",
       "│     │ \u001b[90mString\u001b[39m       │ \u001b[90mInt64\u001b[39m │ \u001b[90mString\u001b[39m    │ \u001b[90mInt64\u001b[39m     │ \u001b[90mString\u001b[39m      │ \u001b[90mString\u001b[39m    │\n",
       "├─────┼──────────────┼───────┼───────────┼───────────┼─────────────┼───────────┤\n",
       "│ 1   │ Fgf4,1.9     │ 0     │ Internal  │ 547       │ Root        │ na        │\n",
       "│ 2   │ Pou5f1,7.65  │ 1     │ Internal  │ 267       │ Fgf4,1.9    │ L         │\n",
       "│ 3   │ Klf4,10.94   │ 1     │ Internal  │ 280       │ Fgf4,1.9    │ R         │\n",
       "│ 4   │ Esrrb,11.83  │ 2     │ Internal  │ 193       │ Pou5f1,7.65 │ L         │\n",
       "│ 5   │ Myst3,12.55  │ 2     │ Internal  │ 74        │ Pou5f1,7.65 │ R         │\n",
       "│ 6   │ Zfp42,13.7   │ 2     │ Internal  │ 196       │ Klf4,10.94  │ L         │\n",
       "│ 7   │ Fgf5,9.74    │ 2     │ Internal  │ 84        │ Klf4,10.94  │ R         │\n",
       "│ 8   │ Fbxo15,15.45 │ 3     │ Internal  │ 191       │ Esrrb,11.83 │ L         │\n",
       "│ 9   │ EPI          │ 3     │ External  │ 2         │ Esrrb,11.83 │ R         │\n",
       "│ 10  │ Dppa4,9.92   │ 3     │ Internal  │ 43        │ Myst3,12.55 │ L         │\n",
       "⋮\n",
       "│ 35  │ ESC          │ 5     │ External  │ 1         │ Kdm1a,16.53 │ R         │\n",
       "│ 36  │ ESC          │ 5     │ External  │ 13        │ Mef2a,10.93 │ L         │\n",
       "│ 37  │ EPI          │ 5     │ External  │ 1         │ Mef2a,10.93 │ R         │\n",
       "│ 38  │ EPI          │ 6     │ External  │ 10        │ Cdk2,14.57  │ L         │\n",
       "│ 39  │ NPC          │ 6     │ External  │ 1         │ Cdk2,14.57  │ R         │\n",
       "│ 40  │ NPC          │ 6     │ External  │ 8         │ Zfp42,10.8  │ L         │\n",
       "│ 41  │ Fgf5,4.78    │ 6     │ Internal  │ 3         │ Zfp42,10.8  │ R         │\n",
       "│ 42  │ NPC          │ 6     │ External  │ 10        │ Gdf3,12.56  │ L         │\n",
       "│ 43  │ EPI          │ 6     │ External  │ 3         │ Gdf3,12.56  │ R         │\n",
       "│ 44  │ NPC          │ 7     │ External  │ 1         │ Fgf5,4.78   │ L         │\n",
       "│ 45  │ EPI          │ 7     │ External  │ 2         │ Fgf5,4.78   │ R         │"
      ]
     },
     "execution_count": 6,
     "metadata": {},
     "output_type": "execute_result"
    }
   ],
   "source": [
    "mur_model_summary = CellFateDecisionTrees.summarise_tree(mur_model, mur_df)"
   ]
  },
  {
   "cell_type": "markdown",
   "metadata": {},
   "source": [
    "We can count the number of internal and external nodes using this model summary"
   ]
  },
  {
   "cell_type": "code",
   "execution_count": 7,
   "metadata": {},
   "outputs": [
    {
     "data": {
      "text/plain": [
       "22"
      ]
     },
     "execution_count": 7,
     "metadata": {},
     "output_type": "execute_result"
    }
   ],
   "source": [
    "sum(mur_model_summary[:Node_type].==\"Internal\")"
   ]
  },
  {
   "cell_type": "markdown",
   "metadata": {},
   "source": [
    "Alternatively, we can get a better idea of the model structure using <code>print_tree</code>, here to an optional depth of 4 nodes"
   ]
  },
  {
   "cell_type": "code",
   "execution_count": 8,
   "metadata": {},
   "outputs": [
    {
     "name": "stdout",
     "output_type": "stream",
     "text": [
      "Feature 22, Threshold 1.90351590275\n",
      "L-> Feature 67, Threshold 7.652433501500001\n",
      "    L-> Feature 19, Threshold 11.833967458250001\n",
      "        L-> Feature 21, Threshold 15.451647809\n",
      "            L-> NPC : 141/141\n",
      "            R-> EPI : 1/1\n",
      "        R-> EPI : 2/2\n",
      "    R-> Feature 55, Threshold 12.5458981325\n",
      "        L-> Feature 17, Threshold 9.918942661500001\n",
      "            L-> \n",
      "            R-> EPI : 14/14\n",
      "        R-> Feature 31, Threshold 11.786733910999999\n",
      "            L-> NPC : 19/19\n",
      "            R-> \n",
      "R-> Feature 45, Threshold 10.9381773055\n",
      "    L-> Feature 96, Threshold 13.697564680500001\n",
      "        L-> Feature 15, Threshold 16.1461143175\n",
      "            L-> \n",
      "            R-> EPI : 96/96\n",
      "        R-> Feature 32, Threshold 3.051485820500001\n",
      "            L-> \n",
      "            R-> \n",
      "    R-> Feature 23, Threshold 9.742399220500001\n",
      "        L-> ESC : 61/61\n",
      "        R-> Feature 88, Threshold 13.69297821025\n",
      "            L-> ESC : 2/2\n",
      "            R-> EPI : 3/3\n"
     ]
    }
   ],
   "source": [
    "print_tree(mur_model, 4)"
   ]
  },
  {
   "cell_type": "markdown",
   "metadata": {},
   "source": [
    "We also provide a function <code>sankey_text</code> which generates output text describing a Decision Tree model, writing it to \n",
    "destination text file. This saved output can be used to generate a sankey diagram visualisation of the model at http://sankeymatic.com/build/"
   ]
  },
  {
   "cell_type": "code",
   "execution_count": 9,
   "metadata": {},
   "outputs": [],
   "source": [
    "CellFateDecisionTrees.sankey_text(\"../supplementary/murine_sankey_output.txt\", mur_model, mur_df);"
   ]
  },
  {
   "cell_type": "markdown",
   "metadata": {},
   "source": [
    "<img src=\"../figures/murine_sankey.png\">"
   ]
  },
  {
   "cell_type": "markdown",
   "metadata": {},
   "source": [
    "The Boolean ruleset learnt by the decision tree model to classify the samples can be expressed verbosely too, and we provide this functionality through the <code>get_rules</code> function"
   ]
  },
  {
   "cell_type": "code",
   "execution_count": 10,
   "metadata": {},
   "outputs": [
    {
     "data": {
      "text/plain": [
       "\"If Fgf4 is less than or equal to 1.9 AND if Pou5f1 is less than or equal to 7.65 AND if Esrrb is less than or equal to 11.83 AND if Fbxo15 is less than or equal to 15.45 then sample belongs to class NPC\""
      ]
     },
     "execution_count": 10,
     "metadata": {},
     "output_type": "execute_result"
    }
   ],
   "source": [
    "rules = CellFateDecisionTrees.get_rules(mur_model, mur_df)\n",
    "rules[1]"
   ]
  },
  {
   "cell_type": "markdown",
   "metadata": {},
   "source": [
    "### Evaluating model performance\n",
    "The trained decision tree model can be used to generate predictions for previously unseen data"
   ]
  },
  {
   "cell_type": "code",
   "execution_count": 11,
   "metadata": {},
   "outputs": [],
   "source": [
    "mur_predictions = apply_tree(mur_model, mur_features[mur_test, :]);"
   ]
  },
  {
   "cell_type": "markdown",
   "metadata": {},
   "source": [
    "We can compare these predictions against the true labels that were witheld during model training using a confusion matrix. The accuracy of these predictions can be calculated simply as the proportion of labels attributed by the model that match the true hidden labels. Note that class labels for the confusion matrices shown here ordered alphabetically by default (EPI, ESC, NPC)"
   ]
  },
  {
   "cell_type": "code",
   "execution_count": 12,
   "metadata": {},
   "outputs": [
    {
     "data": {
      "text/plain": [
       "3×3 Array{Int64,2}:\n",
       " 40   1   8\n",
       "  2  18   0\n",
       "  5   0  55"
      ]
     },
     "execution_count": 12,
     "metadata": {},
     "output_type": "execute_result"
    }
   ],
   "source": [
    "mur_confusion_matrix = confusion_matrix(mur_predictions, mur_labels[mur_test,1])\n",
    "mur_confusion_matrix.matrix"
   ]
  },
  {
   "cell_type": "code",
   "execution_count": 13,
   "metadata": {},
   "outputs": [
    {
     "data": {
      "text/plain": [
       "0.875968992248062"
      ]
     },
     "execution_count": 13,
     "metadata": {},
     "output_type": "execute_result"
    }
   ],
   "source": [
    "mur_confusion_matrix.accuracy"
   ]
  },
  {
   "cell_type": "markdown",
   "metadata": {},
   "source": [
    "We also perform cross-validation to consider how models perform over varied training/test splits"
   ]
  },
  {
   "cell_type": "code",
   "execution_count": 14,
   "metadata": {},
   "outputs": [
    {
     "name": "stdout",
     "output_type": "stream",
     "text": [
      "\n",
      "Fold 1\n",
      "Classes:  "
     ]
    },
    {
     "data": {
      "text/plain": [
       "3×3 Array{Int64,2}:\n",
       " 34   0   0\n",
       "  0  21   0\n",
       "  0   0  54"
      ]
     },
     "metadata": {},
     "output_type": "display_data"
    },
    {
     "name": "stdout",
     "output_type": "stream",
     "text": [
      "Union{Missing, String}[\"EPI\", \"ESC\", \"NPC\"]\n",
      "Matrix:   \n",
      "Accuracy: "
     ]
    },
    {
     "data": {
      "text/plain": [
       "3×3 Array{Int64,2}:\n",
       " 45   0   0\n",
       "  0  16   0\n",
       "  0   0  48"
      ]
     },
     "metadata": {},
     "output_type": "display_data"
    },
    {
     "name": "stdout",
     "output_type": "stream",
     "text": [
      "1.0\n",
      "Kappa:    1.0\n",
      "\n",
      "Fold 2\n",
      "Classes:  Union{Missing, String}[\"EPI\", \"ESC\", \"NPC\"]\n",
      "Matrix:   \n",
      "Accuracy: 1.0\n",
      "Kappa:    1.0\n"
     ]
    },
    {
     "data": {
      "text/plain": [
       "3×3 Array{Int64,2}:\n",
       " 47   0   0\n",
       "  0  16   0\n",
       "  1   0  45"
      ]
     },
     "metadata": {},
     "output_type": "display_data"
    },
    {
     "data": {
      "text/plain": [
       "3×3 Array{Int64,2}:\n",
       " 44   0   2\n",
       "  0  19   0\n",
       "  1   0  43"
      ]
     },
     "metadata": {},
     "output_type": "display_data"
    },
    {
     "name": "stdout",
     "output_type": "stream",
     "text": [
      "\n",
      "Fold 3\n",
      "Classes:  Union{Missing, String}[\"EPI\", \"ESC\", \"NPC\"]\n",
      "Matrix:   \n",
      "Accuracy: 0.9908256880733946\n",
      "Kappa:    0.9850664474585561\n",
      "\n",
      "Fold 4\n",
      "Classes:  Union{Missing, String}[\"EPI\", \"ESC\", \"NPC\"]\n",
      "Matrix:   \n",
      "Accuracy: 0.9724770642201835\n",
      "Kappa:    0.9562248995983935\n"
     ]
    },
    {
     "data": {
      "text/plain": [
       "3×3 Array{Int64,2}:\n",
       " 40   0   1\n",
       "  0  22   0\n",
       "  1   0  45"
      ]
     },
     "metadata": {},
     "output_type": "display_data"
    },
    {
     "name": "stdout",
     "output_type": "stream",
     "text": [
      "\n",
      "Fold 5\n",
      "Classes:  Union{Missing, String}[\"EPI\", \"ESC\", \"NPC\"]\n",
      "Matrix:   \n",
      "Accuracy: 0.981651376146789\n",
      "Kappa:    0.9713157894736842\n",
      "\n",
      "Mean Accuracy: 0.9889908256880734\n"
     ]
    },
    {
     "data": {
      "text/plain": [
       "5-element Array{Float64,1}:\n",
       " 1.0               \n",
       " 1.0               \n",
       " 0.9908256880733946\n",
       " 0.9724770642201835\n",
       " 0.981651376146789 "
      ]
     },
     "execution_count": 14,
     "metadata": {},
     "output_type": "execute_result"
    }
   ],
   "source": [
    "num_folds = 5\n",
    "prune_purity = 1.0\n",
    "max_depth = 5\n",
    "\n",
    "cm_accuracies, cm_5fold = nfoldCV_tree(mur_labels[:,1], mur_features,\n",
    " num_folds, prune_purity, max_depth)"
   ]
  },
  {
   "cell_type": "markdown",
   "metadata": {},
   "source": [
    "In combination with the ideas explored by n-fold cross-validation, we can directly explore how changes to hyperparemeters affect model training and performance. Here we show the range of model performance at varying tree depths for many random training-test partitions."
   ]
  },
  {
   "cell_type": "code",
   "execution_count": 15,
   "metadata": {},
   "outputs": [
    {
     "data": {
      "image/svg+xml": [
       "<?xml version=\"1.0\" encoding=\"utf-8\"?>\n",
       "<svg xmlns=\"http://www.w3.org/2000/svg\" xmlns:xlink=\"http://www.w3.org/1999/xlink\" width=\"600\" height=\"400\" viewBox=\"0 0 2400 1600\">\n",
       "<defs>\n",
       "  <clipPath id=\"clip6900\">\n",
       "    <rect x=\"0\" y=\"0\" width=\"2400\" height=\"1600\"/>\n",
       "  </clipPath>\n",
       "</defs>\n",
       "<path clip-path=\"url(#clip6900)\" d=\"\n",
       "M0 1600 L2400 1600 L2400 0 L0 0  Z\n",
       "  \" fill=\"#ffffff\" fill-rule=\"evenodd\" fill-opacity=\"1\"/>\n",
       "<defs>\n",
       "  <clipPath id=\"clip6901\">\n",
       "    <rect x=\"480\" y=\"0\" width=\"1681\" height=\"1600\"/>\n",
       "  </clipPath>\n",
       "</defs>\n",
       "<path clip-path=\"url(#clip6900)\" d=\"\n",
       "M215.754 1425.62 L2352.76 1425.62 L2352.76 47.2441 L215.754 47.2441  Z\n",
       "  \" fill=\"#ffffff\" fill-rule=\"evenodd\" fill-opacity=\"1\"/>\n",
       "<defs>\n",
       "  <clipPath id=\"clip6902\">\n",
       "    <rect x=\"215\" y=\"47\" width=\"2138\" height=\"1379\"/>\n",
       "  </clipPath>\n",
       "</defs>\n",
       "<polyline clip-path=\"url(#clip6902)\" style=\"stroke:#000000; stroke-width:2; stroke-opacity:0.1; fill:none\" points=\"\n",
       "  358.523,1425.62 358.523,47.2441 \n",
       "  \"/>\n",
       "<polyline clip-path=\"url(#clip6902)\" style=\"stroke:#000000; stroke-width:2; stroke-opacity:0.1; fill:none\" points=\"\n",
       "  564.241,1425.62 564.241,47.2441 \n",
       "  \"/>\n",
       "<polyline clip-path=\"url(#clip6902)\" style=\"stroke:#000000; stroke-width:2; stroke-opacity:0.1; fill:none\" points=\"\n",
       "  769.959,1425.62 769.959,47.2441 \n",
       "  \"/>\n",
       "<polyline clip-path=\"url(#clip6902)\" style=\"stroke:#000000; stroke-width:2; stroke-opacity:0.1; fill:none\" points=\"\n",
       "  975.678,1425.62 975.678,47.2441 \n",
       "  \"/>\n",
       "<polyline clip-path=\"url(#clip6902)\" style=\"stroke:#000000; stroke-width:2; stroke-opacity:0.1; fill:none\" points=\"\n",
       "  1181.4,1425.62 1181.4,47.2441 \n",
       "  \"/>\n",
       "<polyline clip-path=\"url(#clip6902)\" style=\"stroke:#000000; stroke-width:2; stroke-opacity:0.1; fill:none\" points=\"\n",
       "  1387.11,1425.62 1387.11,47.2441 \n",
       "  \"/>\n",
       "<polyline clip-path=\"url(#clip6902)\" style=\"stroke:#000000; stroke-width:2; stroke-opacity:0.1; fill:none\" points=\"\n",
       "  1592.83,1425.62 1592.83,47.2441 \n",
       "  \"/>\n",
       "<polyline clip-path=\"url(#clip6902)\" style=\"stroke:#000000; stroke-width:2; stroke-opacity:0.1; fill:none\" points=\"\n",
       "  1798.55,1425.62 1798.55,47.2441 \n",
       "  \"/>\n",
       "<polyline clip-path=\"url(#clip6902)\" style=\"stroke:#000000; stroke-width:2; stroke-opacity:0.1; fill:none\" points=\"\n",
       "  2004.27,1425.62 2004.27,47.2441 \n",
       "  \"/>\n",
       "<polyline clip-path=\"url(#clip6902)\" style=\"stroke:#000000; stroke-width:2; stroke-opacity:0.1; fill:none\" points=\"\n",
       "  2209.99,1425.62 2209.99,47.2441 \n",
       "  \"/>\n",
       "<polyline clip-path=\"url(#clip6902)\" style=\"stroke:#000000; stroke-width:2; stroke-opacity:0.1; fill:none\" points=\"\n",
       "  215.754,1425.62 2352.76,1425.62 \n",
       "  \"/>\n",
       "<polyline clip-path=\"url(#clip6902)\" style=\"stroke:#000000; stroke-width:2; stroke-opacity:0.1; fill:none\" points=\"\n",
       "  215.754,1149.94 2352.76,1149.94 \n",
       "  \"/>\n",
       "<polyline clip-path=\"url(#clip6902)\" style=\"stroke:#000000; stroke-width:2; stroke-opacity:0.1; fill:none\" points=\"\n",
       "  215.754,874.269 2352.76,874.269 \n",
       "  \"/>\n",
       "<polyline clip-path=\"url(#clip6902)\" style=\"stroke:#000000; stroke-width:2; stroke-opacity:0.1; fill:none\" points=\"\n",
       "  215.754,598.594 2352.76,598.594 \n",
       "  \"/>\n",
       "<polyline clip-path=\"url(#clip6902)\" style=\"stroke:#000000; stroke-width:2; stroke-opacity:0.1; fill:none\" points=\"\n",
       "  215.754,322.919 2352.76,322.919 \n",
       "  \"/>\n",
       "<polyline clip-path=\"url(#clip6902)\" style=\"stroke:#000000; stroke-width:2; stroke-opacity:0.1; fill:none\" points=\"\n",
       "  215.754,47.2441 2352.76,47.2441 \n",
       "  \"/>\n",
       "<polyline clip-path=\"url(#clip6900)\" style=\"stroke:#000000; stroke-width:4; stroke-opacity:1; fill:none\" points=\"\n",
       "  215.754,1425.62 2352.76,1425.62 \n",
       "  \"/>\n",
       "<polyline clip-path=\"url(#clip6900)\" style=\"stroke:#000000; stroke-width:4; stroke-opacity:1; fill:none\" points=\"\n",
       "  215.754,1425.62 215.754,47.2441 \n",
       "  \"/>\n",
       "<polyline clip-path=\"url(#clip6900)\" style=\"stroke:#000000; stroke-width:4; stroke-opacity:1; fill:none\" points=\"\n",
       "  358.523,1425.62 358.523,1404.94 \n",
       "  \"/>\n",
       "<polyline clip-path=\"url(#clip6900)\" style=\"stroke:#000000; stroke-width:4; stroke-opacity:1; fill:none\" points=\"\n",
       "  564.241,1425.62 564.241,1404.94 \n",
       "  \"/>\n",
       "<polyline clip-path=\"url(#clip6900)\" style=\"stroke:#000000; stroke-width:4; stroke-opacity:1; fill:none\" points=\"\n",
       "  769.959,1425.62 769.959,1404.94 \n",
       "  \"/>\n",
       "<polyline clip-path=\"url(#clip6900)\" style=\"stroke:#000000; stroke-width:4; stroke-opacity:1; fill:none\" points=\"\n",
       "  975.678,1425.62 975.678,1404.94 \n",
       "  \"/>\n",
       "<polyline clip-path=\"url(#clip6900)\" style=\"stroke:#000000; stroke-width:4; stroke-opacity:1; fill:none\" points=\"\n",
       "  1181.4,1425.62 1181.4,1404.94 \n",
       "  \"/>\n",
       "<polyline clip-path=\"url(#clip6900)\" style=\"stroke:#000000; stroke-width:4; stroke-opacity:1; fill:none\" points=\"\n",
       "  1387.11,1425.62 1387.11,1404.94 \n",
       "  \"/>\n",
       "<polyline clip-path=\"url(#clip6900)\" style=\"stroke:#000000; stroke-width:4; stroke-opacity:1; fill:none\" points=\"\n",
       "  1592.83,1425.62 1592.83,1404.94 \n",
       "  \"/>\n",
       "<polyline clip-path=\"url(#clip6900)\" style=\"stroke:#000000; stroke-width:4; stroke-opacity:1; fill:none\" points=\"\n",
       "  1798.55,1425.62 1798.55,1404.94 \n",
       "  \"/>\n",
       "<polyline clip-path=\"url(#clip6900)\" style=\"stroke:#000000; stroke-width:4; stroke-opacity:1; fill:none\" points=\"\n",
       "  2004.27,1425.62 2004.27,1404.94 \n",
       "  \"/>\n",
       "<polyline clip-path=\"url(#clip6900)\" style=\"stroke:#000000; stroke-width:4; stroke-opacity:1; fill:none\" points=\"\n",
       "  2209.99,1425.62 2209.99,1404.94 \n",
       "  \"/>\n",
       "<polyline clip-path=\"url(#clip6900)\" style=\"stroke:#000000; stroke-width:4; stroke-opacity:1; fill:none\" points=\"\n",
       "  215.754,1425.62 247.809,1425.62 \n",
       "  \"/>\n",
       "<polyline clip-path=\"url(#clip6900)\" style=\"stroke:#000000; stroke-width:4; stroke-opacity:1; fill:none\" points=\"\n",
       "  215.754,1149.94 247.809,1149.94 \n",
       "  \"/>\n",
       "<polyline clip-path=\"url(#clip6900)\" style=\"stroke:#000000; stroke-width:4; stroke-opacity:1; fill:none\" points=\"\n",
       "  215.754,874.269 247.809,874.269 \n",
       "  \"/>\n",
       "<polyline clip-path=\"url(#clip6900)\" style=\"stroke:#000000; stroke-width:4; stroke-opacity:1; fill:none\" points=\"\n",
       "  215.754,598.594 247.809,598.594 \n",
       "  \"/>\n",
       "<polyline clip-path=\"url(#clip6900)\" style=\"stroke:#000000; stroke-width:4; stroke-opacity:1; fill:none\" points=\"\n",
       "  215.754,322.919 247.809,322.919 \n",
       "  \"/>\n",
       "<polyline clip-path=\"url(#clip6900)\" style=\"stroke:#000000; stroke-width:4; stroke-opacity:1; fill:none\" points=\"\n",
       "  215.754,47.2441 247.809,47.2441 \n",
       "  \"/>\n",
       "<g clip-path=\"url(#clip6900)\">\n",
       "<text style=\"fill:#000000; fill-opacity:1; font-family:Arial,Helvetica Neue,Helvetica,sans-serif; font-size:48px; text-anchor:middle;\" transform=\"rotate(0, 358.523, 1479.62)\" x=\"358.523\" y=\"1479.62\">1</text>\n",
       "</g>\n",
       "<g clip-path=\"url(#clip6900)\">\n",
       "<text style=\"fill:#000000; fill-opacity:1; font-family:Arial,Helvetica Neue,Helvetica,sans-serif; font-size:48px; text-anchor:middle;\" transform=\"rotate(0, 564.241, 1479.62)\" x=\"564.241\" y=\"1479.62\">2</text>\n",
       "</g>\n",
       "<g clip-path=\"url(#clip6900)\">\n",
       "<text style=\"fill:#000000; fill-opacity:1; font-family:Arial,Helvetica Neue,Helvetica,sans-serif; font-size:48px; text-anchor:middle;\" transform=\"rotate(0, 769.959, 1479.62)\" x=\"769.959\" y=\"1479.62\">3</text>\n",
       "</g>\n",
       "<g clip-path=\"url(#clip6900)\">\n",
       "<text style=\"fill:#000000; fill-opacity:1; font-family:Arial,Helvetica Neue,Helvetica,sans-serif; font-size:48px; text-anchor:middle;\" transform=\"rotate(0, 975.678, 1479.62)\" x=\"975.678\" y=\"1479.62\">4</text>\n",
       "</g>\n",
       "<g clip-path=\"url(#clip6900)\">\n",
       "<text style=\"fill:#000000; fill-opacity:1; font-family:Arial,Helvetica Neue,Helvetica,sans-serif; font-size:48px; text-anchor:middle;\" transform=\"rotate(0, 1181.4, 1479.62)\" x=\"1181.4\" y=\"1479.62\">5</text>\n",
       "</g>\n",
       "<g clip-path=\"url(#clip6900)\">\n",
       "<text style=\"fill:#000000; fill-opacity:1; font-family:Arial,Helvetica Neue,Helvetica,sans-serif; font-size:48px; text-anchor:middle;\" transform=\"rotate(0, 1387.11, 1479.62)\" x=\"1387.11\" y=\"1479.62\">6</text>\n",
       "</g>\n",
       "<g clip-path=\"url(#clip6900)\">\n",
       "<text style=\"fill:#000000; fill-opacity:1; font-family:Arial,Helvetica Neue,Helvetica,sans-serif; font-size:48px; text-anchor:middle;\" transform=\"rotate(0, 1592.83, 1479.62)\" x=\"1592.83\" y=\"1479.62\">7</text>\n",
       "</g>\n",
       "<g clip-path=\"url(#clip6900)\">\n",
       "<text style=\"fill:#000000; fill-opacity:1; font-family:Arial,Helvetica Neue,Helvetica,sans-serif; font-size:48px; text-anchor:middle;\" transform=\"rotate(0, 1798.55, 1479.62)\" x=\"1798.55\" y=\"1479.62\">8</text>\n",
       "</g>\n",
       "<g clip-path=\"url(#clip6900)\">\n",
       "<text style=\"fill:#000000; fill-opacity:1; font-family:Arial,Helvetica Neue,Helvetica,sans-serif; font-size:48px; text-anchor:middle;\" transform=\"rotate(0, 2004.27, 1479.62)\" x=\"2004.27\" y=\"1479.62\">9</text>\n",
       "</g>\n",
       "<g clip-path=\"url(#clip6900)\">\n",
       "<text style=\"fill:#000000; fill-opacity:1; font-family:Arial,Helvetica Neue,Helvetica,sans-serif; font-size:48px; text-anchor:middle;\" transform=\"rotate(0, 2209.99, 1479.62)\" x=\"2209.99\" y=\"1479.62\">Inf</text>\n",
       "</g>\n",
       "<g clip-path=\"url(#clip6900)\">\n",
       "<text style=\"fill:#000000; fill-opacity:1; font-family:Arial,Helvetica Neue,Helvetica,sans-serif; font-size:48px; text-anchor:end;\" transform=\"rotate(0, 191.754, 1443.12)\" x=\"191.754\" y=\"1443.12\">0.5</text>\n",
       "</g>\n",
       "<g clip-path=\"url(#clip6900)\">\n",
       "<text style=\"fill:#000000; fill-opacity:1; font-family:Arial,Helvetica Neue,Helvetica,sans-serif; font-size:48px; text-anchor:end;\" transform=\"rotate(0, 191.754, 1167.44)\" x=\"191.754\" y=\"1167.44\">0.6</text>\n",
       "</g>\n",
       "<g clip-path=\"url(#clip6900)\">\n",
       "<text style=\"fill:#000000; fill-opacity:1; font-family:Arial,Helvetica Neue,Helvetica,sans-serif; font-size:48px; text-anchor:end;\" transform=\"rotate(0, 191.754, 891.769)\" x=\"191.754\" y=\"891.769\">0.7</text>\n",
       "</g>\n",
       "<g clip-path=\"url(#clip6900)\">\n",
       "<text style=\"fill:#000000; fill-opacity:1; font-family:Arial,Helvetica Neue,Helvetica,sans-serif; font-size:48px; text-anchor:end;\" transform=\"rotate(0, 191.754, 616.094)\" x=\"191.754\" y=\"616.094\">0.8</text>\n",
       "</g>\n",
       "<g clip-path=\"url(#clip6900)\">\n",
       "<text style=\"fill:#000000; fill-opacity:1; font-family:Arial,Helvetica Neue,Helvetica,sans-serif; font-size:48px; text-anchor:end;\" transform=\"rotate(0, 191.754, 340.419)\" x=\"191.754\" y=\"340.419\">0.9</text>\n",
       "</g>\n",
       "<g clip-path=\"url(#clip6900)\">\n",
       "<text style=\"fill:#000000; fill-opacity:1; font-family:Arial,Helvetica Neue,Helvetica,sans-serif; font-size:48px; text-anchor:end;\" transform=\"rotate(0, 191.754, 64.7441)\" x=\"191.754\" y=\"64.7441\">1.0</text>\n",
       "</g>\n",
       "<g clip-path=\"url(#clip6900)\">\n",
       "<text style=\"fill:#000000; fill-opacity:1; font-family:Arial,Helvetica Neue,Helvetica,sans-serif; font-size:66px; text-anchor:middle;\" transform=\"rotate(0, 1284.25, 1559.48)\" x=\"1284.25\" y=\"1559.48\">Maximum tree depth</text>\n",
       "</g>\n",
       "<g clip-path=\"url(#clip6900)\">\n",
       "<text style=\"fill:#000000; fill-opacity:1; font-family:Arial,Helvetica Neue,Helvetica,sans-serif; font-size:66px; text-anchor:middle;\" transform=\"rotate(-90, 89.2861, 736.431)\" x=\"89.2861\" y=\"736.431\">Accuracy on witheld test data</text>\n",
       "</g>\n",
       "<circle clip-path=\"url(#clip6902)\" style=\"fill:#000000; stroke:none; fill-opacity:1\" cx=\"358.523\" cy=\"1064.08\" r=\"18\"/>\n",
       "<circle clip-path=\"url(#clip6902)\" style=\"fill:#009af9; stroke:none; fill-opacity:1\" cx=\"358.523\" cy=\"1064.08\" r=\"14\"/>\n",
       "<circle clip-path=\"url(#clip6902)\" style=\"fill:#000000; stroke:none; fill-opacity:1\" cx=\"358.523\" cy=\"1057.35\" r=\"18\"/>\n",
       "<circle clip-path=\"url(#clip6902)\" style=\"fill:#009af9; stroke:none; fill-opacity:1\" cx=\"358.523\" cy=\"1057.35\" r=\"14\"/>\n",
       "<circle clip-path=\"url(#clip6902)\" style=\"fill:#000000; stroke:none; fill-opacity:1\" cx=\"358.523\" cy=\"552.297\" r=\"18\"/>\n",
       "<circle clip-path=\"url(#clip6902)\" style=\"fill:#009af9; stroke:none; fill-opacity:1\" cx=\"358.523\" cy=\"552.297\" r=\"14\"/>\n",
       "<circle clip-path=\"url(#clip6902)\" style=\"fill:#000000; stroke:none; fill-opacity:1\" cx=\"358.523\" cy=\"1145.64\" r=\"18\"/>\n",
       "<circle clip-path=\"url(#clip6902)\" style=\"fill:#009af9; stroke:none; fill-opacity:1\" cx=\"358.523\" cy=\"1145.64\" r=\"14\"/>\n",
       "<circle clip-path=\"url(#clip6902)\" style=\"fill:#000000; stroke:none; fill-opacity:1\" cx=\"358.523\" cy=\"1071.88\" r=\"18\"/>\n",
       "<circle clip-path=\"url(#clip6902)\" style=\"fill:#009af9; stroke:none; fill-opacity:1\" cx=\"358.523\" cy=\"1071.88\" r=\"14\"/>\n",
       "<circle clip-path=\"url(#clip6902)\" style=\"fill:#000000; stroke:none; fill-opacity:1\" cx=\"358.523\" cy=\"566.632\" r=\"18\"/>\n",
       "<circle clip-path=\"url(#clip6902)\" style=\"fill:#009af9; stroke:none; fill-opacity:1\" cx=\"358.523\" cy=\"566.632\" r=\"14\"/>\n",
       "<circle clip-path=\"url(#clip6902)\" style=\"fill:#000000; stroke:none; fill-opacity:1\" cx=\"358.523\" cy=\"566.632\" r=\"18\"/>\n",
       "<circle clip-path=\"url(#clip6902)\" style=\"fill:#009af9; stroke:none; fill-opacity:1\" cx=\"358.523\" cy=\"566.632\" r=\"14\"/>\n",
       "<circle clip-path=\"url(#clip6902)\" style=\"fill:#000000; stroke:none; fill-opacity:1\" cx=\"358.523\" cy=\"528.288\" r=\"18\"/>\n",
       "<circle clip-path=\"url(#clip6902)\" style=\"fill:#009af9; stroke:none; fill-opacity:1\" cx=\"358.523\" cy=\"528.288\" r=\"14\"/>\n",
       "<circle clip-path=\"url(#clip6902)\" style=\"fill:#000000; stroke:none; fill-opacity:1\" cx=\"358.523\" cy=\"1055.81\" r=\"18\"/>\n",
       "<circle clip-path=\"url(#clip6902)\" style=\"fill:#009af9; stroke:none; fill-opacity:1\" cx=\"358.523\" cy=\"1055.81\" r=\"14\"/>\n",
       "<path clip-path=\"url(#clip6902)\" d=\"\n",
       "M358.523 1031.8 L276.235 1031.8 L440.81 1031.8 L358.523 1031.8 L358.523 874.269 L358.523 1031.8  Z\n",
       "  \" fill=\"#009af9\" fill-rule=\"evenodd\" fill-opacity=\"1\"/>\n",
       "<polyline clip-path=\"url(#clip6902)\" style=\"stroke:#000000; stroke-width:4; stroke-opacity:1; fill:none\" points=\"\n",
       "  358.523,1031.8 276.235,1031.8 440.81,1031.8 358.523,1031.8 358.523,874.269 358.523,1031.8 \n",
       "  \"/>\n",
       "<path clip-path=\"url(#clip6902)\" d=\"\n",
       "M276.235 874.269 L276.235 814.768 L440.81 814.768 L440.81 874.269 L276.235 874.269 L276.235 874.269  Z\n",
       "  \" fill=\"#009af9\" fill-rule=\"evenodd\" fill-opacity=\"1\"/>\n",
       "<polyline clip-path=\"url(#clip6902)\" style=\"stroke:#000000; stroke-width:4; stroke-opacity:1; fill:none\" points=\"\n",
       "  276.235,874.269 276.235,814.768 440.81,814.768 440.81,874.269 276.235,874.269 \n",
       "  \"/>\n",
       "<path clip-path=\"url(#clip6902)\" d=\"\n",
       "M276.235 755.446 L276.235 814.768 L440.81 814.768 L440.81 755.446 L276.235 755.446 L276.235 755.446  Z\n",
       "  \" fill=\"#009af9\" fill-rule=\"evenodd\" fill-opacity=\"1\"/>\n",
       "<polyline clip-path=\"url(#clip6902)\" style=\"stroke:#000000; stroke-width:4; stroke-opacity:1; fill:none\" points=\"\n",
       "  276.235,755.446 276.235,814.768 440.81,814.768 440.81,755.446 276.235,755.446 \n",
       "  \"/>\n",
       "<path clip-path=\"url(#clip6902)\" d=\"\n",
       "M358.523 590.545 L276.235 590.545 L440.81 590.545 L358.523 590.545 L358.523 755.446 L358.523 590.545  Z\n",
       "  \" fill=\"#009af9\" fill-rule=\"evenodd\" fill-opacity=\"1\"/>\n",
       "<polyline clip-path=\"url(#clip6902)\" style=\"stroke:#000000; stroke-width:4; stroke-opacity:1; fill:none\" points=\"\n",
       "  358.523,590.545 276.235,590.545 440.81,590.545 358.523,590.545 358.523,755.446 358.523,590.545 \n",
       "  \"/>\n",
       "<circle clip-path=\"url(#clip6902)\" style=\"fill:#000000; stroke:none; fill-opacity:1\" cx=\"564.241\" cy=\"746.718\" r=\"18\"/>\n",
       "<circle clip-path=\"url(#clip6902)\" style=\"fill:#e26f46; stroke:none; fill-opacity:1\" cx=\"564.241\" cy=\"746.718\" r=\"14\"/>\n",
       "<circle clip-path=\"url(#clip6902)\" style=\"fill:#000000; stroke:none; fill-opacity:1\" cx=\"564.241\" cy=\"721.116\" r=\"18\"/>\n",
       "<circle clip-path=\"url(#clip6902)\" style=\"fill:#e26f46; stroke:none; fill-opacity:1\" cx=\"564.241\" cy=\"721.116\" r=\"14\"/>\n",
       "<circle clip-path=\"url(#clip6902)\" style=\"fill:#000000; stroke:none; fill-opacity:1\" cx=\"564.241\" cy=\"681.891\" r=\"18\"/>\n",
       "<circle clip-path=\"url(#clip6902)\" style=\"fill:#e26f46; stroke:none; fill-opacity:1\" cx=\"564.241\" cy=\"681.891\" r=\"14\"/>\n",
       "<circle clip-path=\"url(#clip6902)\" style=\"fill:#000000; stroke:none; fill-opacity:1\" cx=\"564.241\" cy=\"686.49\" r=\"18\"/>\n",
       "<circle clip-path=\"url(#clip6902)\" style=\"fill:#e26f46; stroke:none; fill-opacity:1\" cx=\"564.241\" cy=\"686.49\" r=\"14\"/>\n",
       "<circle clip-path=\"url(#clip6902)\" style=\"fill:#000000; stroke:none; fill-opacity:1\" cx=\"564.241\" cy=\"699.605\" r=\"18\"/>\n",
       "<circle clip-path=\"url(#clip6902)\" style=\"fill:#e26f46; stroke:none; fill-opacity:1\" cx=\"564.241\" cy=\"699.605\" r=\"14\"/>\n",
       "<circle clip-path=\"url(#clip6902)\" style=\"fill:#000000; stroke:none; fill-opacity:1\" cx=\"564.241\" cy=\"763.565\" r=\"18\"/>\n",
       "<circle clip-path=\"url(#clip6902)\" style=\"fill:#e26f46; stroke:none; fill-opacity:1\" cx=\"564.241\" cy=\"763.565\" r=\"14\"/>\n",
       "<circle clip-path=\"url(#clip6902)\" style=\"fill:#000000; stroke:none; fill-opacity:1\" cx=\"564.241\" cy=\"712.666\" r=\"18\"/>\n",
       "<circle clip-path=\"url(#clip6902)\" style=\"fill:#e26f46; stroke:none; fill-opacity:1\" cx=\"564.241\" cy=\"712.666\" r=\"14\"/>\n",
       "<circle clip-path=\"url(#clip6902)\" style=\"fill:#000000; stroke:none; fill-opacity:1\" cx=\"564.241\" cy=\"304.084\" r=\"18\"/>\n",
       "<circle clip-path=\"url(#clip6902)\" style=\"fill:#e26f46; stroke:none; fill-opacity:1\" cx=\"564.241\" cy=\"304.084\" r=\"14\"/>\n",
       "<circle clip-path=\"url(#clip6902)\" style=\"fill:#000000; stroke:none; fill-opacity:1\" cx=\"564.241\" cy=\"270.216\" r=\"18\"/>\n",
       "<circle clip-path=\"url(#clip6902)\" style=\"fill:#e26f46; stroke:none; fill-opacity:1\" cx=\"564.241\" cy=\"270.216\" r=\"14\"/>\n",
       "<circle clip-path=\"url(#clip6902)\" style=\"fill:#000000; stroke:none; fill-opacity:1\" cx=\"564.241\" cy=\"697.209\" r=\"18\"/>\n",
       "<circle clip-path=\"url(#clip6902)\" style=\"fill:#e26f46; stroke:none; fill-opacity:1\" cx=\"564.241\" cy=\"697.209\" r=\"14\"/>\n",
       "<circle clip-path=\"url(#clip6902)\" style=\"fill:#000000; stroke:none; fill-opacity:1\" cx=\"564.241\" cy=\"698.445\" r=\"18\"/>\n",
       "<circle clip-path=\"url(#clip6902)\" style=\"fill:#e26f46; stroke:none; fill-opacity:1\" cx=\"564.241\" cy=\"698.445\" r=\"14\"/>\n",
       "<circle clip-path=\"url(#clip6902)\" style=\"fill:#000000; stroke:none; fill-opacity:1\" cx=\"564.241\" cy=\"705.572\" r=\"18\"/>\n",
       "<circle clip-path=\"url(#clip6902)\" style=\"fill:#e26f46; stroke:none; fill-opacity:1\" cx=\"564.241\" cy=\"705.572\" r=\"14\"/>\n",
       "<circle clip-path=\"url(#clip6902)\" style=\"fill:#000000; stroke:none; fill-opacity:1\" cx=\"564.241\" cy=\"688.901\" r=\"18\"/>\n",
       "<circle clip-path=\"url(#clip6902)\" style=\"fill:#e26f46; stroke:none; fill-opacity:1\" cx=\"564.241\" cy=\"688.901\" r=\"14\"/>\n",
       "<circle clip-path=\"url(#clip6902)\" style=\"fill:#000000; stroke:none; fill-opacity:1\" cx=\"564.241\" cy=\"731.089\" r=\"18\"/>\n",
       "<circle clip-path=\"url(#clip6902)\" style=\"fill:#e26f46; stroke:none; fill-opacity:1\" cx=\"564.241\" cy=\"731.089\" r=\"14\"/>\n",
       "<path clip-path=\"url(#clip6902)\" d=\"\n",
       "M564.241 678.026 L481.954 678.026 L646.528 678.026 L564.241 678.026 L564.241 540.321 L564.241 678.026  Z\n",
       "  \" fill=\"#e26f46\" fill-rule=\"evenodd\" fill-opacity=\"1\"/>\n",
       "<polyline clip-path=\"url(#clip6902)\" style=\"stroke:#000000; stroke-width:4; stroke-opacity:1; fill:none\" points=\"\n",
       "  564.241,678.026 481.954,678.026 646.528,678.026 564.241,678.026 564.241,540.321 564.241,678.026 \n",
       "  \"/>\n",
       "<path clip-path=\"url(#clip6902)\" d=\"\n",
       "M481.954 540.321 L481.954 492.223 L646.528 492.223 L646.528 540.321 L481.954 540.321 L481.954 540.321  Z\n",
       "  \" fill=\"#e26f46\" fill-rule=\"evenodd\" fill-opacity=\"1\"/>\n",
       "<polyline clip-path=\"url(#clip6902)\" style=\"stroke:#000000; stroke-width:4; stroke-opacity:1; fill:none\" points=\"\n",
       "  481.954,540.321 481.954,492.223 646.528,492.223 646.528,540.321 481.954,540.321 \n",
       "  \"/>\n",
       "<path clip-path=\"url(#clip6902)\" d=\"\n",
       "M481.954 446.497 L481.954 492.223 L646.528 492.223 L646.528 446.497 L481.954 446.497 L481.954 446.497  Z\n",
       "  \" fill=\"#e26f46\" fill-rule=\"evenodd\" fill-opacity=\"1\"/>\n",
       "<polyline clip-path=\"url(#clip6902)\" style=\"stroke:#000000; stroke-width:4; stroke-opacity:1; fill:none\" points=\"\n",
       "  481.954,446.497 481.954,492.223 646.528,492.223 646.528,446.497 481.954,446.497 \n",
       "  \"/>\n",
       "<path clip-path=\"url(#clip6902)\" d=\"\n",
       "M564.241 320.964 L481.954 320.964 L646.528 320.964 L564.241 320.964 L564.241 446.497 L564.241 320.964  Z\n",
       "  \" fill=\"#e26f46\" fill-rule=\"evenodd\" fill-opacity=\"1\"/>\n",
       "<polyline clip-path=\"url(#clip6902)\" style=\"stroke:#000000; stroke-width:4; stroke-opacity:1; fill:none\" points=\"\n",
       "  564.241,320.964 481.954,320.964 646.528,320.964 564.241,320.964 564.241,446.497 564.241,320.964 \n",
       "  \"/>\n",
       "<circle clip-path=\"url(#clip6902)\" style=\"fill:#000000; stroke:none; fill-opacity:1\" cx=\"769.959\" cy=\"622.393\" r=\"18\"/>\n",
       "<circle clip-path=\"url(#clip6902)\" style=\"fill:#3da44d; stroke:none; fill-opacity:1\" cx=\"769.959\" cy=\"622.393\" r=\"14\"/>\n",
       "<circle clip-path=\"url(#clip6902)\" style=\"fill:#000000; stroke:none; fill-opacity:1\" cx=\"769.959\" cy=\"619.8\" r=\"18\"/>\n",
       "<circle clip-path=\"url(#clip6902)\" style=\"fill:#3da44d; stroke:none; fill-opacity:1\" cx=\"769.959\" cy=\"619.8\" r=\"14\"/>\n",
       "<circle clip-path=\"url(#clip6902)\" style=\"fill:#000000; stroke:none; fill-opacity:1\" cx=\"769.959\" cy=\"636.618\" r=\"18\"/>\n",
       "<circle clip-path=\"url(#clip6902)\" style=\"fill:#3da44d; stroke:none; fill-opacity:1\" cx=\"769.959\" cy=\"636.618\" r=\"14\"/>\n",
       "<circle clip-path=\"url(#clip6902)\" style=\"fill:#000000; stroke:none; fill-opacity:1\" cx=\"769.959\" cy=\"148.595\" r=\"18\"/>\n",
       "<circle clip-path=\"url(#clip6902)\" style=\"fill:#3da44d; stroke:none; fill-opacity:1\" cx=\"769.959\" cy=\"148.595\" r=\"14\"/>\n",
       "<circle clip-path=\"url(#clip6902)\" style=\"fill:#000000; stroke:none; fill-opacity:1\" cx=\"769.959\" cy=\"645.608\" r=\"18\"/>\n",
       "<circle clip-path=\"url(#clip6902)\" style=\"fill:#3da44d; stroke:none; fill-opacity:1\" cx=\"769.959\" cy=\"645.608\" r=\"14\"/>\n",
       "<circle clip-path=\"url(#clip6902)\" style=\"fill:#000000; stroke:none; fill-opacity:1\" cx=\"769.959\" cy=\"623.281\" r=\"18\"/>\n",
       "<circle clip-path=\"url(#clip6902)\" style=\"fill:#3da44d; stroke:none; fill-opacity:1\" cx=\"769.959\" cy=\"623.281\" r=\"14\"/>\n",
       "<circle clip-path=\"url(#clip6902)\" style=\"fill:#000000; stroke:none; fill-opacity:1\" cx=\"769.959\" cy=\"625.583\" r=\"18\"/>\n",
       "<circle clip-path=\"url(#clip6902)\" style=\"fill:#3da44d; stroke:none; fill-opacity:1\" cx=\"769.959\" cy=\"625.583\" r=\"14\"/>\n",
       "<path clip-path=\"url(#clip6902)\" d=\"\n",
       "M769.959 607.209 L687.672 607.209 L852.247 607.209 L769.959 607.209 L769.959 446.497 L769.959 607.209  Z\n",
       "  \" fill=\"#3da44d\" fill-rule=\"evenodd\" fill-opacity=\"1\"/>\n",
       "<polyline clip-path=\"url(#clip6902)\" style=\"stroke:#000000; stroke-width:4; stroke-opacity:1; fill:none\" points=\"\n",
       "  769.959,607.209 687.672,607.209 852.247,607.209 769.959,607.209 769.959,446.497 769.959,607.209 \n",
       "  \"/>\n",
       "<path clip-path=\"url(#clip6902)\" d=\"\n",
       "M687.672 446.497 L687.672 386.189 L852.247 386.189 L852.247 446.497 L687.672 446.497 L687.672 446.497  Z\n",
       "  \" fill=\"#3da44d\" fill-rule=\"evenodd\" fill-opacity=\"1\"/>\n",
       "<polyline clip-path=\"url(#clip6902)\" style=\"stroke:#000000; stroke-width:4; stroke-opacity:1; fill:none\" points=\"\n",
       "  687.672,446.497 687.672,386.189 852.247,386.189 852.247,446.497 687.672,446.497 \n",
       "  \"/>\n",
       "<path clip-path=\"url(#clip6902)\" d=\"\n",
       "M687.672 335.263 L687.672 386.189 L852.247 386.189 L852.247 335.263 L687.672 335.263 L687.672 335.263  Z\n",
       "  \" fill=\"#3da44d\" fill-rule=\"evenodd\" fill-opacity=\"1\"/>\n",
       "<polyline clip-path=\"url(#clip6902)\" style=\"stroke:#000000; stroke-width:4; stroke-opacity:1; fill:none\" points=\"\n",
       "  687.672,335.263 687.672,386.189 852.247,386.189 852.247,335.263 687.672,335.263 \n",
       "  \"/>\n",
       "<path clip-path=\"url(#clip6902)\" d=\"\n",
       "M769.959 181.72 L687.672 181.72 L852.247 181.72 L769.959 181.72 L769.959 335.263 L769.959 181.72  Z\n",
       "  \" fill=\"#3da44d\" fill-rule=\"evenodd\" fill-opacity=\"1\"/>\n",
       "<polyline clip-path=\"url(#clip6902)\" style=\"stroke:#000000; stroke-width:4; stroke-opacity:1; fill:none\" points=\"\n",
       "  769.959,181.72 687.672,181.72 852.247,181.72 769.959,181.72 769.959,335.263 769.959,181.72 \n",
       "  \"/>\n",
       "<circle clip-path=\"url(#clip6902)\" style=\"fill:#000000; stroke:none; fill-opacity:1\" cx=\"975.678\" cy=\"593.841\" r=\"18\"/>\n",
       "<circle clip-path=\"url(#clip6902)\" style=\"fill:#c271d2; stroke:none; fill-opacity:1\" cx=\"975.678\" cy=\"593.841\" r=\"14\"/>\n",
       "<circle clip-path=\"url(#clip6902)\" style=\"fill:#000000; stroke:none; fill-opacity:1\" cx=\"975.678\" cy=\"662.059\" r=\"18\"/>\n",
       "<circle clip-path=\"url(#clip6902)\" style=\"fill:#c271d2; stroke:none; fill-opacity:1\" cx=\"975.678\" cy=\"662.059\" r=\"14\"/>\n",
       "<circle clip-path=\"url(#clip6902)\" style=\"fill:#000000; stroke:none; fill-opacity:1\" cx=\"975.678\" cy=\"607.209\" r=\"18\"/>\n",
       "<circle clip-path=\"url(#clip6902)\" style=\"fill:#c271d2; stroke:none; fill-opacity:1\" cx=\"975.678\" cy=\"607.209\" r=\"14\"/>\n",
       "<circle clip-path=\"url(#clip6902)\" style=\"fill:#000000; stroke:none; fill-opacity:1\" cx=\"975.678\" cy=\"602.174\" r=\"18\"/>\n",
       "<circle clip-path=\"url(#clip6902)\" style=\"fill:#c271d2; stroke:none; fill-opacity:1\" cx=\"975.678\" cy=\"602.174\" r=\"14\"/>\n",
       "<circle clip-path=\"url(#clip6902)\" style=\"fill:#000000; stroke:none; fill-opacity:1\" cx=\"975.678\" cy=\"587.418\" r=\"18\"/>\n",
       "<circle clip-path=\"url(#clip6902)\" style=\"fill:#c271d2; stroke:none; fill-opacity:1\" cx=\"975.678\" cy=\"587.418\" r=\"14\"/>\n",
       "<circle clip-path=\"url(#clip6902)\" style=\"fill:#000000; stroke:none; fill-opacity:1\" cx=\"975.678\" cy=\"683.417\" r=\"18\"/>\n",
       "<circle clip-path=\"url(#clip6902)\" style=\"fill:#c271d2; stroke:none; fill-opacity:1\" cx=\"975.678\" cy=\"683.417\" r=\"14\"/>\n",
       "<circle clip-path=\"url(#clip6902)\" style=\"fill:#000000; stroke:none; fill-opacity:1\" cx=\"975.678\" cy=\"594.54\" r=\"18\"/>\n",
       "<circle clip-path=\"url(#clip6902)\" style=\"fill:#c271d2; stroke:none; fill-opacity:1\" cx=\"975.678\" cy=\"594.54\" r=\"14\"/>\n",
       "<circle clip-path=\"url(#clip6902)\" style=\"fill:#000000; stroke:none; fill-opacity:1\" cx=\"975.678\" cy=\"564.135\" r=\"18\"/>\n",
       "<circle clip-path=\"url(#clip6902)\" style=\"fill:#c271d2; stroke:none; fill-opacity:1\" cx=\"975.678\" cy=\"564.135\" r=\"14\"/>\n",
       "<circle clip-path=\"url(#clip6902)\" style=\"fill:#000000; stroke:none; fill-opacity:1\" cx=\"975.678\" cy=\"180.635\" r=\"18\"/>\n",
       "<circle clip-path=\"url(#clip6902)\" style=\"fill:#c271d2; stroke:none; fill-opacity:1\" cx=\"975.678\" cy=\"180.635\" r=\"14\"/>\n",
       "<circle clip-path=\"url(#clip6902)\" style=\"fill:#000000; stroke:none; fill-opacity:1\" cx=\"975.678\" cy=\"609.476\" r=\"18\"/>\n",
       "<circle clip-path=\"url(#clip6902)\" style=\"fill:#c271d2; stroke:none; fill-opacity:1\" cx=\"975.678\" cy=\"609.476\" r=\"14\"/>\n",
       "<circle clip-path=\"url(#clip6902)\" style=\"fill:#000000; stroke:none; fill-opacity:1\" cx=\"975.678\" cy=\"666.978\" r=\"18\"/>\n",
       "<circle clip-path=\"url(#clip6902)\" style=\"fill:#c271d2; stroke:none; fill-opacity:1\" cx=\"975.678\" cy=\"666.978\" r=\"14\"/>\n",
       "<path clip-path=\"url(#clip6902)\" d=\"\n",
       "M975.678 561.563 L893.39 561.563 L1057.96 561.563 L975.678 561.563 L975.678 420.338 L975.678 561.563  Z\n",
       "  \" fill=\"#c271d2\" fill-rule=\"evenodd\" fill-opacity=\"1\"/>\n",
       "<polyline clip-path=\"url(#clip6902)\" style=\"stroke:#000000; stroke-width:4; stroke-opacity:1; fill:none\" points=\"\n",
       "  975.678,561.563 893.39,561.563 1057.96,561.563 975.678,561.563 975.678,420.338 975.678,561.563 \n",
       "  \"/>\n",
       "<path clip-path=\"url(#clip6902)\" d=\"\n",
       "M893.39 420.338 L893.39 372.844 L1057.96 372.844 L1057.96 420.338 L893.39 420.338 L893.39 420.338  Z\n",
       "  \" fill=\"#c271d2\" fill-rule=\"evenodd\" fill-opacity=\"1\"/>\n",
       "<polyline clip-path=\"url(#clip6902)\" style=\"stroke:#000000; stroke-width:4; stroke-opacity:1; fill:none\" points=\"\n",
       "  893.39,420.338 893.39,372.844 1057.96,372.844 1057.96,420.338 893.39,420.338 \n",
       "  \"/>\n",
       "<path clip-path=\"url(#clip6902)\" d=\"\n",
       "M893.39 324.869 L893.39 372.844 L1057.96 372.844 L1057.96 324.869 L893.39 324.869 L893.39 324.869  Z\n",
       "  \" fill=\"#c271d2\" fill-rule=\"evenodd\" fill-opacity=\"1\"/>\n",
       "<polyline clip-path=\"url(#clip6902)\" style=\"stroke:#000000; stroke-width:4; stroke-opacity:1; fill:none\" points=\"\n",
       "  893.39,324.869 893.39,372.844 1057.96,372.844 1057.96,324.869 893.39,324.869 \n",
       "  \"/>\n",
       "<path clip-path=\"url(#clip6902)\" d=\"\n",
       "M975.678 189.136 L893.39 189.136 L1057.96 189.136 L975.678 189.136 L975.678 324.869 L975.678 189.136  Z\n",
       "  \" fill=\"#c271d2\" fill-rule=\"evenodd\" fill-opacity=\"1\"/>\n",
       "<polyline clip-path=\"url(#clip6902)\" style=\"stroke:#000000; stroke-width:4; stroke-opacity:1; fill:none\" points=\"\n",
       "  975.678,189.136 893.39,189.136 1057.96,189.136 975.678,189.136 975.678,324.869 975.678,189.136 \n",
       "  \"/>\n",
       "<circle clip-path=\"url(#clip6902)\" style=\"fill:#000000; stroke:none; fill-opacity:1\" cx=\"1181.4\" cy=\"569.356\" r=\"18\"/>\n",
       "<circle clip-path=\"url(#clip6902)\" style=\"fill:#ac8d18; stroke:none; fill-opacity:1\" cx=\"1181.4\" cy=\"569.356\" r=\"14\"/>\n",
       "<circle clip-path=\"url(#clip6902)\" style=\"fill:#000000; stroke:none; fill-opacity:1\" cx=\"1181.4\" cy=\"585.672\" r=\"18\"/>\n",
       "<circle clip-path=\"url(#clip6902)\" style=\"fill:#ac8d18; stroke:none; fill-opacity:1\" cx=\"1181.4\" cy=\"585.672\" r=\"14\"/>\n",
       "<circle clip-path=\"url(#clip6902)\" style=\"fill:#000000; stroke:none; fill-opacity:1\" cx=\"1181.4\" cy=\"602.174\" r=\"18\"/>\n",
       "<circle clip-path=\"url(#clip6902)\" style=\"fill:#ac8d18; stroke:none; fill-opacity:1\" cx=\"1181.4\" cy=\"602.174\" r=\"14\"/>\n",
       "<circle clip-path=\"url(#clip6902)\" style=\"fill:#000000; stroke:none; fill-opacity:1\" cx=\"1181.4\" cy=\"665.136\" r=\"18\"/>\n",
       "<circle clip-path=\"url(#clip6902)\" style=\"fill:#ac8d18; stroke:none; fill-opacity:1\" cx=\"1181.4\" cy=\"665.136\" r=\"14\"/>\n",
       "<circle clip-path=\"url(#clip6902)\" style=\"fill:#000000; stroke:none; fill-opacity:1\" cx=\"1181.4\" cy=\"598.594\" r=\"18\"/>\n",
       "<circle clip-path=\"url(#clip6902)\" style=\"fill:#ac8d18; stroke:none; fill-opacity:1\" cx=\"1181.4\" cy=\"598.594\" r=\"14\"/>\n",
       "<circle clip-path=\"url(#clip6902)\" style=\"fill:#000000; stroke:none; fill-opacity:1\" cx=\"1181.4\" cy=\"607.559\" r=\"18\"/>\n",
       "<circle clip-path=\"url(#clip6902)\" style=\"fill:#ac8d18; stroke:none; fill-opacity:1\" cx=\"1181.4\" cy=\"607.559\" r=\"14\"/>\n",
       "<circle clip-path=\"url(#clip6902)\" style=\"fill:#000000; stroke:none; fill-opacity:1\" cx=\"1181.4\" cy=\"583.279\" r=\"18\"/>\n",
       "<circle clip-path=\"url(#clip6902)\" style=\"fill:#ac8d18; stroke:none; fill-opacity:1\" cx=\"1181.4\" cy=\"583.279\" r=\"14\"/>\n",
       "<circle clip-path=\"url(#clip6902)\" style=\"fill:#000000; stroke:none; fill-opacity:1\" cx=\"1181.4\" cy=\"582.136\" r=\"18\"/>\n",
       "<circle clip-path=\"url(#clip6902)\" style=\"fill:#ac8d18; stroke:none; fill-opacity:1\" cx=\"1181.4\" cy=\"582.136\" r=\"14\"/>\n",
       "<circle clip-path=\"url(#clip6902)\" style=\"fill:#000000; stroke:none; fill-opacity:1\" cx=\"1181.4\" cy=\"587.027\" r=\"18\"/>\n",
       "<circle clip-path=\"url(#clip6902)\" style=\"fill:#ac8d18; stroke:none; fill-opacity:1\" cx=\"1181.4\" cy=\"587.027\" r=\"14\"/>\n",
       "<circle clip-path=\"url(#clip6902)\" style=\"fill:#000000; stroke:none; fill-opacity:1\" cx=\"1181.4\" cy=\"637.976\" r=\"18\"/>\n",
       "<circle clip-path=\"url(#clip6902)\" style=\"fill:#ac8d18; stroke:none; fill-opacity:1\" cx=\"1181.4\" cy=\"637.976\" r=\"14\"/>\n",
       "<path clip-path=\"url(#clip6902)\" d=\"\n",
       "M1181.4 565.43 L1099.11 565.43 L1263.68 565.43 L1181.4 565.43 L1181.4 419.778 L1181.4 565.43  Z\n",
       "  \" fill=\"#ac8d18\" fill-rule=\"evenodd\" fill-opacity=\"1\"/>\n",
       "<polyline clip-path=\"url(#clip6902)\" style=\"stroke:#000000; stroke-width:4; stroke-opacity:1; fill:none\" points=\"\n",
       "  1181.4,565.43 1099.11,565.43 1263.68,565.43 1181.4,565.43 1181.4,419.778 1181.4,565.43 \n",
       "  \"/>\n",
       "<path clip-path=\"url(#clip6902)\" d=\"\n",
       "M1099.11 419.778 L1099.11 372.694 L1263.68 372.694 L1263.68 419.778 L1099.11 419.778 L1099.11 419.778  Z\n",
       "  \" fill=\"#ac8d18\" fill-rule=\"evenodd\" fill-opacity=\"1\"/>\n",
       "<polyline clip-path=\"url(#clip6902)\" style=\"stroke:#000000; stroke-width:4; stroke-opacity:1; fill:none\" points=\"\n",
       "  1099.11,419.778 1099.11,372.694 1263.68,372.694 1263.68,419.778 1099.11,419.778 \n",
       "  \"/>\n",
       "<path clip-path=\"url(#clip6902)\" d=\"\n",
       "M1099.11 320.815 L1099.11 372.694 L1263.68 372.694 L1263.68 320.815 L1099.11 320.815 L1099.11 320.815  Z\n",
       "  \" fill=\"#ac8d18\" fill-rule=\"evenodd\" fill-opacity=\"1\"/>\n",
       "<polyline clip-path=\"url(#clip6902)\" style=\"stroke:#000000; stroke-width:4; stroke-opacity:1; fill:none\" points=\"\n",
       "  1099.11,320.815 1099.11,372.694 1263.68,372.694 1263.68,320.815 1099.11,320.815 \n",
       "  \"/>\n",
       "<path clip-path=\"url(#clip6902)\" d=\"\n",
       "M1181.4 178.518 L1099.11 178.518 L1263.68 178.518 L1181.4 178.518 L1181.4 320.815 L1181.4 178.518  Z\n",
       "  \" fill=\"#ac8d18\" fill-rule=\"evenodd\" fill-opacity=\"1\"/>\n",
       "<polyline clip-path=\"url(#clip6902)\" style=\"stroke:#000000; stroke-width:4; stroke-opacity:1; fill:none\" points=\"\n",
       "  1181.4,178.518 1099.11,178.518 1263.68,178.518 1181.4,178.518 1181.4,320.815 1181.4,178.518 \n",
       "  \"/>\n",
       "<circle clip-path=\"url(#clip6902)\" style=\"fill:#000000; stroke:none; fill-opacity:1\" cx=\"1387.11\" cy=\"598.594\" r=\"18\"/>\n",
       "<circle clip-path=\"url(#clip6902)\" style=\"fill:#00a9ad; stroke:none; fill-opacity:1\" cx=\"1387.11\" cy=\"598.594\" r=\"14\"/>\n",
       "<circle clip-path=\"url(#clip6902)\" style=\"fill:#000000; stroke:none; fill-opacity:1\" cx=\"1387.11\" cy=\"665.136\" r=\"18\"/>\n",
       "<circle clip-path=\"url(#clip6902)\" style=\"fill:#00a9ad; stroke:none; fill-opacity:1\" cx=\"1387.11\" cy=\"665.136\" r=\"14\"/>\n",
       "<circle clip-path=\"url(#clip6902)\" style=\"fill:#000000; stroke:none; fill-opacity:1\" cx=\"1387.11\" cy=\"164.553\" r=\"18\"/>\n",
       "<circle clip-path=\"url(#clip6902)\" style=\"fill:#00a9ad; stroke:none; fill-opacity:1\" cx=\"1387.11\" cy=\"164.553\" r=\"14\"/>\n",
       "<circle clip-path=\"url(#clip6902)\" style=\"fill:#000000; stroke:none; fill-opacity:1\" cx=\"1387.11\" cy=\"574.27\" r=\"18\"/>\n",
       "<circle clip-path=\"url(#clip6902)\" style=\"fill:#00a9ad; stroke:none; fill-opacity:1\" cx=\"1387.11\" cy=\"574.27\" r=\"14\"/>\n",
       "<circle clip-path=\"url(#clip6902)\" style=\"fill:#000000; stroke:none; fill-opacity:1\" cx=\"1387.11\" cy=\"570.076\" r=\"18\"/>\n",
       "<circle clip-path=\"url(#clip6902)\" style=\"fill:#00a9ad; stroke:none; fill-opacity:1\" cx=\"1387.11\" cy=\"570.076\" r=\"14\"/>\n",
       "<circle clip-path=\"url(#clip6902)\" style=\"fill:#000000; stroke:none; fill-opacity:1\" cx=\"1387.11\" cy=\"602.868\" r=\"18\"/>\n",
       "<circle clip-path=\"url(#clip6902)\" style=\"fill:#00a9ad; stroke:none; fill-opacity:1\" cx=\"1387.11\" cy=\"602.868\" r=\"14\"/>\n",
       "<path clip-path=\"url(#clip6902)\" d=\"\n",
       "M1387.11 564.135 L1304.83 564.135 L1469.4 564.135 L1387.11 564.135 L1387.11 420.338 L1387.11 564.135  Z\n",
       "  \" fill=\"#00a9ad\" fill-rule=\"evenodd\" fill-opacity=\"1\"/>\n",
       "<polyline clip-path=\"url(#clip6902)\" style=\"stroke:#000000; stroke-width:4; stroke-opacity:1; fill:none\" points=\"\n",
       "  1387.11,564.135 1304.83,564.135 1469.4,564.135 1387.11,564.135 1387.11,420.338 1387.11,564.135 \n",
       "  \"/>\n",
       "<path clip-path=\"url(#clip6902)\" d=\"\n",
       "M1304.83 420.338 L1304.83 371.568 L1469.4 371.568 L1469.4 420.338 L1304.83 420.338 L1304.83 420.338  Z\n",
       "  \" fill=\"#00a9ad\" fill-rule=\"evenodd\" fill-opacity=\"1\"/>\n",
       "<polyline clip-path=\"url(#clip6902)\" style=\"stroke:#000000; stroke-width:4; stroke-opacity:1; fill:none\" points=\"\n",
       "  1304.83,420.338 1304.83,371.568 1469.4,371.568 1469.4,420.338 1304.83,420.338 \n",
       "  \"/>\n",
       "<path clip-path=\"url(#clip6902)\" d=\"\n",
       "M1304.83 320.964 L1304.83 371.568 L1469.4 371.568 L1469.4 320.964 L1304.83 320.964 L1304.83 320.964  Z\n",
       "  \" fill=\"#00a9ad\" fill-rule=\"evenodd\" fill-opacity=\"1\"/>\n",
       "<polyline clip-path=\"url(#clip6902)\" style=\"stroke:#000000; stroke-width:4; stroke-opacity:1; fill:none\" points=\"\n",
       "  1304.83,320.964 1304.83,371.568 1469.4,371.568 1469.4,320.964 1304.83,320.964 \n",
       "  \"/>\n",
       "<path clip-path=\"url(#clip6902)\" d=\"\n",
       "M1387.11 188.1 L1304.83 188.1 L1469.4 188.1 L1387.11 188.1 L1387.11 320.964 L1387.11 188.1  Z\n",
       "  \" fill=\"#00a9ad\" fill-rule=\"evenodd\" fill-opacity=\"1\"/>\n",
       "<polyline clip-path=\"url(#clip6902)\" style=\"stroke:#000000; stroke-width:4; stroke-opacity:1; fill:none\" points=\"\n",
       "  1387.11,188.1 1304.83,188.1 1469.4,188.1 1387.11,188.1 1387.11,320.964 1387.11,188.1 \n",
       "  \"/>\n",
       "<circle clip-path=\"url(#clip6902)\" style=\"fill:#000000; stroke:none; fill-opacity:1\" cx=\"1592.83\" cy=\"567.749\" r=\"18\"/>\n",
       "<circle clip-path=\"url(#clip6902)\" style=\"fill:#ed5d92; stroke:none; fill-opacity:1\" cx=\"1592.83\" cy=\"567.749\" r=\"14\"/>\n",
       "<circle clip-path=\"url(#clip6902)\" style=\"fill:#000000; stroke:none; fill-opacity:1\" cx=\"1592.83\" cy=\"620.075\" r=\"18\"/>\n",
       "<circle clip-path=\"url(#clip6902)\" style=\"fill:#ed5d92; stroke:none; fill-opacity:1\" cx=\"1592.83\" cy=\"620.075\" r=\"14\"/>\n",
       "<circle clip-path=\"url(#clip6902)\" style=\"fill:#000000; stroke:none; fill-opacity:1\" cx=\"1592.83\" cy=\"587.418\" r=\"18\"/>\n",
       "<circle clip-path=\"url(#clip6902)\" style=\"fill:#ed5d92; stroke:none; fill-opacity:1\" cx=\"1592.83\" cy=\"587.418\" r=\"14\"/>\n",
       "<circle clip-path=\"url(#clip6902)\" style=\"fill:#000000; stroke:none; fill-opacity:1\" cx=\"1592.83\" cy=\"712.666\" r=\"18\"/>\n",
       "<circle clip-path=\"url(#clip6902)\" style=\"fill:#ed5d92; stroke:none; fill-opacity:1\" cx=\"1592.83\" cy=\"712.666\" r=\"14\"/>\n",
       "<circle clip-path=\"url(#clip6902)\" style=\"fill:#000000; stroke:none; fill-opacity:1\" cx=\"1592.83\" cy=\"594.54\" r=\"18\"/>\n",
       "<circle clip-path=\"url(#clip6902)\" style=\"fill:#ed5d92; stroke:none; fill-opacity:1\" cx=\"1592.83\" cy=\"594.54\" r=\"14\"/>\n",
       "<circle clip-path=\"url(#clip6902)\" style=\"fill:#000000; stroke:none; fill-opacity:1\" cx=\"1592.83\" cy=\"581.498\" r=\"18\"/>\n",
       "<circle clip-path=\"url(#clip6902)\" style=\"fill:#ed5d92; stroke:none; fill-opacity:1\" cx=\"1592.83\" cy=\"581.498\" r=\"14\"/>\n",
       "<circle clip-path=\"url(#clip6902)\" style=\"fill:#000000; stroke:none; fill-opacity:1\" cx=\"1592.83\" cy=\"581.498\" r=\"18\"/>\n",
       "<circle clip-path=\"url(#clip6902)\" style=\"fill:#ed5d92; stroke:none; fill-opacity:1\" cx=\"1592.83\" cy=\"581.498\" r=\"14\"/>\n",
       "<circle clip-path=\"url(#clip6902)\" style=\"fill:#000000; stroke:none; fill-opacity:1\" cx=\"1592.83\" cy=\"578.174\" r=\"18\"/>\n",
       "<circle clip-path=\"url(#clip6902)\" style=\"fill:#ed5d92; stroke:none; fill-opacity:1\" cx=\"1592.83\" cy=\"578.174\" r=\"14\"/>\n",
       "<path clip-path=\"url(#clip6902)\" d=\"\n",
       "M1592.83 561.563 L1510.55 561.563 L1675.12 561.563 L1592.83 561.563 L1592.83 417.64 L1592.83 561.563  Z\n",
       "  \" fill=\"#ed5d92\" fill-rule=\"evenodd\" fill-opacity=\"1\"/>\n",
       "<polyline clip-path=\"url(#clip6902)\" style=\"stroke:#000000; stroke-width:4; stroke-opacity:1; fill:none\" points=\"\n",
       "  1592.83,561.563 1510.55,561.563 1675.12,561.563 1592.83,561.563 1592.83,417.64 1592.83,561.563 \n",
       "  \"/>\n",
       "<path clip-path=\"url(#clip6902)\" d=\"\n",
       "M1510.55 417.64 L1510.55 369.331 L1675.12 369.331 L1675.12 417.64 L1510.55 417.64 L1510.55 417.64  Z\n",
       "  \" fill=\"#ed5d92\" fill-rule=\"evenodd\" fill-opacity=\"1\"/>\n",
       "<polyline clip-path=\"url(#clip6902)\" style=\"stroke:#000000; stroke-width:4; stroke-opacity:1; fill:none\" points=\"\n",
       "  1510.55,417.64 1510.55,369.331 1675.12,369.331 1675.12,417.64 1510.55,417.64 \n",
       "  \"/>\n",
       "<path clip-path=\"url(#clip6902)\" d=\"\n",
       "M1510.55 320.964 L1510.55 369.331 L1675.12 369.331 L1675.12 320.964 L1510.55 320.964 L1510.55 320.964  Z\n",
       "  \" fill=\"#ed5d92\" fill-rule=\"evenodd\" fill-opacity=\"1\"/>\n",
       "<polyline clip-path=\"url(#clip6902)\" style=\"stroke:#000000; stroke-width:4; stroke-opacity:1; fill:none\" points=\"\n",
       "  1510.55,320.964 1510.55,369.331 1675.12,369.331 1675.12,320.964 1510.55,320.964 \n",
       "  \"/>\n",
       "<path clip-path=\"url(#clip6902)\" d=\"\n",
       "M1592.83 180.635 L1510.55 180.635 L1675.12 180.635 L1592.83 180.635 L1592.83 320.964 L1592.83 180.635  Z\n",
       "  \" fill=\"#ed5d92\" fill-rule=\"evenodd\" fill-opacity=\"1\"/>\n",
       "<polyline clip-path=\"url(#clip6902)\" style=\"stroke:#000000; stroke-width:4; stroke-opacity:1; fill:none\" points=\"\n",
       "  1592.83,180.635 1510.55,180.635 1675.12,180.635 1592.83,180.635 1592.83,320.964 1592.83,180.635 \n",
       "  \"/>\n",
       "<circle clip-path=\"url(#clip6902)\" style=\"fill:#000000; stroke:none; fill-opacity:1\" cx=\"1798.55\" cy=\"593.841\" r=\"18\"/>\n",
       "<circle clip-path=\"url(#clip6902)\" style=\"fill:#c68125; stroke:none; fill-opacity:1\" cx=\"1798.55\" cy=\"593.841\" r=\"14\"/>\n",
       "<circle clip-path=\"url(#clip6902)\" style=\"fill:#000000; stroke:none; fill-opacity:1\" cx=\"1798.55\" cy=\"607.209\" r=\"18\"/>\n",
       "<circle clip-path=\"url(#clip6902)\" style=\"fill:#c68125; stroke:none; fill-opacity:1\" cx=\"1798.55\" cy=\"607.209\" r=\"14\"/>\n",
       "<circle clip-path=\"url(#clip6902)\" style=\"fill:#000000; stroke:none; fill-opacity:1\" cx=\"1798.55\" cy=\"665.136\" r=\"18\"/>\n",
       "<circle clip-path=\"url(#clip6902)\" style=\"fill:#c68125; stroke:none; fill-opacity:1\" cx=\"1798.55\" cy=\"665.136\" r=\"14\"/>\n",
       "<circle clip-path=\"url(#clip6902)\" style=\"fill:#000000; stroke:none; fill-opacity:1\" cx=\"1798.55\" cy=\"641.005\" r=\"18\"/>\n",
       "<circle clip-path=\"url(#clip6902)\" style=\"fill:#c68125; stroke:none; fill-opacity:1\" cx=\"1798.55\" cy=\"641.005\" r=\"14\"/>\n",
       "<circle clip-path=\"url(#clip6902)\" style=\"fill:#000000; stroke:none; fill-opacity:1\" cx=\"1798.55\" cy=\"594.54\" r=\"18\"/>\n",
       "<circle clip-path=\"url(#clip6902)\" style=\"fill:#c68125; stroke:none; fill-opacity:1\" cx=\"1798.55\" cy=\"594.54\" r=\"14\"/>\n",
       "<circle clip-path=\"url(#clip6902)\" style=\"fill:#000000; stroke:none; fill-opacity:1\" cx=\"1798.55\" cy=\"582.136\" r=\"18\"/>\n",
       "<circle clip-path=\"url(#clip6902)\" style=\"fill:#c68125; stroke:none; fill-opacity:1\" cx=\"1798.55\" cy=\"582.136\" r=\"14\"/>\n",
       "<circle clip-path=\"url(#clip6902)\" style=\"fill:#000000; stroke:none; fill-opacity:1\" cx=\"1798.55\" cy=\"645.608\" r=\"18\"/>\n",
       "<circle clip-path=\"url(#clip6902)\" style=\"fill:#c68125; stroke:none; fill-opacity:1\" cx=\"1798.55\" cy=\"645.608\" r=\"14\"/>\n",
       "<circle clip-path=\"url(#clip6902)\" style=\"fill:#000000; stroke:none; fill-opacity:1\" cx=\"1798.55\" cy=\"581.498\" r=\"18\"/>\n",
       "<circle clip-path=\"url(#clip6902)\" style=\"fill:#c68125; stroke:none; fill-opacity:1\" cx=\"1798.55\" cy=\"581.498\" r=\"14\"/>\n",
       "<path clip-path=\"url(#clip6902)\" d=\"\n",
       "M1798.55 570.076 L1716.26 570.076 L1880.84 570.076 L1798.55 570.076 L1798.55 422.162 L1798.55 570.076  Z\n",
       "  \" fill=\"#c68125\" fill-rule=\"evenodd\" fill-opacity=\"1\"/>\n",
       "<polyline clip-path=\"url(#clip6902)\" style=\"stroke:#000000; stroke-width:4; stroke-opacity:1; fill:none\" points=\"\n",
       "  1798.55,570.076 1716.26,570.076 1880.84,570.076 1798.55,570.076 1798.55,422.162 1798.55,570.076 \n",
       "  \"/>\n",
       "<path clip-path=\"url(#clip6902)\" d=\"\n",
       "M1716.26 422.162 L1716.26 370.449 L1880.84 370.449 L1880.84 422.162 L1716.26 422.162 L1716.26 422.162  Z\n",
       "  \" fill=\"#c68125\" fill-rule=\"evenodd\" fill-opacity=\"1\"/>\n",
       "<polyline clip-path=\"url(#clip6902)\" style=\"stroke:#000000; stroke-width:4; stroke-opacity:1; fill:none\" points=\"\n",
       "  1716.26,422.162 1716.26,370.449 1880.84,370.449 1880.84,422.162 1716.26,422.162 \n",
       "  \"/>\n",
       "<path clip-path=\"url(#clip6902)\" d=\"\n",
       "M1716.26 322.491 L1716.26 370.449 L1880.84 370.449 L1880.84 322.491 L1716.26 322.491 L1716.26 322.491  Z\n",
       "  \" fill=\"#c68125\" fill-rule=\"evenodd\" fill-opacity=\"1\"/>\n",
       "<polyline clip-path=\"url(#clip6902)\" style=\"stroke:#000000; stroke-width:4; stroke-opacity:1; fill:none\" points=\"\n",
       "  1716.26,322.491 1716.26,370.449 1880.84,370.449 1880.84,322.491 1716.26,322.491 \n",
       "  \"/>\n",
       "<path clip-path=\"url(#clip6902)\" d=\"\n",
       "M1798.55 178.518 L1716.26 178.518 L1880.84 178.518 L1798.55 178.518 L1798.55 322.491 L1798.55 178.518  Z\n",
       "  \" fill=\"#c68125\" fill-rule=\"evenodd\" fill-opacity=\"1\"/>\n",
       "<polyline clip-path=\"url(#clip6902)\" style=\"stroke:#000000; stroke-width:4; stroke-opacity:1; fill:none\" points=\"\n",
       "  1798.55,178.518 1716.26,178.518 1880.84,178.518 1798.55,178.518 1798.55,322.491 1798.55,178.518 \n",
       "  \"/>\n",
       "<circle clip-path=\"url(#clip6902)\" style=\"fill:#000000; stroke:none; fill-opacity:1\" cx=\"2004.27\" cy=\"598.594\" r=\"18\"/>\n",
       "<circle clip-path=\"url(#clip6902)\" style=\"fill:#00a98d; stroke:none; fill-opacity:1\" cx=\"2004.27\" cy=\"598.594\" r=\"14\"/>\n",
       "<circle clip-path=\"url(#clip6902)\" style=\"fill:#000000; stroke:none; fill-opacity:1\" cx=\"2004.27\" cy=\"578.903\" r=\"18\"/>\n",
       "<circle clip-path=\"url(#clip6902)\" style=\"fill:#00a98d; stroke:none; fill-opacity:1\" cx=\"2004.27\" cy=\"578.903\" r=\"14\"/>\n",
       "<circle clip-path=\"url(#clip6902)\" style=\"fill:#000000; stroke:none; fill-opacity:1\" cx=\"2004.27\" cy=\"168.61\" r=\"18\"/>\n",
       "<circle clip-path=\"url(#clip6902)\" style=\"fill:#00a98d; stroke:none; fill-opacity:1\" cx=\"2004.27\" cy=\"168.61\" r=\"14\"/>\n",
       "<circle clip-path=\"url(#clip6902)\" style=\"fill:#000000; stroke:none; fill-opacity:1\" cx=\"2004.27\" cy=\"619.8\" r=\"18\"/>\n",
       "<circle clip-path=\"url(#clip6902)\" style=\"fill:#00a98d; stroke:none; fill-opacity:1\" cx=\"2004.27\" cy=\"619.8\" r=\"14\"/>\n",
       "<circle clip-path=\"url(#clip6902)\" style=\"fill:#000000; stroke:none; fill-opacity:1\" cx=\"2004.27\" cy=\"574.27\" r=\"18\"/>\n",
       "<circle clip-path=\"url(#clip6902)\" style=\"fill:#00a98d; stroke:none; fill-opacity:1\" cx=\"2004.27\" cy=\"574.27\" r=\"14\"/>\n",
       "<circle clip-path=\"url(#clip6902)\" style=\"fill:#000000; stroke:none; fill-opacity:1\" cx=\"2004.27\" cy=\"624.238\" r=\"18\"/>\n",
       "<circle clip-path=\"url(#clip6902)\" style=\"fill:#00a98d; stroke:none; fill-opacity:1\" cx=\"2004.27\" cy=\"624.238\" r=\"14\"/>\n",
       "<circle clip-path=\"url(#clip6902)\" style=\"fill:#000000; stroke:none; fill-opacity:1\" cx=\"2004.27\" cy=\"581.498\" r=\"18\"/>\n",
       "<circle clip-path=\"url(#clip6902)\" style=\"fill:#00a98d; stroke:none; fill-opacity:1\" cx=\"2004.27\" cy=\"581.498\" r=\"14\"/>\n",
       "<path clip-path=\"url(#clip6902)\" d=\"\n",
       "M2004.27 567.749 L1921.98 567.749 L2086.56 567.749 L2004.27 567.749 L2004.27 421.124 L2004.27 567.749  Z\n",
       "  \" fill=\"#00a98d\" fill-rule=\"evenodd\" fill-opacity=\"1\"/>\n",
       "<polyline clip-path=\"url(#clip6902)\" style=\"stroke:#000000; stroke-width:4; stroke-opacity:1; fill:none\" points=\"\n",
       "  2004.27,567.749 1921.98,567.749 2086.56,567.749 2004.27,567.749 2004.27,421.124 2004.27,567.749 \n",
       "  \"/>\n",
       "<path clip-path=\"url(#clip6902)\" d=\"\n",
       "M1921.98 421.124 L1921.98 367.796 L2086.56 367.796 L2086.56 421.124 L1921.98 421.124 L1921.98 421.124  Z\n",
       "  \" fill=\"#00a98d\" fill-rule=\"evenodd\" fill-opacity=\"1\"/>\n",
       "<polyline clip-path=\"url(#clip6902)\" style=\"stroke:#000000; stroke-width:4; stroke-opacity:1; fill:none\" points=\"\n",
       "  1921.98,421.124 1921.98,367.796 2086.56,367.796 2086.56,421.124 1921.98,421.124 \n",
       "  \"/>\n",
       "<path clip-path=\"url(#clip6902)\" d=\"\n",
       "M1921.98 320.771 L1921.98 367.796 L2086.56 367.796 L2086.56 320.771 L1921.98 320.771 L1921.98 320.771  Z\n",
       "  \" fill=\"#00a98d\" fill-rule=\"evenodd\" fill-opacity=\"1\"/>\n",
       "<polyline clip-path=\"url(#clip6902)\" style=\"stroke:#000000; stroke-width:4; stroke-opacity:1; fill:none\" points=\"\n",
       "  1921.98,320.771 1921.98,367.796 2086.56,367.796 2086.56,320.771 1921.98,320.771 \n",
       "  \"/>\n",
       "<path clip-path=\"url(#clip6902)\" d=\"\n",
       "M2004.27 180.635 L1921.98 180.635 L2086.56 180.635 L2004.27 180.635 L2004.27 320.771 L2004.27 180.635  Z\n",
       "  \" fill=\"#00a98d\" fill-rule=\"evenodd\" fill-opacity=\"1\"/>\n",
       "<polyline clip-path=\"url(#clip6902)\" style=\"stroke:#000000; stroke-width:4; stroke-opacity:1; fill:none\" points=\"\n",
       "  2004.27,180.635 1921.98,180.635 2086.56,180.635 2004.27,180.635 2004.27,320.771 2004.27,180.635 \n",
       "  \"/>\n",
       "<circle clip-path=\"url(#clip6902)\" style=\"fill:#000000; stroke:none; fill-opacity:1\" cx=\"2209.99\" cy=\"567.749\" r=\"18\"/>\n",
       "<circle clip-path=\"url(#clip6902)\" style=\"fill:#8e971d; stroke:none; fill-opacity:1\" cx=\"2209.99\" cy=\"567.749\" r=\"14\"/>\n",
       "<circle clip-path=\"url(#clip6902)\" style=\"fill:#000000; stroke:none; fill-opacity:1\" cx=\"2209.99\" cy=\"584.273\" r=\"18\"/>\n",
       "<circle clip-path=\"url(#clip6902)\" style=\"fill:#8e971d; stroke:none; fill-opacity:1\" cx=\"2209.99\" cy=\"584.273\" r=\"14\"/>\n",
       "<circle clip-path=\"url(#clip6902)\" style=\"fill:#000000; stroke:none; fill-opacity:1\" cx=\"2209.99\" cy=\"641.371\" r=\"18\"/>\n",
       "<circle clip-path=\"url(#clip6902)\" style=\"fill:#8e971d; stroke:none; fill-opacity:1\" cx=\"2209.99\" cy=\"641.371\" r=\"14\"/>\n",
       "<circle clip-path=\"url(#clip6902)\" style=\"fill:#000000; stroke:none; fill-opacity:1\" cx=\"2209.99\" cy=\"619.8\" r=\"18\"/>\n",
       "<circle clip-path=\"url(#clip6902)\" style=\"fill:#8e971d; stroke:none; fill-opacity:1\" cx=\"2209.99\" cy=\"619.8\" r=\"14\"/>\n",
       "<circle clip-path=\"url(#clip6902)\" style=\"fill:#000000; stroke:none; fill-opacity:1\" cx=\"2209.99\" cy=\"574.27\" r=\"18\"/>\n",
       "<circle clip-path=\"url(#clip6902)\" style=\"fill:#8e971d; stroke:none; fill-opacity:1\" cx=\"2209.99\" cy=\"574.27\" r=\"14\"/>\n",
       "<circle clip-path=\"url(#clip6902)\" style=\"fill:#000000; stroke:none; fill-opacity:1\" cx=\"2209.99\" cy=\"566.632\" r=\"18\"/>\n",
       "<circle clip-path=\"url(#clip6902)\" style=\"fill:#8e971d; stroke:none; fill-opacity:1\" cx=\"2209.99\" cy=\"566.632\" r=\"14\"/>\n",
       "<circle clip-path=\"url(#clip6902)\" style=\"fill:#000000; stroke:none; fill-opacity:1\" cx=\"2209.99\" cy=\"564.135\" r=\"18\"/>\n",
       "<circle clip-path=\"url(#clip6902)\" style=\"fill:#8e971d; stroke:none; fill-opacity:1\" cx=\"2209.99\" cy=\"564.135\" r=\"14\"/>\n",
       "<circle clip-path=\"url(#clip6902)\" style=\"fill:#000000; stroke:none; fill-opacity:1\" cx=\"2209.99\" cy=\"582.136\" r=\"18\"/>\n",
       "<circle clip-path=\"url(#clip6902)\" style=\"fill:#8e971d; stroke:none; fill-opacity:1\" cx=\"2209.99\" cy=\"582.136\" r=\"14\"/>\n",
       "<circle clip-path=\"url(#clip6902)\" style=\"fill:#000000; stroke:none; fill-opacity:1\" cx=\"2209.99\" cy=\"567.749\" r=\"18\"/>\n",
       "<circle clip-path=\"url(#clip6902)\" style=\"fill:#8e971d; stroke:none; fill-opacity:1\" cx=\"2209.99\" cy=\"567.749\" r=\"14\"/>\n",
       "<circle clip-path=\"url(#clip6902)\" style=\"fill:#000000; stroke:none; fill-opacity:1\" cx=\"2209.99\" cy=\"624.238\" r=\"18\"/>\n",
       "<circle clip-path=\"url(#clip6902)\" style=\"fill:#8e971d; stroke:none; fill-opacity:1\" cx=\"2209.99\" cy=\"624.238\" r=\"14\"/>\n",
       "<circle clip-path=\"url(#clip6902)\" style=\"fill:#000000; stroke:none; fill-opacity:1\" cx=\"2209.99\" cy=\"564.135\" r=\"18\"/>\n",
       "<circle clip-path=\"url(#clip6902)\" style=\"fill:#8e971d; stroke:none; fill-opacity:1\" cx=\"2209.99\" cy=\"564.135\" r=\"14\"/>\n",
       "<circle clip-path=\"url(#clip6902)\" style=\"fill:#000000; stroke:none; fill-opacity:1\" cx=\"2209.99\" cy=\"581.498\" r=\"18\"/>\n",
       "<circle clip-path=\"url(#clip6902)\" style=\"fill:#8e971d; stroke:none; fill-opacity:1\" cx=\"2209.99\" cy=\"581.498\" r=\"14\"/>\n",
       "<path clip-path=\"url(#clip6902)\" d=\"\n",
       "M2209.99 559.56 L2127.7 559.56 L2292.27 559.56 L2209.99 559.56 L2209.99 417.347 L2209.99 559.56  Z\n",
       "  \" fill=\"#8e971d\" fill-rule=\"evenodd\" fill-opacity=\"1\"/>\n",
       "<polyline clip-path=\"url(#clip6902)\" style=\"stroke:#000000; stroke-width:4; stroke-opacity:1; fill:none\" points=\"\n",
       "  2209.99,559.56 2127.7,559.56 2292.27,559.56 2209.99,559.56 2209.99,417.347 2209.99,559.56 \n",
       "  \"/>\n",
       "<path clip-path=\"url(#clip6902)\" d=\"\n",
       "M2127.7 417.347 L2127.7 367.125 L2292.27 367.125 L2292.27 417.347 L2127.7 417.347 L2127.7 417.347  Z\n",
       "  \" fill=\"#8e971d\" fill-rule=\"evenodd\" fill-opacity=\"1\"/>\n",
       "<polyline clip-path=\"url(#clip6902)\" style=\"stroke:#000000; stroke-width:4; stroke-opacity:1; fill:none\" points=\"\n",
       "  2127.7,417.347 2127.7,367.125 2292.27,367.125 2292.27,417.347 2127.7,417.347 \n",
       "  \"/>\n",
       "<path clip-path=\"url(#clip6902)\" d=\"\n",
       "M2127.7 322.491 L2127.7 367.125 L2292.27 367.125 L2292.27 322.491 L2127.7 322.491 L2127.7 322.491  Z\n",
       "  \" fill=\"#8e971d\" fill-rule=\"evenodd\" fill-opacity=\"1\"/>\n",
       "<polyline clip-path=\"url(#clip6902)\" style=\"stroke:#000000; stroke-width:4; stroke-opacity:1; fill:none\" points=\"\n",
       "  2127.7,322.491 2127.7,367.125 2292.27,367.125 2292.27,322.491 2127.7,322.491 \n",
       "  \"/>\n",
       "<path clip-path=\"url(#clip6902)\" d=\"\n",
       "M2209.99 184.225 L2127.7 184.225 L2292.27 184.225 L2209.99 184.225 L2209.99 322.491 L2209.99 184.225  Z\n",
       "  \" fill=\"#8e971d\" fill-rule=\"evenodd\" fill-opacity=\"1\"/>\n",
       "<polyline clip-path=\"url(#clip6902)\" style=\"stroke:#000000; stroke-width:4; stroke-opacity:1; fill:none\" points=\"\n",
       "  2209.99,184.225 2127.7,184.225 2292.27,184.225 2209.99,184.225 2209.99,322.491 2209.99,184.225 \n",
       "  \"/>\n",
       "</svg>\n"
      ]
     },
     "execution_count": 15,
     "metadata": {},
     "output_type": "execute_result"
    }
   ],
   "source": [
    "num_trials_per_depth = 1000\n",
    "tree_depths = [1,2,3,4,5,6,7,8,9,-1]\n",
    "\n",
    "accuracies = zeros(num_trials_per_depth,length(tree_depths));\n",
    "\n",
    "for trial in 1:num_trials_per_depth\n",
    "    \n",
    "    training_filter = rand(Bernoulli(0.75), nrow(mur_df)) .== 1;\n",
    "    test_filter = map(!, training_filter);\n",
    "    \n",
    "    for (depth_ii, depth_limit) in enumerate(tree_depths)\n",
    "           \n",
    "        trained_model = build_tree(mur_labels[training_filter,1], mur_features[training_filter,:], 0, depth_limit);\n",
    "        mur_predictions = apply_tree(trained_model, mur_features[test_filter, :]);\n",
    "        trained_model_accuracy = confusion_matrix(mur_predictions, mur_labels[test_filter,1]).accuracy\n",
    "\n",
    "        accuracies[trial, depth_ii] = trained_model_accuracy\n",
    "    end\n",
    "end\n",
    "\n",
    "series_labels = map(string, tree_depths)\n",
    "series_labels[series_labels.==\"-1\"] .= \"Inf\"\n",
    "\n",
    "boxplot(accuracies,leg=false, xlabel = \"Maximum tree depth\", ylabel= \"Accuracy on witheld test data\", ylim = (0.5,1.0))\n",
    "xticks!([1:length(tree_depths);], series_labels)"
   ]
  },
  {
   "cell_type": "markdown",
   "metadata": {},
   "source": [
    "### Minimal perturbations for sample reclassification\n",
    "\n",
    "First, we pull out a single sample not used in training (here, test sample #10)."
   ]
  },
  {
   "cell_type": "code",
   "execution_count": 16,
   "metadata": {},
   "outputs": [],
   "source": [
    "sample = mur_features[mur_test,:][10,:];"
   ]
  },
  {
   "cell_type": "markdown",
   "metadata": {},
   "source": [
    "We can see that the model's initial classification of this sample is ESC, and that in this case the model's prediction agrees with the sample's true (hidden) label"
   ]
  },
  {
   "cell_type": "code",
   "execution_count": 17,
   "metadata": {},
   "outputs": [
    {
     "data": {
      "text/plain": [
       "\"ESC\""
      ]
     },
     "execution_count": 17,
     "metadata": {},
     "output_type": "execute_result"
    }
   ],
   "source": [
    "# Model's initial classification of the sample returns ESC\n",
    "og_label = apply_tree(mur_model, sample)"
   ]
  },
  {
   "cell_type": "code",
   "execution_count": 18,
   "metadata": {},
   "outputs": [
    {
     "data": {
      "text/plain": [
       "true"
      ]
     },
     "execution_count": 18,
     "metadata": {},
     "output_type": "execute_result"
    }
   ],
   "source": [
    "# Compare to hidden (real) label\n",
    "og_label == mur_df[:Classification][10]"
   ]
  },
  {
   "cell_type": "markdown",
   "metadata": {},
   "source": [
    "We then stipulate a target label that we wish the sample to be reclassified as"
   ]
  },
  {
   "cell_type": "code",
   "execution_count": 19,
   "metadata": {},
   "outputs": [
    {
     "data": {
      "text/plain": [
       "\"EPI\""
      ]
     },
     "execution_count": 19,
     "metadata": {},
     "output_type": "execute_result"
    }
   ],
   "source": [
    "target_label = \"EPI\""
   ]
  },
  {
   "cell_type": "markdown",
   "metadata": {},
   "source": [
    "Now given the learnt decision tree model, the sample and the target label for that sample we can generate the minimal sets of perturbations which would cause the model to reclassify the sample appropriately."
   ]
  },
  {
   "cell_type": "code",
   "execution_count": 39,
   "metadata": {
    "scrolled": true
   },
   "outputs": [
    {
     "data": {
      "text/plain": [
       "12-element Array{Float64,1}:\n",
       "  2.5738743         \n",
       "  3.7126699199999997\n",
       "  3.7553881099999984\n",
       "  4.94443776        \n",
       "  5.418937140000001 \n",
       "  9.74              \n",
       " 11.75727275        \n",
       " 12.90702275        \n",
       " 14.219564669999999 \n",
       " 18.715900570000002 \n",
       " 21.51367715        \n",
       " 22.63956467        "
      ]
     },
     "execution_count": 39,
     "metadata": {},
     "output_type": "execute_result"
    }
   ],
   "source": [
    "perturbations = CellFateDecisionTrees.generate_sample_mutations(mur_df, mur_model, sample, target_label)\n",
    "perturbations[:Total_distance]"
   ]
  },
  {
   "cell_type": "code",
   "execution_count": 40,
   "metadata": {},
   "outputs": [
    {
     "data": {
      "text/plain": [
       "8-element Array{Symbol,1}:\n",
       " :Factor        \n",
       " :Nodes         \n",
       " :Genes         \n",
       " :Gene_ids      \n",
       " :Distances     \n",
       " :Adjusted_label\n",
       " :Altered_sample\n",
       " :Total_distance"
      ]
     },
     "execution_count": 40,
     "metadata": {},
     "output_type": "execute_result"
    }
   ],
   "source": [
    "names(perturbations)"
   ]
  },
  {
   "cell_type": "markdown",
   "metadata": {},
   "source": [
    "These sets of perturbations are ranked by sum absolute path edit distance. We see that the topmost ranked set requires *Mef2a* expression in the sample to be increased by +1.29.. and for *Klf4* expression to be reduced by 1.28.. in order for the sample to be reclassified as EPI. Note that each set of perturbations (each row in the returned dataframe) corresponds to each unique path through the learnt decision tree model ending with a leaf node of the target class.\n",
    "\n",
    "We can confirm that the adjusted samples are appropriately reclassified by the learnt model"
   ]
  },
  {
   "cell_type": "code",
   "execution_count": 41,
   "metadata": {
    "scrolled": true
   },
   "outputs": [
    {
     "data": {
      "text/plain": [
       "true"
      ]
     },
     "execution_count": 41,
     "metadata": {},
     "output_type": "execute_result"
    }
   ],
   "source": [
    "altered_sample = convert(typeof(sample), perturbations[:Altered_sample][1])\n",
    "target_label == apply_tree(mur_model, altered_sample)"
   ]
  },
  {
   "cell_type": "markdown",
   "metadata": {},
   "source": [
    "### Resolving embryogenesis in *Xenopus tropicalis*\n",
    "\n",
    "Blah Blah *Xenopus tropicalis* blah blah. Firstly, we need to read in the larger *Xenopus* dataset to a Julia Dataframe (this takes ~10 minutes, much longer than all subsequent model generation from the data) "
   ]
  },
  {
   "cell_type": "code",
   "execution_count": 45,
   "metadata": {},
   "outputs": [
    {
     "name": "stderr",
     "output_type": "stream",
     "text": [
      "┌ Warning: readtable is deprecated, use CSV.read from the CSV package instead\n",
      "│   caller = top-level scope at In[45]:1\n",
      "└ @ Core In[45]:1\n"
     ]
    }
   ],
   "source": [
    "xen_df = readtable(\"../data/xenopus/xenopus_expression.csv\");"
   ]
  },
  {
   "cell_type": "code",
   "execution_count": null,
   "metadata": {},
   "outputs": [],
   "source": [
    "xen_df_trial = readtable(\"../data/xenopus/expr_transposed.csv\", skipstart = 1, header = true)\n",
    "delete!(xen_df_trial,1)"
   ]
  },
  {
   "cell_type": "code",
   "execution_count": null,
   "metadata": {},
   "outputs": [],
   "source": [
    "xen_df"
   ]
  },
  {
   "cell_type": "code",
   "execution_count": null,
   "metadata": {},
   "outputs": [],
   "source": [
    "xen_df_trial"
   ]
  },
  {
   "cell_type": "code",
   "execution_count": 47,
   "metadata": {},
   "outputs": [
    {
     "name": "stderr",
     "output_type": "stream",
     "text": [
      "┌ Warning: readtable is deprecated, use CSV.read from the CSV package instead\n",
      "│   caller = top-level scope at In[47]:1\n",
      "└ @ Core In[47]:1\n"
     ]
    }
   ],
   "source": [
    "# Read in the associated annotations, adding the Celltype label to the xen_df\n",
    "xen_labels = readtable(\"../data/xenopus/xenopus_annotations.csv\");\n",
    "\n",
    "xen_df[:Classification] = xen_labels[:Cluster_Label];"
   ]
  },
  {
   "cell_type": "code",
   "execution_count": 28,
   "metadata": {},
   "outputs": [
    {
     "name": "stderr",
     "output_type": "stream",
     "text": [
      "┌ Warning: `delete!(df::AbstractDataFrame, cols::Any)` is deprecated, use `deletecols!(df, cols)` instead.\n",
      "│   caller = top-level scope at In[28]:4\n",
      "└ @ Core In[28]:4\n"
     ]
    }
   ],
   "source": [
    "# Read in the associated annotations, adding the Celltype label to the df\n",
    "xen_annotations_trial = readtable(\"../data/xenopus/expr_cell_groupings_transposed.csv\",\n",
    " skipstart = 1, header = true)\n",
    "delete!(xen_annotations_trial,1);"
   ]
  },
  {
   "cell_type": "code",
   "execution_count": 29,
   "metadata": {},
   "outputs": [
    {
     "ename": "UndefVarError",
     "evalue": "UndefVarError: xen_df_trial not defined",
     "output_type": "error",
     "traceback": [
      "UndefVarError: xen_df_trial not defined",
      "",
      "Stacktrace:",
      " [1] top-level scope at In[29]:1"
     ]
    }
   ],
   "source": [
    "xen_df_trial[:Classification] = xen_annotations_trial[:Cluster_Label];"
   ]
  },
  {
   "cell_type": "code",
   "execution_count": 30,
   "metadata": {},
   "outputs": [
    {
     "ename": "UndefVarError",
     "evalue": "UndefVarError: xen_df_trial not defined",
     "output_type": "error",
     "traceback": [
      "UndefVarError: xen_df_trial not defined",
      "",
      "Stacktrace:",
      " [1] top-level scope at In[30]:1"
     ]
    }
   ],
   "source": [
    "xen_df_trial"
   ]
  },
  {
   "cell_type": "code",
   "execution_count": 31,
   "metadata": {},
   "outputs": [
    {
     "ename": "UndefVarError",
     "evalue": "UndefVarError: xen_df_trial not defined",
     "output_type": "error",
     "traceback": [
      "UndefVarError: xen_df_trial not defined",
      "",
      "Stacktrace:",
      " [1] top-level scope at ./In[31]:2"
     ]
    }
   ],
   "source": [
    "updated_names = []\n",
    "\n",
    "for gene_name in names(xen_df_trial)\n",
    "    parts = split(string(gene_name), \"_\")\n",
    "        \n",
    "    if length(parts) > 1\n",
    "        if length(parts[1]) >= 3\n",
    "            if (parts[1][1:3] == \"LOC\") | (parts[1][1:3] == \"Xet\")\n",
    "                push!(updated_names, join(parts[2:end], \"_\"))     \n",
    "            else\n",
    "                push!(updated_names, parts[1])\n",
    "            end\n",
    "        else\n",
    "            push!(updated_names, gene_name)\n",
    "        end\n",
    "    else\n",
    "        push!(updated_names, gene_name)\n",
    "            \n",
    "    end\n",
    "end"
   ]
  },
  {
   "cell_type": "code",
   "execution_count": 32,
   "metadata": {},
   "outputs": [
    {
     "data": {
      "text/plain": [
       "0-element Array{Symbol,1}"
      ]
     },
     "execution_count": 32,
     "metadata": {},
     "output_type": "execute_result"
    }
   ],
   "source": [
    "b = map(Symbol, updated_names)"
   ]
  },
  {
   "cell_type": "code",
   "execution_count": 33,
   "metadata": {},
   "outputs": [
    {
     "ename": "UndefVarError",
     "evalue": "UndefVarError: xen_df_trial not defined",
     "output_type": "error",
     "traceback": [
      "UndefVarError: xen_df_trial not defined",
      "",
      "Stacktrace:",
      " [1] top-level scope at In[33]:1"
     ]
    }
   ],
   "source": [
    "names!(xen_df_trial, b, makeunique = true)"
   ]
  },
  {
   "cell_type": "code",
   "execution_count": 34,
   "metadata": {},
   "outputs": [
    {
     "data": {
      "text/plain": [
       "0-element Array{String,1}"
      ]
     },
     "execution_count": 34,
     "metadata": {},
     "output_type": "execute_result"
    }
   ],
   "source": [
    "number_names = map(string, collect(1:length(updated_names)))"
   ]
  },
  {
   "cell_type": "code",
   "execution_count": 35,
   "metadata": {},
   "outputs": [
    {
     "ename": "UndefVarError",
     "evalue": "UndefVarError: xen_df_trial not defined",
     "output_type": "error",
     "traceback": [
      "UndefVarError: xen_df_trial not defined",
      "",
      "Stacktrace:",
      " [1] top-level scope at In[35]:1"
     ]
    }
   ],
   "source": [
    "names(xen_df_trial)"
   ]
  },
  {
   "cell_type": "markdown",
   "metadata": {},
   "source": [
    "Read in the known hierarchy information linking the different cell classes. We can pull out the hierarchical relationships for the developmental stages that we are interested in e.g. here Stage08 - Stage14 (the full dataset extends to stage 22)"
   ]
  },
  {
   "cell_type": "code",
   "execution_count": 48,
   "metadata": {},
   "outputs": [
    {
     "name": "stderr",
     "output_type": "stream",
     "text": [
      "┌ Warning: readtable is deprecated, use CSV.read from the CSV package instead\n",
      "│   caller = top-level scope at In[48]:1\n",
      "└ @ Core In[48]:1\n"
     ]
    },
    {
     "data": {
      "text/html": [
       "<table class=\"data-frame\"><thead><tr><th></th><th>Cluster_id</th><th>Stage</th><th>Cluster_name</th><th>Parent</th><th>Node_class</th></tr><tr><th></th><th>Int64⍰</th><th>Int64⍰</th><th>String⍰</th><th>Int64⍰</th><th>String⍰</th></tr></thead><tbody><p>46 rows × 5 columns</p><tr><th>1</th><td>1</td><td>8</td><td>S08-blastula</td><td>0</td><td>internal</td></tr><tr><th>2</th><td>2</td><td>10</td><td>S10-neuroectoderm</td><td>1</td><td>internal</td></tr><tr><th>3</th><td>3</td><td>10</td><td>S10-non-neural ectoderm</td><td>1</td><td>internal</td></tr><tr><th>4</th><td>4</td><td>10</td><td>S10-marginal zone</td><td>1</td><td>internal</td></tr><tr><th>5</th><td>5</td><td>10</td><td>S10-Spemann organizer (mesoderm)</td><td>1</td><td>internal</td></tr><tr><th>6</th><td>6</td><td>10</td><td>S10-Spemann organizer (endoderm)</td><td>1</td><td>internal</td></tr><tr><th>7</th><td>7</td><td>10</td><td>S10-endoderm</td><td>1</td><td>internal</td></tr><tr><th>8</th><td>8</td><td>12</td><td>S12-neural plate</td><td>2</td><td>internal</td></tr><tr><th>9</th><td>9</td><td>12</td><td>S12-non-neural ectoderm</td><td>3</td><td>internal</td></tr><tr><th>10</th><td>10</td><td>12</td><td>S12-ciliated epidermal progenitor</td><td>3</td><td>internal</td></tr><tr><th>11</th><td>11</td><td>12</td><td>S12-ionocyte</td><td>3</td><td>internal</td></tr><tr><th>12</th><td>12</td><td>12</td><td>S12-notochord</td><td>5</td><td>internal</td></tr><tr><th>13</th><td>13</td><td>12</td><td>S12-involuted dorsal mesoderm</td><td>4</td><td>internal</td></tr><tr><th>14</th><td>14</td><td>12</td><td>S12-tail bud</td><td>4</td><td>internal</td></tr><tr><th>15</th><td>15</td><td>12</td><td>S12-involuted ventral mesoderm</td><td>4</td><td>internal</td></tr><tr><th>16</th><td>16</td><td>12</td><td>S12-Spemann organizer (endoderm)</td><td>6</td><td>internal</td></tr><tr><th>17</th><td>17</td><td>12</td><td>S12-endoderm</td><td>7</td><td>internal</td></tr><tr><th>18</th><td>18</td><td>14</td><td>S14-goblet cell</td><td>9</td><td>internal</td></tr><tr><th>19</th><td>19</td><td>14</td><td>S14-neural crest</td><td>8</td><td>internal</td></tr><tr><th>20</th><td>20</td><td>14</td><td>S14-early neuron</td><td>8</td><td>internal</td></tr><tr><th>21</th><td>21</td><td>14</td><td>S14-chordal neural plate</td><td>8</td><td>internal</td></tr><tr><th>22</th><td>22</td><td>14</td><td>S14-notoplate</td><td>8</td><td>internal</td></tr><tr><th>23</th><td>23</td><td>14</td><td>S14-anterior placodal area</td><td>9</td><td>internal</td></tr><tr><th>24</th><td>24</td><td>14</td><td>S14-epidermal - ctbs</td><td>9</td><td>internal</td></tr><tr><th>25</th><td>25</td><td>14</td><td>S14-eye primordium</td><td>8</td><td>internal</td></tr><tr><th>26</th><td>26</td><td>14</td><td>S14-anterior neural plate - nkx2-1/nkx2-4</td><td>8</td><td>internal</td></tr><tr><th>27</th><td>27</td><td>14</td><td>S14-epidermal - collagen</td><td>9</td><td>internal</td></tr><tr><th>28</th><td>28</td><td>14</td><td>S14-hatching gland</td><td>9</td><td>internal</td></tr><tr><th>29</th><td>29</td><td>14</td><td>S14-tail bud</td><td>14</td><td>internal</td></tr><tr><th>30</th><td>30</td><td>14</td><td>S14-anterior neural plate - fezf1</td><td>8</td><td>internal</td></tr><tr><th>&vellip;</th><td>&vellip;</td><td>&vellip;</td><td>&vellip;</td><td>&vellip;</td><td>&vellip;</td></tr></tbody></table>"
      ],
      "text/latex": [
       "\\begin{tabular}{r|ccccc}\n",
       "\t& Cluster\\_id & Stage & Cluster\\_name & Parent & Node\\_class\\\\\n",
       "\t\\hline\n",
       "\t& Int64⍰ & Int64⍰ & String⍰ & Int64⍰ & String⍰\\\\\n",
       "\t\\hline\n",
       "\t1 & 1 & 8 & S08-blastula & 0 & internal \\\\\n",
       "\t2 & 2 & 10 & S10-neuroectoderm & 1 & internal \\\\\n",
       "\t3 & 3 & 10 & S10-non-neural ectoderm & 1 & internal \\\\\n",
       "\t4 & 4 & 10 & S10-marginal zone & 1 & internal \\\\\n",
       "\t5 & 5 & 10 & S10-Spemann organizer (mesoderm) & 1 & internal \\\\\n",
       "\t6 & 6 & 10 & S10-Spemann organizer (endoderm) & 1 & internal \\\\\n",
       "\t7 & 7 & 10 & S10-endoderm & 1 & internal \\\\\n",
       "\t8 & 8 & 12 & S12-neural plate & 2 & internal \\\\\n",
       "\t9 & 9 & 12 & S12-non-neural ectoderm & 3 & internal \\\\\n",
       "\t10 & 10 & 12 & S12-ciliated epidermal progenitor & 3 & internal \\\\\n",
       "\t11 & 11 & 12 & S12-ionocyte & 3 & internal \\\\\n",
       "\t12 & 12 & 12 & S12-notochord & 5 & internal \\\\\n",
       "\t13 & 13 & 12 & S12-involuted dorsal mesoderm & 4 & internal \\\\\n",
       "\t14 & 14 & 12 & S12-tail bud & 4 & internal \\\\\n",
       "\t15 & 15 & 12 & S12-involuted ventral mesoderm & 4 & internal \\\\\n",
       "\t16 & 16 & 12 & S12-Spemann organizer (endoderm) & 6 & internal \\\\\n",
       "\t17 & 17 & 12 & S12-endoderm & 7 & internal \\\\\n",
       "\t18 & 18 & 14 & S14-goblet cell & 9 & internal \\\\\n",
       "\t19 & 19 & 14 & S14-neural crest & 8 & internal \\\\\n",
       "\t20 & 20 & 14 & S14-early neuron & 8 & internal \\\\\n",
       "\t21 & 21 & 14 & S14-chordal neural plate & 8 & internal \\\\\n",
       "\t22 & 22 & 14 & S14-notoplate & 8 & internal \\\\\n",
       "\t23 & 23 & 14 & S14-anterior placodal area & 9 & internal \\\\\n",
       "\t24 & 24 & 14 & S14-epidermal - ctbs & 9 & internal \\\\\n",
       "\t25 & 25 & 14 & S14-eye primordium & 8 & internal \\\\\n",
       "\t26 & 26 & 14 & S14-anterior neural plate - nkx2-1/nkx2-4 & 8 & internal \\\\\n",
       "\t27 & 27 & 14 & S14-epidermal - collagen & 9 & internal \\\\\n",
       "\t28 & 28 & 14 & S14-hatching gland & 9 & internal \\\\\n",
       "\t29 & 29 & 14 & S14-tail bud & 14 & internal \\\\\n",
       "\t30 & 30 & 14 & S14-anterior neural plate - fezf1 & 8 & internal \\\\\n",
       "\t$\\dots$ & $\\dots$ & $\\dots$ & $\\dots$ & $\\dots$ & $\\dots$ \\\\\n",
       "\\end{tabular}\n"
      ],
      "text/plain": [
       "46×5 DataFrame. Omitted printing of 1 columns\n",
       "│ Row │ Cluster_id │ Stage  │ Cluster_name                      │ Parent │\n",
       "│     │ \u001b[90mInt64⍰\u001b[39m     │ \u001b[90mInt64⍰\u001b[39m │ \u001b[90mUnion{Missing, String}\u001b[39m            │ \u001b[90mInt64⍰\u001b[39m │\n",
       "├─────┼────────────┼────────┼───────────────────────────────────┼────────┤\n",
       "│ 1   │ 1          │ 8      │ S08-blastula                      │ 0      │\n",
       "│ 2   │ 2          │ 10     │ S10-neuroectoderm                 │ 1      │\n",
       "│ 3   │ 3          │ 10     │ S10-non-neural ectoderm           │ 1      │\n",
       "│ 4   │ 4          │ 10     │ S10-marginal zone                 │ 1      │\n",
       "│ 5   │ 5          │ 10     │ S10-Spemann organizer (mesoderm)  │ 1      │\n",
       "│ 6   │ 6          │ 10     │ S10-Spemann organizer (endoderm)  │ 1      │\n",
       "│ 7   │ 7          │ 10     │ S10-endoderm                      │ 1      │\n",
       "│ 8   │ 8          │ 12     │ S12-neural plate                  │ 2      │\n",
       "│ 9   │ 9          │ 12     │ S12-non-neural ectoderm           │ 3      │\n",
       "│ 10  │ 10         │ 12     │ S12-ciliated epidermal progenitor │ 3      │\n",
       "⋮\n",
       "│ 36  │ 36         │ 14     │ S14-chordal neural plate border   │ 8      │\n",
       "│ 37  │ 37         │ 14     │ S14-ciliated epidermal progenitor │ 10     │\n",
       "│ 38  │ 38         │ 14     │ S14-lateral plate mesoderm        │ 15     │\n",
       "│ 39  │ 39         │ 14     │ S14-intermediate mesoderm         │ 13     │\n",
       "│ 40  │ 40         │ 14     │ S14-neuroendocrine cell           │ 9      │\n",
       "│ 41  │ 41         │ 14     │ S14-notochord                     │ 12     │\n",
       "│ 42  │ 42         │ 14     │ S14-somite                        │ 13     │\n",
       "│ 43  │ 43         │ 14     │ S14-migrating myeloid progenitors │ 15     │\n",
       "│ 44  │ 44         │ 14     │ S14-intermediate mesoderm -ssg1   │ 13     │\n",
       "│ 45  │ 45         │ 14     │ S14-Spemann organizer (endoderm)  │ 16     │\n",
       "│ 46  │ 46         │ 14     │ S14-endoderm                      │ 17     │"
      ]
     },
     "execution_count": 48,
     "metadata": {},
     "output_type": "execute_result"
    }
   ],
   "source": [
    "hierarchy = readtable(\"../data/xenopus/known_lineage_hierarchy.csv\")\n",
    "hierarchy_early = hierarchy[hierarchy[:Stage].<= 14,:]"
   ]
  },
  {
   "cell_type": "markdown",
   "metadata": {},
   "source": [
    "Now we can generate the individual decision trees for each branching point in the known hierarchy and stitch them together using the <code>lineage_map</code> function. The resulting text output can be used for visualisation at http://sankeymatic.com/build/"
   ]
  },
  {
   "cell_type": "code",
   "execution_count": 52,
   "metadata": {},
   "outputs": [
    {
     "name": "stderr",
     "output_type": "stream",
     "text": [
      "┌ Warning: `convert(::Type{Array{T}}, df::AbstractDataFrame) where T` is deprecated, use `convert(Matrix{T}, df)` instead.\n",
      "│   caller = lineage_map(::DataFrame, ::DataFrame, ::DataFrame, ::String, ::Int64) at CellFateDecisionTrees.jl:252\n",
      "└ @ Main.CellFateDecisionTrees /Users/ivanv/Documents/julia_code/CellFateDecisionTrees/code/CellFateDecisionTrees.jl:252\n"
     ]
    },
    {
     "name": "stdout",
     "output_type": "stream",
     "text": [
      "before\n",
      "after\n",
      "before\n"
     ]
    },
    {
     "ename": "ArgumentError",
     "evalue": "ArgumentError: collection must be non-empty",
     "output_type": "error",
     "traceback": [
      "ArgumentError: collection must be non-empty",
      "",
      "Stacktrace:",
      " [1] _findmax at ./array.jl:2055 [inlined]",
      " [2] #findmax#577 at ./reducedim.jl:813 [inlined]",
      " [3] #findmax at ./none:0 [inlined]",
      " [4] #argmax#579 at ./reducedim.jl:878 [inlined]",
      " [5] argmax at ./reducedim.jl:878 [inlined]",
      " [6] _split!(::Array{Float64,2}, ::Array{Int64,1}, ::Array{Float64,1}, ::typeof(DecisionTree.treeclassifier.util.entropy), ::DecisionTree.treeclassifier.NodeMeta{Float64}, ::Int64, ::Int64, ::Int64, ::Int64, ::Float64, ::Array{Int64,1}, ::Array{Float64,1}, ::Array{Float64,1}, ::Array{Float64,1}, ::Array{Float64,1}, ::Array{Int64,1}, ::Array{Float64,1}, ::MersenneTwister) at /Users/ivanv/.julia/packages/DecisionTree/nfB7O/src/classification/tree.jl:77",
      " [7] _fit(::Array{Float64,2}, ::Array{Int64,1}, ::Array{Float64,1}, ::Function, ::Int64, ::Int64, ::Int64, ::Int64, ::Int64, ::Float64, ::MersenneTwister) at /Users/ivanv/.julia/packages/DecisionTree/nfB7O/src/classification/tree.jl:288",
      " [8] #fit#1(::Array{Float64,2}, ::Array{String,1}, ::Nothing, ::Int64, ::Int64, ::Int64, ::Int64, ::Float64, ::MersenneTwister, ::typeof(DecisionTree.treeclassifier.fit)) at /Users/ivanv/.julia/packages/DecisionTree/nfB7O/src/classification/tree.jl:333",
      " [9] (::getfield(DecisionTree.treeclassifier, Symbol(\"#kw##fit\")))(::NamedTuple{(:X, :Y, :W, :max_features, :max_depth, :min_samples_leaf, :min_samples_split, :min_purity_increase, :rng),Tuple{Array{Float64,2},Array{String,1},Nothing,Int64,Int64,Int64,Int64,Float64,MersenneTwister}}, ::typeof(DecisionTree.treeclassifier.fit)) at ./none:0",
      " [10] #build_tree#15(::MersenneTwister, ::Function, ::Array{String,1}, ::Array{Float64,2}, ::Int64, ::Int64, ::Int64, ::Int64, ::Float64) at /Users/ivanv/.julia/packages/DecisionTree/nfB7O/src/classification/main.jl:91",
      " [11] build_tree at /Users/ivanv/.julia/packages/DecisionTree/nfB7O/src/classification/main.jl:83 [inlined] (repeats 2 times)",
      " [12] lineage_map(::DataFrame, ::DataFrame, ::DataFrame, ::String, ::Int64) at /Users/ivanv/Documents/julia_code/CellFateDecisionTrees/code/CellFateDecisionTrees.jl:255",
      " [13] top-level scope at In[52]:3"
     ]
    }
   ],
   "source": [
    "output_filename = \"../supplementary/xenopus_sankey_output_text.txt\"\n",
    "individual_tree_depth_limit = 6\n",
    "\n",
    "CellFateDecisionTrees.lineage_map(xen_df, xen_labels, hierarchy_early, output_filename, individual_tree_depth_limit)"
   ]
  },
  {
   "cell_type": "markdown",
   "metadata": {},
   "source": [
    "For legibility, here we show the assembled figure with integer encodings for the nodes. The corresponding node information (features, thresholds, cell class) are provided in the supplementary [node encodings file](../supplementary/xenopus_sankey_node_codes.txt). <img src=\"../figures/xenopus_sankey.png\">"
   ]
  },
  {
   "cell_type": "code",
   "execution_count": null,
   "metadata": {},
   "outputs": [],
   "source": []
  }
 ],
 "metadata": {
  "@webio": {
   "lastCommId": null,
   "lastKernelId": null
  },
  "kernelspec": {
   "display_name": "Julia 1.1.1",
   "language": "julia",
   "name": "julia-1.1"
  },
  "language_info": {
   "file_extension": ".jl",
   "mimetype": "application/julia",
   "name": "julia",
   "version": "1.1.1"
  }
 },
 "nbformat": 4,
 "nbformat_minor": 2
}
